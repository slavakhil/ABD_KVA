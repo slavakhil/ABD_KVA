{
  "cells": [
    {
      "cell_type": "markdown",
      "metadata": {
        "id": "y9frNcPuI3vT"
      },
      "source": [
        "![Title](Images/cisco.png)"
      ]
    },
    {
      "cell_type": "markdown",
      "metadata": {
        "id": "OrbDc06DI3vV"
      },
      "source": [
        "# Lab - Internet Meter Data Analysis"
      ]
    },
    {
      "cell_type": "markdown",
      "metadata": {
        "id": "npMk7nTPI3vW"
      },
      "source": [
        "### Objectives\n",
        "<li>**Part 1: Collect and Store Data**</li>\n",
        "<li>**Part 2: Manipulate Data**</li>\n",
        "### Scenario/Background\n",
        "In this lab, you will acquire Internet speed statistics and store the live data in a comma separated values (csv) file. You will also load the stored data from the csv file to a Python data structure, the Pandas `DataFrame`, and use its functionalities to explore the data and manipulate it so that it is easily readable.\n",
        "### Required Resources\n",
        "* 1 PC with Internet access\n",
        "* Raspberry Pi version 2 or higher\n",
        "* Python libraries: datetime, csv, subprocess, pandas, numpy\n",
        "* Datafiles: rpi_data_long.csv"
      ]
    },
    {
      "cell_type": "markdown",
      "metadata": {
        "id": "bmh6_gOyI3vW"
      },
      "source": [
        "## Part 1: Collect and Store Data\n",
        "<p>The goal of this first part of the lab is to gather internet speed measurements through the Raspberry Pi. Three kinds of measurements will be collected:\n",
        "1. Ping speed\n",
        "2. Download speed\n",
        "3. Upload speed"
      ]
    },
    {
      "cell_type": "markdown",
      "metadata": {
        "id": "bYJ_XnYLI3vX"
      },
      "source": [
        "#### Step 1: Install Speedtest and Import Python Libraries.\n",
        "In this step, you will install Speedtest and import Python libraries.\n",
        "<p>Speedtest-cli is a Python script that measures the upload and download speed of your Internet connection. For more information about speedtest, go to https://github.com/sivel/speedtest-cli."
      ]
    },
    {
      "cell_type": "markdown",
      "metadata": {
        "id": "Vqyi3pLuI3vX"
      },
      "source": [
        "a) Install `speedtest-cli`."
      ]
    },
    {
      "cell_type": "code",
      "execution_count": 1,
      "metadata": {
        "collapsed": true,
        "colab": {
          "base_uri": "https://localhost:8080/"
        },
        "id": "-FFPvmbxI3vX",
        "outputId": "6525ecf1-b504-4e01-a790-ee624a6bd506"
      },
      "outputs": [
        {
          "output_type": "stream",
          "name": "stdout",
          "text": [
            "Collecting speedtest-cli\n",
            "  Downloading speedtest_cli-2.1.3-py2.py3-none-any.whl (23 kB)\n",
            "Installing collected packages: speedtest-cli\n",
            "Successfully installed speedtest-cli-2.1.3\n"
          ]
        }
      ],
      "source": [
        "# Code cell 1\n",
        "!pip install speedtest-cli"
      ]
    },
    {
      "cell_type": "markdown",
      "metadata": {
        "id": "TTQdxqWKI3vY"
      },
      "source": [
        "This cli allows the Jupyter notebook to connect to the website and store the data."
      ]
    },
    {
      "cell_type": "markdown",
      "metadata": {
        "id": "D8HsmnyKI3vY"
      },
      "source": [
        "b) Import the necessary Python libraries."
      ]
    },
    {
      "cell_type": "code",
      "execution_count": 2,
      "metadata": {
        "collapsed": true,
        "id": "kgW2AgZpI3vY"
      },
      "outputs": [],
      "source": [
        "# Code cell 2\n",
        "# Python library to manage date and time data\n",
        "import datetime\n",
        "# Python library to read and write csv files\n",
        "import csv\n",
        "# Python library to execute bash commands from the notebook.\n",
        "# If you want to know more about this, check this resource:\n",
        "# http://www.pythonforbeginners.com/os/subprocess-for-system-administrators\n",
        "import subprocess"
      ]
    },
    {
      "cell_type": "markdown",
      "metadata": {
        "id": "1p4HN3AGI3vZ"
      },
      "source": [
        "#### Step 2: Generate timestamps using the `datetime` package.\n",
        "In this lab, measurements of Internet speed statistics will be generated. A crucial step in data acquisition for the majority of data analytics applications, is to associate a timestamp to measurements."
      ]
    },
    {
      "cell_type": "markdown",
      "metadata": {
        "id": "T5hn14tzI3vZ"
      },
      "source": [
        "a) To generate a timestamp, use the `datetime.now` function of the `datetime` package:"
      ]
    },
    {
      "cell_type": "code",
      "execution_count": 3,
      "metadata": {
        "collapsed": true,
        "colab": {
          "base_uri": "https://localhost:8080/"
        },
        "id": "Z2ZdGzg8I3va",
        "outputId": "43bb44ee-89fa-4dd2-dff3-3214f198c1ea"
      },
      "outputs": [
        {
          "output_type": "stream",
          "name": "stdout",
          "text": [
            "2024-02-21 10:11:15.157396 <class 'datetime.datetime'>\n"
          ]
        }
      ],
      "source": [
        "# Code cell 3\n",
        "date_time = datetime.datetime.now()\n",
        "print(date_time, type(date_time))"
      ]
    },
    {
      "cell_type": "markdown",
      "metadata": {
        "id": "nWJuCv40I3vb"
      },
      "source": [
        "b) An instance of the class `datetime` cannot be directly written to in text form. The function `strftime` parses the date information into a string. The arguments of this function determine the format of the output sting. A description of these parameters can be found in the documentation of the `strftime` function at https://docs.python.org/2/library/time.html."
      ]
    },
    {
      "cell_type": "code",
      "execution_count": 4,
      "metadata": {
        "collapsed": true,
        "colab": {
          "base_uri": "https://localhost:8080/",
          "height": 36
        },
        "id": "D94aN6k-I3vb",
        "outputId": "6f98b3c7-928c-4065-8471-fad67cdbadd5"
      },
      "outputs": [
        {
          "output_type": "execute_result",
          "data": {
            "text/plain": [
              "'Wed, 21 Feb 2024 10:11:15'"
            ],
            "application/vnd.google.colaboratory.intrinsic+json": {
              "type": "string"
            }
          },
          "metadata": {},
          "execution_count": 4
        }
      ],
      "source": [
        "# Code cell 4\n",
        "date_time.strftime('%a, %d %b %Y %H:%M:%S')"
      ]
    },
    {
      "cell_type": "markdown",
      "metadata": {
        "id": "twj6V3wSI3vc"
      },
      "source": [
        "After reading the documentation of the `strftime` function, generate a timestamp and parse it into a string with the following format: YYYY-MM-DD HH:MM:SS."
      ]
    },
    {
      "cell_type": "code",
      "execution_count": 5,
      "metadata": {
        "collapsed": true,
        "colab": {
          "base_uri": "https://localhost:8080/",
          "height": 36
        },
        "id": "leFIhvATI3vc",
        "outputId": "a1b420ac-395e-49c7-c84a-51d5968d2dd9"
      },
      "outputs": [
        {
          "output_type": "execute_result",
          "data": {
            "text/plain": [
              "'2024-02-21 10:11:15'"
            ],
            "application/vnd.google.colaboratory.intrinsic+json": {
              "type": "string"
            }
          },
          "metadata": {},
          "execution_count": 5
        }
      ],
      "source": [
        "# Code cell 5\n",
        "# enter your code\n",
        "date_time.strftime('%Y-%m-%d %H:%M:%S')"
      ]
    },
    {
      "cell_type": "markdown",
      "metadata": {
        "id": "72RQpLeUI3vc"
      },
      "source": [
        "#### Step 3: Run the process and collect the output with Python.\n",
        "\n",
        "The `speedtest-cli` command, if run from a terminal, returns a string with download and upload speeds. To run the command from this notebook, it is necessary to use the Python module `subprocess`, which allows running a process directly from the notebook code cell."
      ]
    },
    {
      "cell_type": "markdown",
      "metadata": {
        "id": "csuNX-eLI3vc"
      },
      "source": [
        "a) Run a speed test using the `speedtest-cli` command from Python. The output will be stored in the process_output variable."
      ]
    },
    {
      "cell_type": "code",
      "execution_count": 6,
      "metadata": {
        "collapsed": true,
        "id": "ROXjxYwXI3vd"
      },
      "outputs": [],
      "source": [
        "# Code cell 6\n",
        "# This string contains the command line to interface with speedtest.net\n",
        "speedtest_cmd = \"speedtest-cli --simple\"\n",
        "# Execute the process\n",
        "process = subprocess.Popen(speedtest_cmd.split(), stdout=subprocess.PIPE)\n",
        "# Collect the command output\n",
        "process_output = process.communicate()[0]"
      ]
    },
    {
      "cell_type": "markdown",
      "metadata": {
        "id": "fo-1m22vI3vd"
      },
      "source": [
        "b) Print the process output. Notice the type for the `process_output` variable."
      ]
    },
    {
      "cell_type": "code",
      "execution_count": 7,
      "metadata": {
        "collapsed": true,
        "colab": {
          "base_uri": "https://localhost:8080/"
        },
        "id": "rrNfytAPI3vd",
        "outputId": "098eb2ae-1db1-4755-cce3-4929b7db5ced"
      },
      "outputs": [
        {
          "output_type": "stream",
          "name": "stdout",
          "text": [
            "b'Ping: 15.23 ms\\nDownload: 1233.94 Mbit/s\\nUpload: 700.02 Mbit/s\\n' <class 'bytes'>\n"
          ]
        }
      ],
      "source": [
        "# Code cell 7\n",
        "print(process_output, type(process_output))"
      ]
    },
    {
      "cell_type": "markdown",
      "metadata": {
        "id": "ZzxivtOwI3vd"
      },
      "source": [
        "c) The speed test result is split, and a timestamp is appended to the results."
      ]
    },
    {
      "cell_type": "code",
      "execution_count": 8,
      "metadata": {
        "collapsed": true,
        "colab": {
          "base_uri": "https://localhost:8080/"
        },
        "id": "0JDJlO-0I3ve",
        "outputId": "137f1e20-5f2d-4a5d-8322-57d14efe0aa3"
      },
      "outputs": [
        {
          "output_type": "stream",
          "name": "stdout",
          "text": [
            "[b'Ping:', b'15.23', b'ms', b'Download:', b'1233.94', b'Mbit/s', b'Upload:', b'700.02', b'Mbit/s', '2024-02-21 10:12:07'] <class 'list'>\n"
          ]
        }
      ],
      "source": [
        "# Code cell 8\n",
        "# Store the time at which the speedtest was executed\n",
        "date_time = datetime.datetime.now().strftime(\"%Y-%m-%d %H:%M:%S\")\n",
        "process_output = process_output.split()\n",
        "process_output.append(date_time)\n",
        "print(process_output, type(process_output))"
      ]
    },
    {
      "cell_type": "markdown",
      "metadata": {
        "id": "OBdzCMtYI3ve"
      },
      "source": [
        "d) The speedtest() function is created to return the results from the speedtest-cli command."
      ]
    },
    {
      "cell_type": "code",
      "execution_count": 9,
      "metadata": {
        "collapsed": true,
        "id": "BP3Ppn2WI3ve"
      },
      "outputs": [],
      "source": [
        "# Code cell 9\n",
        "# function to excute the speed test\n",
        "def speedtest():\n",
        "    # We need to store the time at which the speedtest was executed\n",
        "    date_time = datetime.datetime.now().strftime(\"%Y-%m-%d %H:%M:%S\")\n",
        "    # This is a string that contains what we would write on the command line\n",
        "    #to interface with speedtest.net\n",
        "    speedtest_cmd = \"speedtest-cli --simple\"\n",
        "    # We now execute the process:\n",
        "    process = subprocess.Popen(speedtest_cmd.split(), stdout=subprocess.PIPE)\n",
        "    process_output = process.communicate()[0]\n",
        "    process_output = process_output.split()\n",
        "    # and we add the date and time\n",
        "    process_output.append(date_time)\n",
        "    return process_output"
      ]
    },
    {
      "cell_type": "markdown",
      "metadata": {
        "id": "IaJAswjFI3ve"
      },
      "source": [
        "What does the speedtest() function return? What is the code to view results from the speedtest() function?"
      ]
    },
    {
      "cell_type": "markdown",
      "metadata": {
        "id": "-bw3SNcUI3ve"
      },
      "source": []
    },
    {
      "cell_type": "code",
      "execution_count": 10,
      "metadata": {
        "collapsed": true,
        "colab": {
          "base_uri": "https://localhost:8080/"
        },
        "id": "wwX55I-qI3vf",
        "outputId": "dadeef81-8b8b-41e0-cdf8-2319750a015e"
      },
      "outputs": [
        {
          "output_type": "stream",
          "name": "stdout",
          "text": [
            "[b'Ping:', b'15.972', b'ms', b'Download:', b'2657.51', b'Mbit/s', b'Upload:', b'601.80', b'Mbit/s', '2024-02-21 10:12:33']\n"
          ]
        }
      ],
      "source": [
        "# Code cell 10\n",
        "# Code to view the results from speedtest() function\n",
        "print(speedtest())"
      ]
    },
    {
      "cell_type": "markdown",
      "metadata": {
        "id": "S-RmPqMcI3vf"
      },
      "source": [
        "#### Step 4: Store the output of the `speedtest()` function.\n",
        "\n",
        "The comma separated values (csv) is the most common import and export format for spreadsheets and databases. To learn more information about working with csv in Python, navigate to https://docs.python.org/2/library/csv.html."
      ]
    },
    {
      "cell_type": "markdown",
      "metadata": {
        "id": "zZ8rrRmEI3vf"
      },
      "source": [
        "a) Create a file named test.txt in the /tmp directory and write \"test_msg\" in the file."
      ]
    },
    {
      "cell_type": "code",
      "execution_count": 12,
      "metadata": {
        "collapsed": true,
        "id": "6JjwVQkaI3vf"
      },
      "outputs": [],
      "source": [
        "# Code cell 11\n",
        "with open(\"/tmp/test.txt\",'w') as f:\n",
        "    f.write('test_msg')"
      ]
    },
    {
      "cell_type": "markdown",
      "metadata": {
        "id": "DtEp6RyjI3vf"
      },
      "source": [
        "b) Use the Linux command `cat` to verify the creation and content of the file."
      ]
    },
    {
      "cell_type": "code",
      "execution_count": 13,
      "metadata": {
        "collapsed": true,
        "colab": {
          "base_uri": "https://localhost:8080/"
        },
        "id": "P1exFvMgI3vf",
        "outputId": "a02cbf3a-7f8f-461d-acb5-048b075408b7"
      },
      "outputs": [
        {
          "output_type": "stream",
          "name": "stdout",
          "text": [
            "test_msg"
          ]
        }
      ],
      "source": [
        "# Code cell 12\n",
        "!cat /tmp/test.txt"
      ]
    },
    {
      "cell_type": "markdown",
      "metadata": {
        "id": "fgc93pluI3vg"
      },
      "source": [
        "c) To check that the file was successfully open:"
      ]
    },
    {
      "cell_type": "code",
      "execution_count": 14,
      "metadata": {
        "collapsed": true,
        "colab": {
          "base_uri": "https://localhost:8080/"
        },
        "id": "7loz27cHI3vg",
        "outputId": "a2721b51-c96a-4701-d919-b177ae837ce6"
      },
      "outputs": [
        {
          "output_type": "stream",
          "name": "stdout",
          "text": [
            "test_msg\n"
          ]
        }
      ],
      "source": [
        "# Code cell 13\n",
        "with open(\"/tmp/test.txt\",'r') as f:\n",
        "   str = f.read()\n",
        "print(str)"
      ]
    },
    {
      "cell_type": "markdown",
      "metadata": {
        "id": "Q2z9puCvI3vg"
      },
      "source": [
        "d) Understanding the meaning of the `with` statement, especially in combination with `try` and `except` is not required for the rest of this lab, but a useful resource about this is http://effbot.org/zone/python-with-statement.htm.\n",
        "<p>\n",
        "To write into a `csv` file, it is necessary to create a `csv.writer` object. Check https://docs.python.org/2/library/csv.html and find out which function of the 'csv.writer' object can be used to add a row to a `csv` file."
      ]
    },
    {
      "cell_type": "code",
      "execution_count": 17,
      "metadata": {
        "collapsed": true,
        "id": "0EryJja_I3vg"
      },
      "outputs": [],
      "source": [
        "# Code cell 14\n",
        "# function to save data to csv\n",
        "def save_to_csv(data, filename):\n",
        "    try:\n",
        "        # If the file exists, we want to append a new line to it, with the\n",
        "        #results of the current experiment\n",
        "        with open(filename + '.csv', 'a') as f:\n",
        "            wr = csv.writer(f)\n",
        "            wr.writerow(data)\n",
        "    except:\n",
        "        # If it does not exist, create the file first\n",
        "        with open(filename + '.csv', 'w') as f:\n",
        "            wr.writerow(data)"
      ]
    },
    {
      "cell_type": "markdown",
      "metadata": {
        "id": "oHjMlxMpI3vg"
      },
      "source": [
        "#### Step 5: Check the collected data.\n",
        "Write a function to open a csv file and print its content to screen. You can find an example in the 13.1.5 section of https://docs.python.org/2/library/csv.html"
      ]
    },
    {
      "cell_type": "code",
      "execution_count": 18,
      "metadata": {
        "collapsed": true,
        "id": "fie9rwgoI3vh"
      },
      "outputs": [],
      "source": [
        "# Code cell 15\n",
        "def print_from_csv(filename):\n",
        "    with open(filename + '.csv', 'r') as f:\n",
        "            re = csv.reader(f)\n",
        "            for row in re:\n",
        "              print(row)"
      ]
    },
    {
      "cell_type": "markdown",
      "metadata": {
        "id": "E_omr07AI3vh"
      },
      "source": [
        "Now, all the functions needed to collect and store Internet speed data are finished.\n",
        "#### Step 6: Run the Speedtest multiple times and store the data.\n",
        "a) Write a `for` loop that calls the speedtest 5 times, prints the output of the tests, and stores the data in a csv file."
      ]
    },
    {
      "cell_type": "code",
      "execution_count": 20,
      "metadata": {
        "collapsed": true,
        "colab": {
          "base_uri": "https://localhost:8080/"
        },
        "id": "sBxg65hnI3vh",
        "outputId": "4992a7f0-fd50-4d39-8467-09e5d08f0d57"
      },
      "outputs": [
        {
          "output_type": "stream",
          "name": "stdout",
          "text": [
            "Test number 0\n",
            "[b'Ping:', b'13.136', b'ms', b'Download:', b'2971.76', b'Mbit/s', b'Upload:', b'615.86', b'Mbit/s', '2024-02-21 10:14:52']\n",
            "Test number 1\n",
            "[b'Ping:', b'13.113', b'ms', b'Download:', b'2594.09', b'Mbit/s', b'Upload:', b'677.40', b'Mbit/s', '2024-02-21 10:14:57']\n",
            "Test number 2\n",
            "[b'Ping:', b'15.615', b'ms', b'Download:', b'3051.31', b'Mbit/s', b'Upload:', b'577.89', b'Mbit/s', '2024-02-21 10:15:01']\n",
            "Test number 3\n",
            "[b'Ping:', b'18.694', b'ms', b'Download:', b'2667.63', b'Mbit/s', b'Upload:', b'646.54', b'Mbit/s', '2024-02-21 10:15:05']\n",
            "Test number 4\n",
            "[b'Ping:', b'13.276', b'ms', b'Download:', b'2767.37', b'Mbit/s', b'Upload:', b'638.17', b'Mbit/s', '2024-02-21 10:15:09']\n"
          ]
        }
      ],
      "source": [
        "# Code cell 16\n",
        "for i in range(5):\n",
        "    speedtest_output = speedtest()\n",
        "    print('Test number {}'.format(i))\n",
        "    print(speedtest_output)\n",
        "    save_to_csv(speedtest_output, '/tmp/rpi_data_test')\n",
        ""
      ]
    },
    {
      "cell_type": "markdown",
      "metadata": {
        "id": "CUHI6spiI3vi"
      },
      "source": [
        "b) Display the file to verify that the data has been saved correctly."
      ]
    },
    {
      "cell_type": "code",
      "execution_count": 21,
      "metadata": {
        "collapsed": true,
        "colab": {
          "base_uri": "https://localhost:8080/"
        },
        "id": "0gwlWi0RI3vi",
        "outputId": "be2e76a2-33d4-4618-f20f-5b5321ff13d5"
      },
      "outputs": [
        {
          "output_type": "stream",
          "name": "stdout",
          "text": [
            "[\"b'Ping:'\", \"b'15.3'\", \"b'ms'\", \"b'Download:'\", \"b'2707.11'\", \"b'Mbit/s'\", \"b'Upload:'\", \"b'700.71'\", \"b'Mbit/s'\", '2024-02-21 10:14:30']\n",
            "[\"b'Ping:'\", \"b'23.335'\", \"b'ms'\", \"b'Download:'\", \"b'2615.30'\", \"b'Mbit/s'\", \"b'Upload:'\", \"b'539.70'\", \"b'Mbit/s'\", '2024-02-21 10:14:34']\n",
            "[\"b'Ping:'\", \"b'14.724'\", \"b'ms'\", \"b'Download:'\", \"b'1144.27'\", \"b'Mbit/s'\", \"b'Upload:'\", \"b'716.40'\", \"b'Mbit/s'\", '2024-02-21 10:14:39']\n",
            "[\"b'Ping:'\", \"b'13.136'\", \"b'ms'\", \"b'Download:'\", \"b'2971.76'\", \"b'Mbit/s'\", \"b'Upload:'\", \"b'615.86'\", \"b'Mbit/s'\", '2024-02-21 10:14:52']\n",
            "[\"b'Ping:'\", \"b'13.113'\", \"b'ms'\", \"b'Download:'\", \"b'2594.09'\", \"b'Mbit/s'\", \"b'Upload:'\", \"b'677.40'\", \"b'Mbit/s'\", '2024-02-21 10:14:57']\n",
            "[\"b'Ping:'\", \"b'15.615'\", \"b'ms'\", \"b'Download:'\", \"b'3051.31'\", \"b'Mbit/s'\", \"b'Upload:'\", \"b'577.89'\", \"b'Mbit/s'\", '2024-02-21 10:15:01']\n",
            "[\"b'Ping:'\", \"b'18.694'\", \"b'ms'\", \"b'Download:'\", \"b'2667.63'\", \"b'Mbit/s'\", \"b'Upload:'\", \"b'646.54'\", \"b'Mbit/s'\", '2024-02-21 10:15:05']\n",
            "[\"b'Ping:'\", \"b'13.276'\", \"b'ms'\", \"b'Download:'\", \"b'2767.37'\", \"b'Mbit/s'\", \"b'Upload:'\", \"b'638.17'\", \"b'Mbit/s'\", '2024-02-21 10:15:09']\n"
          ]
        }
      ],
      "source": [
        "# Code cell 17\n",
        "print_from_csv('/tmp/rpi_data_test')\n"
      ]
    },
    {
      "cell_type": "markdown",
      "metadata": {
        "id": "1B556Q7qI3vi"
      },
      "source": [
        "If a bigger dataset is needed, the speedtest can be running in the background for more samples.\n",
        "\n",
        "How would you change the code if you wanted to run the code 100 times?"
      ]
    },
    {
      "cell_type": "markdown",
      "metadata": {
        "collapsed": true,
        "id": "Oq2XhnN-I3vi"
      },
      "source": []
    },
    {
      "cell_type": "code",
      "execution_count": null,
      "metadata": {
        "collapsed": true,
        "id": "6TPk6YH_I3vi"
      },
      "outputs": [],
      "source": [
        "# Code cell 18\n",
        "# Code to run 100 times\n",
        "# for i in xrange(100):\n",
        "#     speedtest_output = speedtest()\n",
        "#     print 'Test number: {}'.format(i)\n",
        "#     print speedtest_output\n",
        "#     save_to_csv(speedtest_output, '/tmp/rpi_data')"
      ]
    },
    {
      "cell_type": "markdown",
      "metadata": {
        "id": "-xQvoB3_I3vj"
      },
      "source": [
        "## Part 2: Manipulate Data"
      ]
    },
    {
      "cell_type": "markdown",
      "metadata": {
        "id": "L2oiWHv9I3vj"
      },
      "source": [
        "The Python library `pandas` is very useful for working with structured data. The full documentation can be found here: http://pandas.pydata.org/pandas-docs/version/0.14.1/</font>\n",
        "\n",
        "A larger dataset collected in advance will be used for this part of the lab. The filename is `rpi_data_long.csv`.\n",
        "\n",
        "#### Step 1: Import the Python libraries.\n",
        "\n",
        "Import `pandas` and the other libraries used for the next tasks."
      ]
    },
    {
      "cell_type": "code",
      "execution_count": 22,
      "metadata": {
        "collapsed": true,
        "id": "MBuC6hCPI3vj"
      },
      "outputs": [],
      "source": [
        "# Code cell 19\n",
        "import datetime\n",
        "import csv\n",
        "import pandas as pd\n",
        "# NumPy is a library that adds support for large, multi-dimensional arrays and matrices\n",
        "# along with high-level mathematical functions to operate on these arrays\n",
        "import numpy as np"
      ]
    },
    {
      "cell_type": "markdown",
      "metadata": {
        "id": "9j_V4qaOI3vj"
      },
      "source": [
        "#### Step 2: Load the `csv` file into a `DataFrame` object using `pandas`.\n",
        "\n",
        "A `pandas DataFrame` is a 2-dimensional labeled data structure with columns of potentially different types. You can think of it like a spreadsheet or SQL table. The pandas library function `read_csv` automatically converts a `csv` file into a `DataFrame` object.\n",
        "\n",
        "Read the `read_csv` documentation in http://pandas.pydata.org/pandas-docs/version/0.14.1/generated/pandas.read_csv.html.\n",
        "This function contains a lot of parameters. The only non-optional one is the `filepath`, i.e. the location of the `csv` file. All the other parameters are optional.\n",
        "\n",
        "In this step, you will import and view the content of the csv file, `rpi_data_long.csv`. This csv file is located in the same directory as this Jupyter notebook."
      ]
    },
    {
      "cell_type": "markdown",
      "metadata": {
        "id": "hDrSP0-OI3vj"
      },
      "source": [
        "a) Assign the file `rpi_data_long.csv` to the variable `data_file`."
      ]
    },
    {
      "cell_type": "code",
      "execution_count": 26,
      "metadata": {
        "collapsed": true,
        "id": "2qRA9AjZI3vj"
      },
      "outputs": [],
      "source": [
        "# Code cell 20\n",
        "data_file = './Data/rpi_data_long.csv'"
      ]
    },
    {
      "cell_type": "markdown",
      "metadata": {
        "id": "j_tDT2i7I3vk"
      },
      "source": [
        "b) Use the Linux command `head` to view the first 10 lines of the csv file."
      ]
    },
    {
      "cell_type": "code",
      "execution_count": 27,
      "metadata": {
        "collapsed": true,
        "scrolled": true,
        "colab": {
          "base_uri": "https://localhost:8080/"
        },
        "id": "O9nus_o-I3vk",
        "outputId": "4a4ce015-bff8-403e-9278-bc36fe3c92c7"
      },
      "outputs": [
        {
          "output_type": "stream",
          "name": "stdout",
          "text": [
            "Ping:,26.992,ms,Download:,91.80,Mbit/s,Upload:,14.31,Mbit/s,2016-11-24 13:36:25\r\n",
            "Ping:,24.532,ms,Download:,88.19,Mbit/s,Upload:,14.12,Mbit/s,2016-11-24 13:36:55\r\n",
            "Ping:,20.225,ms,Download:,59.86,Mbit/s,Upload:,14.11,Mbit/s,2016-11-24 13:37:25\r\n",
            "Ping:,19.332,ms,Download:,91.81,Mbit/s,Upload:,14.22,Mbit/s,2016-11-24 13:37:57\r\n",
            "Ping:,22.494,ms,Download:,92.05,Mbit/s,Upload:,14.08,Mbit/s,2016-11-24 13:38:27\r\n"
          ]
        }
      ],
      "source": [
        "# Code cell 21\n",
        "!head -n 5 ./Data/rpi_data_long.csv"
      ]
    },
    {
      "cell_type": "markdown",
      "metadata": {
        "id": "rPVJYoxoI3vk"
      },
      "source": [
        "c) Use the `names` parameter of the `read_csv` function to specify the name of the `DataFrame` columns."
      ]
    },
    {
      "cell_type": "code",
      "execution_count": 28,
      "metadata": {
        "collapsed": true,
        "id": "9t3waDWaI3vk"
      },
      "outputs": [],
      "source": [
        "# Code cell 22\n",
        "column_names = [ 'Type A', 'Measure A', 'Units A',\n",
        "                 'Type B', 'Measure B', 'Units B',\n",
        "                 'Type C', 'Measure C', 'Units C',\n",
        "                 'Datetime']"
      ]
    },
    {
      "cell_type": "markdown",
      "metadata": {
        "id": "77y4R8GSI3vl"
      },
      "source": [
        "d) Use the `read_csv` function to read from `data_file` and assign `column_names` as the column names in the dataframe."
      ]
    },
    {
      "cell_type": "code",
      "execution_count": 29,
      "metadata": {
        "collapsed": true,
        "id": "4aRJ1GhDI3vl"
      },
      "outputs": [],
      "source": [
        "# Code cell 23\n",
        "with open(data_file, 'r') as f:\n",
        "    df_redundant = pd.read_csv(f, names = column_names)"
      ]
    },
    {
      "cell_type": "markdown",
      "metadata": {
        "id": "yKkAu9FoI3vl"
      },
      "source": [
        "e) The command `head()` displays the first few rows of the dataframe."
      ]
    },
    {
      "cell_type": "code",
      "execution_count": 30,
      "metadata": {
        "collapsed": true,
        "colab": {
          "base_uri": "https://localhost:8080/",
          "height": 206
        },
        "id": "92_68ZmGI3vl",
        "outputId": "07e5702b-3d80-4fea-bc4c-2e4caf961cb3"
      },
      "outputs": [
        {
          "output_type": "execute_result",
          "data": {
            "text/plain": [
              "  Type A Measure A Units A     Type B Measure B Units B   Type C  Measure C  \\\n",
              "0  Ping:    26.992      ms  Download:     91.80  Mbit/s  Upload:      14.31   \n",
              "1  Ping:    24.532      ms  Download:     88.19  Mbit/s  Upload:      14.12   \n",
              "2  Ping:    20.225      ms  Download:     59.86  Mbit/s  Upload:      14.11   \n",
              "3  Ping:    19.332      ms  Download:     91.81  Mbit/s  Upload:      14.22   \n",
              "4  Ping:    22.494      ms  Download:     92.05  Mbit/s  Upload:      14.08   \n",
              "\n",
              "  Units C             Datetime  \n",
              "0  Mbit/s  2016-11-24 13:36:25  \n",
              "1  Mbit/s  2016-11-24 13:36:55  \n",
              "2  Mbit/s  2016-11-24 13:37:25  \n",
              "3  Mbit/s  2016-11-24 13:37:57  \n",
              "4  Mbit/s  2016-11-24 13:38:27  "
            ],
            "text/html": [
              "\n",
              "  <div id=\"df-b5fab92f-311b-4457-85b7-25a60b21aa6f\" class=\"colab-df-container\">\n",
              "    <div>\n",
              "<style scoped>\n",
              "    .dataframe tbody tr th:only-of-type {\n",
              "        vertical-align: middle;\n",
              "    }\n",
              "\n",
              "    .dataframe tbody tr th {\n",
              "        vertical-align: top;\n",
              "    }\n",
              "\n",
              "    .dataframe thead th {\n",
              "        text-align: right;\n",
              "    }\n",
              "</style>\n",
              "<table border=\"1\" class=\"dataframe\">\n",
              "  <thead>\n",
              "    <tr style=\"text-align: right;\">\n",
              "      <th></th>\n",
              "      <th>Type A</th>\n",
              "      <th>Measure A</th>\n",
              "      <th>Units A</th>\n",
              "      <th>Type B</th>\n",
              "      <th>Measure B</th>\n",
              "      <th>Units B</th>\n",
              "      <th>Type C</th>\n",
              "      <th>Measure C</th>\n",
              "      <th>Units C</th>\n",
              "      <th>Datetime</th>\n",
              "    </tr>\n",
              "  </thead>\n",
              "  <tbody>\n",
              "    <tr>\n",
              "      <th>0</th>\n",
              "      <td>Ping:</td>\n",
              "      <td>26.992</td>\n",
              "      <td>ms</td>\n",
              "      <td>Download:</td>\n",
              "      <td>91.80</td>\n",
              "      <td>Mbit/s</td>\n",
              "      <td>Upload:</td>\n",
              "      <td>14.31</td>\n",
              "      <td>Mbit/s</td>\n",
              "      <td>2016-11-24 13:36:25</td>\n",
              "    </tr>\n",
              "    <tr>\n",
              "      <th>1</th>\n",
              "      <td>Ping:</td>\n",
              "      <td>24.532</td>\n",
              "      <td>ms</td>\n",
              "      <td>Download:</td>\n",
              "      <td>88.19</td>\n",
              "      <td>Mbit/s</td>\n",
              "      <td>Upload:</td>\n",
              "      <td>14.12</td>\n",
              "      <td>Mbit/s</td>\n",
              "      <td>2016-11-24 13:36:55</td>\n",
              "    </tr>\n",
              "    <tr>\n",
              "      <th>2</th>\n",
              "      <td>Ping:</td>\n",
              "      <td>20.225</td>\n",
              "      <td>ms</td>\n",
              "      <td>Download:</td>\n",
              "      <td>59.86</td>\n",
              "      <td>Mbit/s</td>\n",
              "      <td>Upload:</td>\n",
              "      <td>14.11</td>\n",
              "      <td>Mbit/s</td>\n",
              "      <td>2016-11-24 13:37:25</td>\n",
              "    </tr>\n",
              "    <tr>\n",
              "      <th>3</th>\n",
              "      <td>Ping:</td>\n",
              "      <td>19.332</td>\n",
              "      <td>ms</td>\n",
              "      <td>Download:</td>\n",
              "      <td>91.81</td>\n",
              "      <td>Mbit/s</td>\n",
              "      <td>Upload:</td>\n",
              "      <td>14.22</td>\n",
              "      <td>Mbit/s</td>\n",
              "      <td>2016-11-24 13:37:57</td>\n",
              "    </tr>\n",
              "    <tr>\n",
              "      <th>4</th>\n",
              "      <td>Ping:</td>\n",
              "      <td>22.494</td>\n",
              "      <td>ms</td>\n",
              "      <td>Download:</td>\n",
              "      <td>92.05</td>\n",
              "      <td>Mbit/s</td>\n",
              "      <td>Upload:</td>\n",
              "      <td>14.08</td>\n",
              "      <td>Mbit/s</td>\n",
              "      <td>2016-11-24 13:38:27</td>\n",
              "    </tr>\n",
              "  </tbody>\n",
              "</table>\n",
              "</div>\n",
              "    <div class=\"colab-df-buttons\">\n",
              "\n",
              "  <div class=\"colab-df-container\">\n",
              "    <button class=\"colab-df-convert\" onclick=\"convertToInteractive('df-b5fab92f-311b-4457-85b7-25a60b21aa6f')\"\n",
              "            title=\"Convert this dataframe to an interactive table.\"\n",
              "            style=\"display:none;\">\n",
              "\n",
              "  <svg xmlns=\"http://www.w3.org/2000/svg\" height=\"24px\" viewBox=\"0 -960 960 960\">\n",
              "    <path d=\"M120-120v-720h720v720H120Zm60-500h600v-160H180v160Zm220 220h160v-160H400v160Zm0 220h160v-160H400v160ZM180-400h160v-160H180v160Zm440 0h160v-160H620v160ZM180-180h160v-160H180v160Zm440 0h160v-160H620v160Z\"/>\n",
              "  </svg>\n",
              "    </button>\n",
              "\n",
              "  <style>\n",
              "    .colab-df-container {\n",
              "      display:flex;\n",
              "      gap: 12px;\n",
              "    }\n",
              "\n",
              "    .colab-df-convert {\n",
              "      background-color: #E8F0FE;\n",
              "      border: none;\n",
              "      border-radius: 50%;\n",
              "      cursor: pointer;\n",
              "      display: none;\n",
              "      fill: #1967D2;\n",
              "      height: 32px;\n",
              "      padding: 0 0 0 0;\n",
              "      width: 32px;\n",
              "    }\n",
              "\n",
              "    .colab-df-convert:hover {\n",
              "      background-color: #E2EBFA;\n",
              "      box-shadow: 0px 1px 2px rgba(60, 64, 67, 0.3), 0px 1px 3px 1px rgba(60, 64, 67, 0.15);\n",
              "      fill: #174EA6;\n",
              "    }\n",
              "\n",
              "    .colab-df-buttons div {\n",
              "      margin-bottom: 4px;\n",
              "    }\n",
              "\n",
              "    [theme=dark] .colab-df-convert {\n",
              "      background-color: #3B4455;\n",
              "      fill: #D2E3FC;\n",
              "    }\n",
              "\n",
              "    [theme=dark] .colab-df-convert:hover {\n",
              "      background-color: #434B5C;\n",
              "      box-shadow: 0px 1px 3px 1px rgba(0, 0, 0, 0.15);\n",
              "      filter: drop-shadow(0px 1px 2px rgba(0, 0, 0, 0.3));\n",
              "      fill: #FFFFFF;\n",
              "    }\n",
              "  </style>\n",
              "\n",
              "    <script>\n",
              "      const buttonEl =\n",
              "        document.querySelector('#df-b5fab92f-311b-4457-85b7-25a60b21aa6f button.colab-df-convert');\n",
              "      buttonEl.style.display =\n",
              "        google.colab.kernel.accessAllowed ? 'block' : 'none';\n",
              "\n",
              "      async function convertToInteractive(key) {\n",
              "        const element = document.querySelector('#df-b5fab92f-311b-4457-85b7-25a60b21aa6f');\n",
              "        const dataTable =\n",
              "          await google.colab.kernel.invokeFunction('convertToInteractive',\n",
              "                                                    [key], {});\n",
              "        if (!dataTable) return;\n",
              "\n",
              "        const docLinkHtml = 'Like what you see? Visit the ' +\n",
              "          '<a target=\"_blank\" href=https://colab.research.google.com/notebooks/data_table.ipynb>data table notebook</a>'\n",
              "          + ' to learn more about interactive tables.';\n",
              "        element.innerHTML = '';\n",
              "        dataTable['output_type'] = 'display_data';\n",
              "        await google.colab.output.renderOutput(dataTable, element);\n",
              "        const docLink = document.createElement('div');\n",
              "        docLink.innerHTML = docLinkHtml;\n",
              "        element.appendChild(docLink);\n",
              "      }\n",
              "    </script>\n",
              "  </div>\n",
              "\n",
              "\n",
              "<div id=\"df-37e12a32-c3af-417f-a908-d0ffa400286d\">\n",
              "  <button class=\"colab-df-quickchart\" onclick=\"quickchart('df-37e12a32-c3af-417f-a908-d0ffa400286d')\"\n",
              "            title=\"Suggest charts\"\n",
              "            style=\"display:none;\">\n",
              "\n",
              "<svg xmlns=\"http://www.w3.org/2000/svg\" height=\"24px\"viewBox=\"0 0 24 24\"\n",
              "     width=\"24px\">\n",
              "    <g>\n",
              "        <path d=\"M19 3H5c-1.1 0-2 .9-2 2v14c0 1.1.9 2 2 2h14c1.1 0 2-.9 2-2V5c0-1.1-.9-2-2-2zM9 17H7v-7h2v7zm4 0h-2V7h2v10zm4 0h-2v-4h2v4z\"/>\n",
              "    </g>\n",
              "</svg>\n",
              "  </button>\n",
              "\n",
              "<style>\n",
              "  .colab-df-quickchart {\n",
              "      --bg-color: #E8F0FE;\n",
              "      --fill-color: #1967D2;\n",
              "      --hover-bg-color: #E2EBFA;\n",
              "      --hover-fill-color: #174EA6;\n",
              "      --disabled-fill-color: #AAA;\n",
              "      --disabled-bg-color: #DDD;\n",
              "  }\n",
              "\n",
              "  [theme=dark] .colab-df-quickchart {\n",
              "      --bg-color: #3B4455;\n",
              "      --fill-color: #D2E3FC;\n",
              "      --hover-bg-color: #434B5C;\n",
              "      --hover-fill-color: #FFFFFF;\n",
              "      --disabled-bg-color: #3B4455;\n",
              "      --disabled-fill-color: #666;\n",
              "  }\n",
              "\n",
              "  .colab-df-quickchart {\n",
              "    background-color: var(--bg-color);\n",
              "    border: none;\n",
              "    border-radius: 50%;\n",
              "    cursor: pointer;\n",
              "    display: none;\n",
              "    fill: var(--fill-color);\n",
              "    height: 32px;\n",
              "    padding: 0;\n",
              "    width: 32px;\n",
              "  }\n",
              "\n",
              "  .colab-df-quickchart:hover {\n",
              "    background-color: var(--hover-bg-color);\n",
              "    box-shadow: 0 1px 2px rgba(60, 64, 67, 0.3), 0 1px 3px 1px rgba(60, 64, 67, 0.15);\n",
              "    fill: var(--button-hover-fill-color);\n",
              "  }\n",
              "\n",
              "  .colab-df-quickchart-complete:disabled,\n",
              "  .colab-df-quickchart-complete:disabled:hover {\n",
              "    background-color: var(--disabled-bg-color);\n",
              "    fill: var(--disabled-fill-color);\n",
              "    box-shadow: none;\n",
              "  }\n",
              "\n",
              "  .colab-df-spinner {\n",
              "    border: 2px solid var(--fill-color);\n",
              "    border-color: transparent;\n",
              "    border-bottom-color: var(--fill-color);\n",
              "    animation:\n",
              "      spin 1s steps(1) infinite;\n",
              "  }\n",
              "\n",
              "  @keyframes spin {\n",
              "    0% {\n",
              "      border-color: transparent;\n",
              "      border-bottom-color: var(--fill-color);\n",
              "      border-left-color: var(--fill-color);\n",
              "    }\n",
              "    20% {\n",
              "      border-color: transparent;\n",
              "      border-left-color: var(--fill-color);\n",
              "      border-top-color: var(--fill-color);\n",
              "    }\n",
              "    30% {\n",
              "      border-color: transparent;\n",
              "      border-left-color: var(--fill-color);\n",
              "      border-top-color: var(--fill-color);\n",
              "      border-right-color: var(--fill-color);\n",
              "    }\n",
              "    40% {\n",
              "      border-color: transparent;\n",
              "      border-right-color: var(--fill-color);\n",
              "      border-top-color: var(--fill-color);\n",
              "    }\n",
              "    60% {\n",
              "      border-color: transparent;\n",
              "      border-right-color: var(--fill-color);\n",
              "    }\n",
              "    80% {\n",
              "      border-color: transparent;\n",
              "      border-right-color: var(--fill-color);\n",
              "      border-bottom-color: var(--fill-color);\n",
              "    }\n",
              "    90% {\n",
              "      border-color: transparent;\n",
              "      border-bottom-color: var(--fill-color);\n",
              "    }\n",
              "  }\n",
              "</style>\n",
              "\n",
              "  <script>\n",
              "    async function quickchart(key) {\n",
              "      const quickchartButtonEl =\n",
              "        document.querySelector('#' + key + ' button');\n",
              "      quickchartButtonEl.disabled = true;  // To prevent multiple clicks.\n",
              "      quickchartButtonEl.classList.add('colab-df-spinner');\n",
              "      try {\n",
              "        const charts = await google.colab.kernel.invokeFunction(\n",
              "            'suggestCharts', [key], {});\n",
              "      } catch (error) {\n",
              "        console.error('Error during call to suggestCharts:', error);\n",
              "      }\n",
              "      quickchartButtonEl.classList.remove('colab-df-spinner');\n",
              "      quickchartButtonEl.classList.add('colab-df-quickchart-complete');\n",
              "    }\n",
              "    (() => {\n",
              "      let quickchartButtonEl =\n",
              "        document.querySelector('#df-37e12a32-c3af-417f-a908-d0ffa400286d button');\n",
              "      quickchartButtonEl.style.display =\n",
              "        google.colab.kernel.accessAllowed ? 'block' : 'none';\n",
              "    })();\n",
              "  </script>\n",
              "</div>\n",
              "    </div>\n",
              "  </div>\n"
            ],
            "application/vnd.google.colaboratory.intrinsic+json": {
              "type": "dataframe",
              "variable_name": "df_redundant",
              "repr_error": "'str' object has no attribute 'empty'"
            }
          },
          "metadata": {},
          "execution_count": 30
        }
      ],
      "source": [
        "# Code cell 24\n",
        "# You can specify the number of rows you want to print to screen:\n",
        "# you do so passing the number as an argument to the function\n",
        "# (e.g., head(10))\n",
        "df_redundant.head()"
      ]
    },
    {
      "cell_type": "markdown",
      "metadata": {
        "id": "FIDWGYWvI3vm"
      },
      "source": [
        "What is the code to read the first 20 lines of the csv file?"
      ]
    },
    {
      "cell_type": "markdown",
      "metadata": {
        "id": "MEAt2akzI3vm"
      },
      "source": []
    },
    {
      "cell_type": "markdown",
      "metadata": {
        "id": "ht8t9ZH5I3vm"
      },
      "source": [
        "#### Step 3: Create a concise representation.\n",
        "In this step, you will create a more compact representation using a copy of the data frame `df_redundant`."
      ]
    },
    {
      "cell_type": "markdown",
      "metadata": {
        "id": "7suxnYdAI3vm"
      },
      "source": [
        "a) Copy `df_redundant` into another dataframe called `df_compact` using `copy()`."
      ]
    },
    {
      "cell_type": "code",
      "execution_count": 31,
      "metadata": {
        "collapsed": true,
        "id": "t1pXlzJ9I3vm"
      },
      "outputs": [],
      "source": [
        "# Code cell 25\n",
        "df_compact = df_redundant.copy()"
      ]
    },
    {
      "cell_type": "markdown",
      "metadata": {
        "id": "Pu00OSgHI3vm"
      },
      "source": [
        "b) Rename the columns relative to the measures as shown:\n",
        "\n",
        "    Measure A -> Ping (ms)\n",
        "    Measure B -> Download (Mbit/s)\n",
        "    Measure C -> Upload (Mbit/s)"
      ]
    },
    {
      "cell_type": "code",
      "execution_count": 32,
      "metadata": {
        "collapsed": true,
        "scrolled": true,
        "colab": {
          "base_uri": "https://localhost:8080/",
          "height": 143
        },
        "id": "q5I8g-SCI3vn",
        "outputId": "76726530-2d04-43a2-fbf3-fd8217584bbf"
      },
      "outputs": [
        {
          "output_type": "execute_result",
          "data": {
            "text/plain": [
              "  Type A Ping (ms) Units A     Type B Download (Mbit/s) Units B   Type C  \\\n",
              "0  Ping:    26.992      ms  Download:             91.80  Mbit/s  Upload:   \n",
              "1  Ping:    24.532      ms  Download:             88.19  Mbit/s  Upload:   \n",
              "2  Ping:    20.225      ms  Download:             59.86  Mbit/s  Upload:   \n",
              "\n",
              "   Upload (Mbit/s) Units C             Datetime  \n",
              "0            14.31  Mbit/s  2016-11-24 13:36:25  \n",
              "1            14.12  Mbit/s  2016-11-24 13:36:55  \n",
              "2            14.11  Mbit/s  2016-11-24 13:37:25  "
            ],
            "text/html": [
              "\n",
              "  <div id=\"df-558c1717-b161-46cf-b869-db47c621a7e2\" class=\"colab-df-container\">\n",
              "    <div>\n",
              "<style scoped>\n",
              "    .dataframe tbody tr th:only-of-type {\n",
              "        vertical-align: middle;\n",
              "    }\n",
              "\n",
              "    .dataframe tbody tr th {\n",
              "        vertical-align: top;\n",
              "    }\n",
              "\n",
              "    .dataframe thead th {\n",
              "        text-align: right;\n",
              "    }\n",
              "</style>\n",
              "<table border=\"1\" class=\"dataframe\">\n",
              "  <thead>\n",
              "    <tr style=\"text-align: right;\">\n",
              "      <th></th>\n",
              "      <th>Type A</th>\n",
              "      <th>Ping (ms)</th>\n",
              "      <th>Units A</th>\n",
              "      <th>Type B</th>\n",
              "      <th>Download (Mbit/s)</th>\n",
              "      <th>Units B</th>\n",
              "      <th>Type C</th>\n",
              "      <th>Upload (Mbit/s)</th>\n",
              "      <th>Units C</th>\n",
              "      <th>Datetime</th>\n",
              "    </tr>\n",
              "  </thead>\n",
              "  <tbody>\n",
              "    <tr>\n",
              "      <th>0</th>\n",
              "      <td>Ping:</td>\n",
              "      <td>26.992</td>\n",
              "      <td>ms</td>\n",
              "      <td>Download:</td>\n",
              "      <td>91.80</td>\n",
              "      <td>Mbit/s</td>\n",
              "      <td>Upload:</td>\n",
              "      <td>14.31</td>\n",
              "      <td>Mbit/s</td>\n",
              "      <td>2016-11-24 13:36:25</td>\n",
              "    </tr>\n",
              "    <tr>\n",
              "      <th>1</th>\n",
              "      <td>Ping:</td>\n",
              "      <td>24.532</td>\n",
              "      <td>ms</td>\n",
              "      <td>Download:</td>\n",
              "      <td>88.19</td>\n",
              "      <td>Mbit/s</td>\n",
              "      <td>Upload:</td>\n",
              "      <td>14.12</td>\n",
              "      <td>Mbit/s</td>\n",
              "      <td>2016-11-24 13:36:55</td>\n",
              "    </tr>\n",
              "    <tr>\n",
              "      <th>2</th>\n",
              "      <td>Ping:</td>\n",
              "      <td>20.225</td>\n",
              "      <td>ms</td>\n",
              "      <td>Download:</td>\n",
              "      <td>59.86</td>\n",
              "      <td>Mbit/s</td>\n",
              "      <td>Upload:</td>\n",
              "      <td>14.11</td>\n",
              "      <td>Mbit/s</td>\n",
              "      <td>2016-11-24 13:37:25</td>\n",
              "    </tr>\n",
              "  </tbody>\n",
              "</table>\n",
              "</div>\n",
              "    <div class=\"colab-df-buttons\">\n",
              "\n",
              "  <div class=\"colab-df-container\">\n",
              "    <button class=\"colab-df-convert\" onclick=\"convertToInteractive('df-558c1717-b161-46cf-b869-db47c621a7e2')\"\n",
              "            title=\"Convert this dataframe to an interactive table.\"\n",
              "            style=\"display:none;\">\n",
              "\n",
              "  <svg xmlns=\"http://www.w3.org/2000/svg\" height=\"24px\" viewBox=\"0 -960 960 960\">\n",
              "    <path d=\"M120-120v-720h720v720H120Zm60-500h600v-160H180v160Zm220 220h160v-160H400v160Zm0 220h160v-160H400v160ZM180-400h160v-160H180v160Zm440 0h160v-160H620v160ZM180-180h160v-160H180v160Zm440 0h160v-160H620v160Z\"/>\n",
              "  </svg>\n",
              "    </button>\n",
              "\n",
              "  <style>\n",
              "    .colab-df-container {\n",
              "      display:flex;\n",
              "      gap: 12px;\n",
              "    }\n",
              "\n",
              "    .colab-df-convert {\n",
              "      background-color: #E8F0FE;\n",
              "      border: none;\n",
              "      border-radius: 50%;\n",
              "      cursor: pointer;\n",
              "      display: none;\n",
              "      fill: #1967D2;\n",
              "      height: 32px;\n",
              "      padding: 0 0 0 0;\n",
              "      width: 32px;\n",
              "    }\n",
              "\n",
              "    .colab-df-convert:hover {\n",
              "      background-color: #E2EBFA;\n",
              "      box-shadow: 0px 1px 2px rgba(60, 64, 67, 0.3), 0px 1px 3px 1px rgba(60, 64, 67, 0.15);\n",
              "      fill: #174EA6;\n",
              "    }\n",
              "\n",
              "    .colab-df-buttons div {\n",
              "      margin-bottom: 4px;\n",
              "    }\n",
              "\n",
              "    [theme=dark] .colab-df-convert {\n",
              "      background-color: #3B4455;\n",
              "      fill: #D2E3FC;\n",
              "    }\n",
              "\n",
              "    [theme=dark] .colab-df-convert:hover {\n",
              "      background-color: #434B5C;\n",
              "      box-shadow: 0px 1px 3px 1px rgba(0, 0, 0, 0.15);\n",
              "      filter: drop-shadow(0px 1px 2px rgba(0, 0, 0, 0.3));\n",
              "      fill: #FFFFFF;\n",
              "    }\n",
              "  </style>\n",
              "\n",
              "    <script>\n",
              "      const buttonEl =\n",
              "        document.querySelector('#df-558c1717-b161-46cf-b869-db47c621a7e2 button.colab-df-convert');\n",
              "      buttonEl.style.display =\n",
              "        google.colab.kernel.accessAllowed ? 'block' : 'none';\n",
              "\n",
              "      async function convertToInteractive(key) {\n",
              "        const element = document.querySelector('#df-558c1717-b161-46cf-b869-db47c621a7e2');\n",
              "        const dataTable =\n",
              "          await google.colab.kernel.invokeFunction('convertToInteractive',\n",
              "                                                    [key], {});\n",
              "        if (!dataTable) return;\n",
              "\n",
              "        const docLinkHtml = 'Like what you see? Visit the ' +\n",
              "          '<a target=\"_blank\" href=https://colab.research.google.com/notebooks/data_table.ipynb>data table notebook</a>'\n",
              "          + ' to learn more about interactive tables.';\n",
              "        element.innerHTML = '';\n",
              "        dataTable['output_type'] = 'display_data';\n",
              "        await google.colab.output.renderOutput(dataTable, element);\n",
              "        const docLink = document.createElement('div');\n",
              "        docLink.innerHTML = docLinkHtml;\n",
              "        element.appendChild(docLink);\n",
              "      }\n",
              "    </script>\n",
              "  </div>\n",
              "\n",
              "\n",
              "<div id=\"df-8406f858-58f0-4490-9f96-eca167e8b32f\">\n",
              "  <button class=\"colab-df-quickchart\" onclick=\"quickchart('df-8406f858-58f0-4490-9f96-eca167e8b32f')\"\n",
              "            title=\"Suggest charts\"\n",
              "            style=\"display:none;\">\n",
              "\n",
              "<svg xmlns=\"http://www.w3.org/2000/svg\" height=\"24px\"viewBox=\"0 0 24 24\"\n",
              "     width=\"24px\">\n",
              "    <g>\n",
              "        <path d=\"M19 3H5c-1.1 0-2 .9-2 2v14c0 1.1.9 2 2 2h14c1.1 0 2-.9 2-2V5c0-1.1-.9-2-2-2zM9 17H7v-7h2v7zm4 0h-2V7h2v10zm4 0h-2v-4h2v4z\"/>\n",
              "    </g>\n",
              "</svg>\n",
              "  </button>\n",
              "\n",
              "<style>\n",
              "  .colab-df-quickchart {\n",
              "      --bg-color: #E8F0FE;\n",
              "      --fill-color: #1967D2;\n",
              "      --hover-bg-color: #E2EBFA;\n",
              "      --hover-fill-color: #174EA6;\n",
              "      --disabled-fill-color: #AAA;\n",
              "      --disabled-bg-color: #DDD;\n",
              "  }\n",
              "\n",
              "  [theme=dark] .colab-df-quickchart {\n",
              "      --bg-color: #3B4455;\n",
              "      --fill-color: #D2E3FC;\n",
              "      --hover-bg-color: #434B5C;\n",
              "      --hover-fill-color: #FFFFFF;\n",
              "      --disabled-bg-color: #3B4455;\n",
              "      --disabled-fill-color: #666;\n",
              "  }\n",
              "\n",
              "  .colab-df-quickchart {\n",
              "    background-color: var(--bg-color);\n",
              "    border: none;\n",
              "    border-radius: 50%;\n",
              "    cursor: pointer;\n",
              "    display: none;\n",
              "    fill: var(--fill-color);\n",
              "    height: 32px;\n",
              "    padding: 0;\n",
              "    width: 32px;\n",
              "  }\n",
              "\n",
              "  .colab-df-quickchart:hover {\n",
              "    background-color: var(--hover-bg-color);\n",
              "    box-shadow: 0 1px 2px rgba(60, 64, 67, 0.3), 0 1px 3px 1px rgba(60, 64, 67, 0.15);\n",
              "    fill: var(--button-hover-fill-color);\n",
              "  }\n",
              "\n",
              "  .colab-df-quickchart-complete:disabled,\n",
              "  .colab-df-quickchart-complete:disabled:hover {\n",
              "    background-color: var(--disabled-bg-color);\n",
              "    fill: var(--disabled-fill-color);\n",
              "    box-shadow: none;\n",
              "  }\n",
              "\n",
              "  .colab-df-spinner {\n",
              "    border: 2px solid var(--fill-color);\n",
              "    border-color: transparent;\n",
              "    border-bottom-color: var(--fill-color);\n",
              "    animation:\n",
              "      spin 1s steps(1) infinite;\n",
              "  }\n",
              "\n",
              "  @keyframes spin {\n",
              "    0% {\n",
              "      border-color: transparent;\n",
              "      border-bottom-color: var(--fill-color);\n",
              "      border-left-color: var(--fill-color);\n",
              "    }\n",
              "    20% {\n",
              "      border-color: transparent;\n",
              "      border-left-color: var(--fill-color);\n",
              "      border-top-color: var(--fill-color);\n",
              "    }\n",
              "    30% {\n",
              "      border-color: transparent;\n",
              "      border-left-color: var(--fill-color);\n",
              "      border-top-color: var(--fill-color);\n",
              "      border-right-color: var(--fill-color);\n",
              "    }\n",
              "    40% {\n",
              "      border-color: transparent;\n",
              "      border-right-color: var(--fill-color);\n",
              "      border-top-color: var(--fill-color);\n",
              "    }\n",
              "    60% {\n",
              "      border-color: transparent;\n",
              "      border-right-color: var(--fill-color);\n",
              "    }\n",
              "    80% {\n",
              "      border-color: transparent;\n",
              "      border-right-color: var(--fill-color);\n",
              "      border-bottom-color: var(--fill-color);\n",
              "    }\n",
              "    90% {\n",
              "      border-color: transparent;\n",
              "      border-bottom-color: var(--fill-color);\n",
              "    }\n",
              "  }\n",
              "</style>\n",
              "\n",
              "  <script>\n",
              "    async function quickchart(key) {\n",
              "      const quickchartButtonEl =\n",
              "        document.querySelector('#' + key + ' button');\n",
              "      quickchartButtonEl.disabled = true;  // To prevent multiple clicks.\n",
              "      quickchartButtonEl.classList.add('colab-df-spinner');\n",
              "      try {\n",
              "        const charts = await google.colab.kernel.invokeFunction(\n",
              "            'suggestCharts', [key], {});\n",
              "      } catch (error) {\n",
              "        console.error('Error during call to suggestCharts:', error);\n",
              "      }\n",
              "      quickchartButtonEl.classList.remove('colab-df-spinner');\n",
              "      quickchartButtonEl.classList.add('colab-df-quickchart-complete');\n",
              "    }\n",
              "    (() => {\n",
              "      let quickchartButtonEl =\n",
              "        document.querySelector('#df-8406f858-58f0-4490-9f96-eca167e8b32f button');\n",
              "      quickchartButtonEl.style.display =\n",
              "        google.colab.kernel.accessAllowed ? 'block' : 'none';\n",
              "    })();\n",
              "  </script>\n",
              "</div>\n",
              "    </div>\n",
              "  </div>\n"
            ],
            "application/vnd.google.colaboratory.intrinsic+json": {
              "type": "dataframe",
              "variable_name": "df_compact",
              "repr_error": "'str' object has no attribute 'empty'"
            }
          },
          "metadata": {},
          "execution_count": 32
        }
      ],
      "source": [
        "# Code cell 26\n",
        "df_compact.rename(columns={'Measure A':'Ping (ms)',\n",
        "                           'Measure B': 'Download (Mbit/s)',\n",
        "                           'Measure C': 'Upload (Mbit/s)'}, inplace=True)\n",
        "df_compact.head(3)"
      ]
    },
    {
      "cell_type": "markdown",
      "metadata": {
        "id": "LC1eEKqTI3vn"
      },
      "source": [
        "c) Because the Types and Units columns are no longer necessary, these columns can be dropped."
      ]
    },
    {
      "cell_type": "code",
      "execution_count": 33,
      "metadata": {
        "collapsed": true,
        "colab": {
          "base_uri": "https://localhost:8080/",
          "height": 206
        },
        "id": "k1IB6mqbI3vn",
        "outputId": "77e12b32-30f7-45d7-87d7-890b442e1f92"
      },
      "outputs": [
        {
          "output_type": "execute_result",
          "data": {
            "text/plain": [
              "  Ping (ms) Download (Mbit/s)  Upload (Mbit/s)             Datetime\n",
              "0    26.992             91.80            14.31  2016-11-24 13:36:25\n",
              "1    24.532             88.19            14.12  2016-11-24 13:36:55\n",
              "2    20.225             59.86            14.11  2016-11-24 13:37:25\n",
              "3    19.332             91.81            14.22  2016-11-24 13:37:57\n",
              "4    22.494             92.05            14.08  2016-11-24 13:38:27"
            ],
            "text/html": [
              "\n",
              "  <div id=\"df-fc46d412-58ca-4147-9866-3ba2d46b24a0\" class=\"colab-df-container\">\n",
              "    <div>\n",
              "<style scoped>\n",
              "    .dataframe tbody tr th:only-of-type {\n",
              "        vertical-align: middle;\n",
              "    }\n",
              "\n",
              "    .dataframe tbody tr th {\n",
              "        vertical-align: top;\n",
              "    }\n",
              "\n",
              "    .dataframe thead th {\n",
              "        text-align: right;\n",
              "    }\n",
              "</style>\n",
              "<table border=\"1\" class=\"dataframe\">\n",
              "  <thead>\n",
              "    <tr style=\"text-align: right;\">\n",
              "      <th></th>\n",
              "      <th>Ping (ms)</th>\n",
              "      <th>Download (Mbit/s)</th>\n",
              "      <th>Upload (Mbit/s)</th>\n",
              "      <th>Datetime</th>\n",
              "    </tr>\n",
              "  </thead>\n",
              "  <tbody>\n",
              "    <tr>\n",
              "      <th>0</th>\n",
              "      <td>26.992</td>\n",
              "      <td>91.80</td>\n",
              "      <td>14.31</td>\n",
              "      <td>2016-11-24 13:36:25</td>\n",
              "    </tr>\n",
              "    <tr>\n",
              "      <th>1</th>\n",
              "      <td>24.532</td>\n",
              "      <td>88.19</td>\n",
              "      <td>14.12</td>\n",
              "      <td>2016-11-24 13:36:55</td>\n",
              "    </tr>\n",
              "    <tr>\n",
              "      <th>2</th>\n",
              "      <td>20.225</td>\n",
              "      <td>59.86</td>\n",
              "      <td>14.11</td>\n",
              "      <td>2016-11-24 13:37:25</td>\n",
              "    </tr>\n",
              "    <tr>\n",
              "      <th>3</th>\n",
              "      <td>19.332</td>\n",
              "      <td>91.81</td>\n",
              "      <td>14.22</td>\n",
              "      <td>2016-11-24 13:37:57</td>\n",
              "    </tr>\n",
              "    <tr>\n",
              "      <th>4</th>\n",
              "      <td>22.494</td>\n",
              "      <td>92.05</td>\n",
              "      <td>14.08</td>\n",
              "      <td>2016-11-24 13:38:27</td>\n",
              "    </tr>\n",
              "  </tbody>\n",
              "</table>\n",
              "</div>\n",
              "    <div class=\"colab-df-buttons\">\n",
              "\n",
              "  <div class=\"colab-df-container\">\n",
              "    <button class=\"colab-df-convert\" onclick=\"convertToInteractive('df-fc46d412-58ca-4147-9866-3ba2d46b24a0')\"\n",
              "            title=\"Convert this dataframe to an interactive table.\"\n",
              "            style=\"display:none;\">\n",
              "\n",
              "  <svg xmlns=\"http://www.w3.org/2000/svg\" height=\"24px\" viewBox=\"0 -960 960 960\">\n",
              "    <path d=\"M120-120v-720h720v720H120Zm60-500h600v-160H180v160Zm220 220h160v-160H400v160Zm0 220h160v-160H400v160ZM180-400h160v-160H180v160Zm440 0h160v-160H620v160ZM180-180h160v-160H180v160Zm440 0h160v-160H620v160Z\"/>\n",
              "  </svg>\n",
              "    </button>\n",
              "\n",
              "  <style>\n",
              "    .colab-df-container {\n",
              "      display:flex;\n",
              "      gap: 12px;\n",
              "    }\n",
              "\n",
              "    .colab-df-convert {\n",
              "      background-color: #E8F0FE;\n",
              "      border: none;\n",
              "      border-radius: 50%;\n",
              "      cursor: pointer;\n",
              "      display: none;\n",
              "      fill: #1967D2;\n",
              "      height: 32px;\n",
              "      padding: 0 0 0 0;\n",
              "      width: 32px;\n",
              "    }\n",
              "\n",
              "    .colab-df-convert:hover {\n",
              "      background-color: #E2EBFA;\n",
              "      box-shadow: 0px 1px 2px rgba(60, 64, 67, 0.3), 0px 1px 3px 1px rgba(60, 64, 67, 0.15);\n",
              "      fill: #174EA6;\n",
              "    }\n",
              "\n",
              "    .colab-df-buttons div {\n",
              "      margin-bottom: 4px;\n",
              "    }\n",
              "\n",
              "    [theme=dark] .colab-df-convert {\n",
              "      background-color: #3B4455;\n",
              "      fill: #D2E3FC;\n",
              "    }\n",
              "\n",
              "    [theme=dark] .colab-df-convert:hover {\n",
              "      background-color: #434B5C;\n",
              "      box-shadow: 0px 1px 3px 1px rgba(0, 0, 0, 0.15);\n",
              "      filter: drop-shadow(0px 1px 2px rgba(0, 0, 0, 0.3));\n",
              "      fill: #FFFFFF;\n",
              "    }\n",
              "  </style>\n",
              "\n",
              "    <script>\n",
              "      const buttonEl =\n",
              "        document.querySelector('#df-fc46d412-58ca-4147-9866-3ba2d46b24a0 button.colab-df-convert');\n",
              "      buttonEl.style.display =\n",
              "        google.colab.kernel.accessAllowed ? 'block' : 'none';\n",
              "\n",
              "      async function convertToInteractive(key) {\n",
              "        const element = document.querySelector('#df-fc46d412-58ca-4147-9866-3ba2d46b24a0');\n",
              "        const dataTable =\n",
              "          await google.colab.kernel.invokeFunction('convertToInteractive',\n",
              "                                                    [key], {});\n",
              "        if (!dataTable) return;\n",
              "\n",
              "        const docLinkHtml = 'Like what you see? Visit the ' +\n",
              "          '<a target=\"_blank\" href=https://colab.research.google.com/notebooks/data_table.ipynb>data table notebook</a>'\n",
              "          + ' to learn more about interactive tables.';\n",
              "        element.innerHTML = '';\n",
              "        dataTable['output_type'] = 'display_data';\n",
              "        await google.colab.output.renderOutput(dataTable, element);\n",
              "        const docLink = document.createElement('div');\n",
              "        docLink.innerHTML = docLinkHtml;\n",
              "        element.appendChild(docLink);\n",
              "      }\n",
              "    </script>\n",
              "  </div>\n",
              "\n",
              "\n",
              "<div id=\"df-7e129231-ee46-44e7-889e-1ece0a054a5e\">\n",
              "  <button class=\"colab-df-quickchart\" onclick=\"quickchart('df-7e129231-ee46-44e7-889e-1ece0a054a5e')\"\n",
              "            title=\"Suggest charts\"\n",
              "            style=\"display:none;\">\n",
              "\n",
              "<svg xmlns=\"http://www.w3.org/2000/svg\" height=\"24px\"viewBox=\"0 0 24 24\"\n",
              "     width=\"24px\">\n",
              "    <g>\n",
              "        <path d=\"M19 3H5c-1.1 0-2 .9-2 2v14c0 1.1.9 2 2 2h14c1.1 0 2-.9 2-2V5c0-1.1-.9-2-2-2zM9 17H7v-7h2v7zm4 0h-2V7h2v10zm4 0h-2v-4h2v4z\"/>\n",
              "    </g>\n",
              "</svg>\n",
              "  </button>\n",
              "\n",
              "<style>\n",
              "  .colab-df-quickchart {\n",
              "      --bg-color: #E8F0FE;\n",
              "      --fill-color: #1967D2;\n",
              "      --hover-bg-color: #E2EBFA;\n",
              "      --hover-fill-color: #174EA6;\n",
              "      --disabled-fill-color: #AAA;\n",
              "      --disabled-bg-color: #DDD;\n",
              "  }\n",
              "\n",
              "  [theme=dark] .colab-df-quickchart {\n",
              "      --bg-color: #3B4455;\n",
              "      --fill-color: #D2E3FC;\n",
              "      --hover-bg-color: #434B5C;\n",
              "      --hover-fill-color: #FFFFFF;\n",
              "      --disabled-bg-color: #3B4455;\n",
              "      --disabled-fill-color: #666;\n",
              "  }\n",
              "\n",
              "  .colab-df-quickchart {\n",
              "    background-color: var(--bg-color);\n",
              "    border: none;\n",
              "    border-radius: 50%;\n",
              "    cursor: pointer;\n",
              "    display: none;\n",
              "    fill: var(--fill-color);\n",
              "    height: 32px;\n",
              "    padding: 0;\n",
              "    width: 32px;\n",
              "  }\n",
              "\n",
              "  .colab-df-quickchart:hover {\n",
              "    background-color: var(--hover-bg-color);\n",
              "    box-shadow: 0 1px 2px rgba(60, 64, 67, 0.3), 0 1px 3px 1px rgba(60, 64, 67, 0.15);\n",
              "    fill: var(--button-hover-fill-color);\n",
              "  }\n",
              "\n",
              "  .colab-df-quickchart-complete:disabled,\n",
              "  .colab-df-quickchart-complete:disabled:hover {\n",
              "    background-color: var(--disabled-bg-color);\n",
              "    fill: var(--disabled-fill-color);\n",
              "    box-shadow: none;\n",
              "  }\n",
              "\n",
              "  .colab-df-spinner {\n",
              "    border: 2px solid var(--fill-color);\n",
              "    border-color: transparent;\n",
              "    border-bottom-color: var(--fill-color);\n",
              "    animation:\n",
              "      spin 1s steps(1) infinite;\n",
              "  }\n",
              "\n",
              "  @keyframes spin {\n",
              "    0% {\n",
              "      border-color: transparent;\n",
              "      border-bottom-color: var(--fill-color);\n",
              "      border-left-color: var(--fill-color);\n",
              "    }\n",
              "    20% {\n",
              "      border-color: transparent;\n",
              "      border-left-color: var(--fill-color);\n",
              "      border-top-color: var(--fill-color);\n",
              "    }\n",
              "    30% {\n",
              "      border-color: transparent;\n",
              "      border-left-color: var(--fill-color);\n",
              "      border-top-color: var(--fill-color);\n",
              "      border-right-color: var(--fill-color);\n",
              "    }\n",
              "    40% {\n",
              "      border-color: transparent;\n",
              "      border-right-color: var(--fill-color);\n",
              "      border-top-color: var(--fill-color);\n",
              "    }\n",
              "    60% {\n",
              "      border-color: transparent;\n",
              "      border-right-color: var(--fill-color);\n",
              "    }\n",
              "    80% {\n",
              "      border-color: transparent;\n",
              "      border-right-color: var(--fill-color);\n",
              "      border-bottom-color: var(--fill-color);\n",
              "    }\n",
              "    90% {\n",
              "      border-color: transparent;\n",
              "      border-bottom-color: var(--fill-color);\n",
              "    }\n",
              "  }\n",
              "</style>\n",
              "\n",
              "  <script>\n",
              "    async function quickchart(key) {\n",
              "      const quickchartButtonEl =\n",
              "        document.querySelector('#' + key + ' button');\n",
              "      quickchartButtonEl.disabled = true;  // To prevent multiple clicks.\n",
              "      quickchartButtonEl.classList.add('colab-df-spinner');\n",
              "      try {\n",
              "        const charts = await google.colab.kernel.invokeFunction(\n",
              "            'suggestCharts', [key], {});\n",
              "      } catch (error) {\n",
              "        console.error('Error during call to suggestCharts:', error);\n",
              "      }\n",
              "      quickchartButtonEl.classList.remove('colab-df-spinner');\n",
              "      quickchartButtonEl.classList.add('colab-df-quickchart-complete');\n",
              "    }\n",
              "    (() => {\n",
              "      let quickchartButtonEl =\n",
              "        document.querySelector('#df-7e129231-ee46-44e7-889e-1ece0a054a5e button');\n",
              "      quickchartButtonEl.style.display =\n",
              "        google.colab.kernel.accessAllowed ? 'block' : 'none';\n",
              "    })();\n",
              "  </script>\n",
              "</div>\n",
              "    </div>\n",
              "  </div>\n"
            ],
            "application/vnd.google.colaboratory.intrinsic+json": {
              "type": "dataframe",
              "variable_name": "df_compact",
              "repr_error": "'str' object has no attribute 'empty'"
            }
          },
          "metadata": {},
          "execution_count": 33
        }
      ],
      "source": [
        "# Code cell 27\n",
        "df_compact.drop(['Type A', 'Type B', 'Type C',\n",
        "         'Units A', 'Units B', 'Units C'], axis=1, inplace=True)\n",
        "df_compact.head()"
      ]
    },
    {
      "cell_type": "markdown",
      "metadata": {
        "id": "t_IHy3nzI3vn"
      },
      "source": [
        "In the table above, the `Datetime` field is a string. Pandas and Python offer a number of operations to work with date and time that can be very helpful.\n",
        "\n",
        "In the next step, the string in the `Datetime` column will be separated into two new columns.\n",
        "\n",
        "#### Step 4: Separate data into two columns.\n",
        "In this step, you will use Pandas to generate the columns `Date` and `Time` from the column `Datetime` and then drop the `Datetime` column.\n",
        "<p>The `lambda` function is used create two anonymous functions that extract only the date and the time from a `datetime` object, respectively. Then, use the `pandas` function `apply` to apply this function to an entire column (in practice, `apply` implicitly defines a `for` loop and passes the rows one by one to our `lambda` function). Store the result of the `apply` functions in two new columns of the `DataFrame`."
      ]
    },
    {
      "cell_type": "markdown",
      "metadata": {
        "id": "qzi15z4pI3vo"
      },
      "source": [
        "a) Apply the `lambda` function to iterate through the data frame to split the date from the `Datetime` column."
      ]
    },
    {
      "cell_type": "code",
      "execution_count": 34,
      "metadata": {
        "collapsed": true,
        "id": "77VyVyRcI3vo"
      },
      "outputs": [],
      "source": [
        "# Code cell 28\n",
        "df_compact['Date'] = df_compact['Datetime'].apply(lambda dt_str: pd.to_datetime(dt_str).date())"
      ]
    },
    {
      "cell_type": "markdown",
      "metadata": {
        "id": "IQgJNW6jI3vo"
      },
      "source": [
        "b) Repeat step a to split time from `Datetime` column."
      ]
    },
    {
      "cell_type": "code",
      "execution_count": 35,
      "metadata": {
        "collapsed": true,
        "id": "EmcUp6JJI3vo"
      },
      "outputs": [],
      "source": [
        "# Code cell 29\n",
        "# Please note, this requires an intermediate step, because of how NaT are treated by the time() function.\n",
        "# Reference: https://github.com/pandas-dev/pandas/issues/11453\n",
        "temp = df_compact['Datetime'].apply(lambda dt_str: pd.to_datetime(dt_str))\n",
        "df_compact['Time'] = temp.dt.time"
      ]
    },
    {
      "cell_type": "markdown",
      "metadata": {
        "id": "GxG5H1HLI3vo"
      },
      "source": [
        "c) All the information for the `Datetime` column has now been copied to the `Date` and `Time` columnns. The `Datetime` column serves no purpose. The `Datetime` column can be dropped from the data frame.\n",
        "<p>Enter the code to drop the `Datetime` column in the cell below."
      ]
    },
    {
      "cell_type": "code",
      "execution_count": 36,
      "metadata": {
        "collapsed": true,
        "id": "hIg3OeGpI3vo"
      },
      "outputs": [],
      "source": [
        "# Code cell 30\n",
        "del df_compact['Datetime']"
      ]
    },
    {
      "cell_type": "markdown",
      "metadata": {
        "id": "gJeynyl0I3vp"
      },
      "source": [
        "Enter the code to print out the first 3 rows of the data frame to verify the changes."
      ]
    },
    {
      "cell_type": "code",
      "execution_count": 37,
      "metadata": {
        "collapsed": true,
        "colab": {
          "base_uri": "https://localhost:8080/"
        },
        "id": "lPhBeRg2I3vp",
        "outputId": "7924c7b5-d99a-4525-ac68-510a0bea9ba0"
      },
      "outputs": [
        {
          "output_type": "stream",
          "name": "stdout",
          "text": [
            "  Ping (ms) Download (Mbit/s)  Upload (Mbit/s)        Date      Time\n",
            "0    26.992             91.80            14.31  2016-11-24  13:36:25\n",
            "1    24.532             88.19            14.12  2016-11-24  13:36:55\n",
            "2    20.225             59.86            14.11  2016-11-24  13:37:25\n"
          ]
        }
      ],
      "source": [
        "# Code cell 31\n",
        "print(df_compact[0:3])"
      ]
    },
    {
      "cell_type": "markdown",
      "metadata": {
        "id": "eWdOVLuuI3vp"
      },
      "source": [
        "d) Use the `type` function to print out the variable type of the values in the `Date` and `Time` columns."
      ]
    },
    {
      "cell_type": "code",
      "execution_count": 38,
      "metadata": {
        "collapsed": true,
        "colab": {
          "base_uri": "https://localhost:8080/"
        },
        "id": "diztE2TcI3vp",
        "outputId": "945e3e7b-a9ef-4976-ef20-bcf7e515940a"
      },
      "outputs": [
        {
          "output_type": "stream",
          "name": "stdout",
          "text": [
            "2016-11-24 <class 'datetime.date'>\n",
            "13:36:25 <class 'datetime.time'>\n"
          ]
        }
      ],
      "source": [
        "# Code cell 32\n",
        "print(df_compact['Date'][0], type(df_compact['Date'][0]) )\n",
        "print(df_compact['Time'][0], type(df_compact['Time'][0]) )"
      ]
    },
    {
      "cell_type": "markdown",
      "metadata": {
        "id": "5UDwtb6XI3vp"
      },
      "source": [
        "#### Step 5: Save the new data frame.\n",
        "Save the pandas dataframe `df_compact` as a csv file called `rpi_data_compact`:"
      ]
    },
    {
      "cell_type": "code",
      "execution_count": 39,
      "metadata": {
        "collapsed": true,
        "id": "gghTHQVDI3vq"
      },
      "outputs": [],
      "source": [
        "# Code cell 33\n",
        "df_compact.to_csv('./Data/rpi_data_compact.csv')"
      ]
    },
    {
      "cell_type": "markdown",
      "source": [
        "\n",
        "\n",
        "---\n",
        "\n",
        "ОТВЕТЫ НА ВОПРОСЫ:\n",
        "1. Что такое анонимная функция Python, как она работает\n",
        "\n",
        "Функция которая не привязана к имени и может содерать только одно выражение.\n",
        "\n",
        "2. Что возвращает функция speedtest? Какой код используется для просмотра результатов функции speedtest?\n",
        "\n",
        "В оригинале результат \"speedtest-cli --simple\" разделяется пробелами на список строк и к этому списку добавляется Дата+время. В написаном мною коде в возвращаемом списке содержаться только значения ping, download, upload преобразованные в тип float и строка Дата+время. Для просмотра результата достаточно функции print.\n",
        "\n",
        "3. Каким образом выполняется переименование столбцов датафрейма?\n",
        "\n",
        "В оригинале используется функции rename с параметром inplace=True для прямого изменения, а не возвращения нового фрейма с изменеными именами. В моем коде столбцы сразу имеет правильное имя.\n",
        "\n",
        "4. Для чего в лабораторной работе импортируется библиотека NumPy?\n",
        "\n",
        "Ни в оригинале ни в моем коде библиотека не используется, но в описании библиотеки pandas написано что работа с данными строится поверх NumPy. Сама библиотека предоставляет оптимизированные типы и алгоритмы для работы с числами т.к. в Python типы данных имеет больший размер по сравнению с компилируемыми языками программирования.\n",
        "\n",
        "5. Как выглядит код удаления столбца Datetime?\n",
        "df.drop(columns = ['Datetime'], inplace = True)"
      ],
      "metadata": {
        "id": "uUD9sEL-JBAz"
      }
    },
    {
      "cell_type": "markdown",
      "metadata": {
        "id": "0N6AkFHLI3vq"
      },
      "source": [
        "<font size='0.5'>&copy; 2017 Cisco and/or its affiliates. All rights reserved. This document is Cisco Public.<font>"
      ]
    }
  ],
  "metadata": {
    "anaconda-cloud": {},
    "kernelspec": {
      "display_name": "Python 3",
      "language": "python",
      "name": "python3"
    },
    "language_info": {
      "codemirror_mode": {
        "name": "ipython",
        "version": 3
      },
      "file_extension": ".py",
      "mimetype": "text/x-python",
      "name": "python",
      "nbconvert_exporter": "python",
      "pygments_lexer": "ipython3",
      "version": "3.6.0"
    },
    "colab": {
      "provenance": []
    }
  },
  "nbformat": 4,
  "nbformat_minor": 0
}