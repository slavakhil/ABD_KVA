{
  "cells": [
    {
      "cell_type": "markdown",
      "metadata": {
        "id": "Au45pW51LMiS"
      },
      "source": [
        "![Title](Images/cisco.png)"
      ]
    },
    {
      "cell_type": "markdown",
      "metadata": {
        "id": "oV3vBT3ULMiU"
      },
      "source": [
        "# Lab - Internet Meter SQL\n"
      ]
    },
    {
      "cell_type": "markdown",
      "metadata": {
        "id": "-FmsVTU7LMiV"
      },
      "source": [
        "### Objectives\n",
        "\n",
        "<b>\n",
        "* Part 1: Set up your Database\n",
        "* Part 2: Connect to the Database\n",
        "* Part 3: Manipulate the Data with Pandas\n",
        "* Part 4: Join Tables with Pandas\n",
        "</b>"
      ]
    },
    {
      "cell_type": "markdown",
      "metadata": {
        "id": "SvBu00D0LMiW"
      },
      "source": [
        "### Scenario/Background\n",
        "In this lab you will learn how to connect to a relational database, retrieve and manipulate the data through a Jupyter notebook. The data you are provided contain various measurements for ping, upload and download speed made in different Local Authorities around England. At the moment the data is stored in a csv file, but you will create a database and populate it with the measurement.\n",
        "\n",
        "You will:\n",
        "* Work with a relational database\n",
        "* Set up SQLite\n",
        "* Create a new database\n",
        "* Use csvsql to create a new table and retrieve data directly from a big csv file\n",
        "* Connect to a database with the sqlite3 Python library\n",
        "* Perform basic SQL queries through Python\n",
        "* Explore the interaction between Pandas and an SQL database\n",
        "* Merge two tables"
      ]
    },
    {
      "cell_type": "markdown",
      "metadata": {
        "id": "F__Eh1P6LMiW"
      },
      "source": [
        "### Required Resources\n",
        "* 1 PC with Internet access\n",
        "* Raspberry Pi version 2 or higher\n",
        "* Python libraries: sqlite3, pandas, matplotlib\n",
        "* Additional libraries: csvkit\n",
        "* Datafiles: LA_wifi_speed_UK.csv, LA_population.csv\n",
        "\n",
        "### SQL refresh\n",
        "* Very brief introduction to relational databases (temporary): http://searchsqlserver.techtarget.com/definition/relational-database</li>\n",
        "* More videos on relational databases: https://www.youtube.com/watch?v=jyju2P-7hPA&list=PLAwxTw4SYaPm4R6j_wzVOCV9fJaiQDYx4</li>\n",
        "* Introduction to SQL http://www.w3schools.com/sql/sql_intro.asp</li>"
      ]
    },
    {
      "cell_type": "markdown",
      "metadata": {
        "id": "X1-88vRlLMiX"
      },
      "source": [
        "## Part 1: Set up your Database"
      ]
    },
    {
      "cell_type": "markdown",
      "metadata": {
        "id": "04OAQ0RPLMiX"
      },
      "source": [
        "In this part, you will use SQLite, an in-process library that implements a self-contained, serverless, zero-configuration, transactional SQL database engine to set up the environment."
      ]
    },
    {
      "cell_type": "markdown",
      "metadata": {
        "id": "pi8HgJnlLMiX"
      },
      "source": [
        "#### Step 1: Set up the working environment.\n",
        "We will need `sqlite3` and `csvkit` to complete this notebook.\n",
        "\n",
        "###### a) Install SQLite.\n",
        "In a Jupyter notebook, it is possible to run the same commands that would be used in the terminal. To do so, start the line with an exclamation mark (```!```)."
      ]
    },
    {
      "cell_type": "code",
      "execution_count": 1,
      "metadata": {
        "collapsed": true,
        "colab": {
          "base_uri": "https://localhost:8080/"
        },
        "id": "WDIewVmSLMiY",
        "outputId": "e0e10751-dfdf-46c1-f788-b6b8701dcd38"
      },
      "outputs": [
        {
          "output_type": "stream",
          "name": "stdout",
          "text": [
            "\r0% [Working]\r            \rHit:1 http://archive.ubuntu.com/ubuntu jammy InRelease\n",
            "\r0% [Waiting for headers] [Waiting for headers] [Connected to cloud.r-project.org (18.160.213.101)] [\r                                                                                                    \rGet:2 http://archive.ubuntu.com/ubuntu jammy-updates InRelease [119 kB]\n",
            "\r                                                                                                    \rGet:3 http://security.ubuntu.com/ubuntu jammy-security InRelease [110 kB]\n",
            "\r                                                                                                    \rGet:4 https://cloud.r-project.org/bin/linux/ubuntu jammy-cran40/ InRelease [3,626 B]\n",
            "Hit:5 https://developer.download.nvidia.com/compute/cuda/repos/ubuntu2204/x86_64  InRelease\n",
            "Hit:6 http://archive.ubuntu.com/ubuntu jammy-backports InRelease\n",
            "Hit:7 https://ppa.launchpadcontent.net/c2d4u.team/c2d4u4.0+/ubuntu jammy InRelease\n",
            "Hit:8 https://ppa.launchpadcontent.net/deadsnakes/ppa/ubuntu jammy InRelease\n",
            "Hit:9 https://ppa.launchpadcontent.net/graphics-drivers/ppa/ubuntu jammy InRelease\n",
            "Hit:10 https://ppa.launchpadcontent.net/ubuntugis/ppa/ubuntu jammy InRelease\n",
            "Get:11 http://archive.ubuntu.com/ubuntu jammy-updates/main amd64 Packages [1,742 kB]\n",
            "Fetched 1,975 kB in 3s (773 kB/s)\n",
            "Reading package lists... Done\n",
            "Reading package lists... Done\n",
            "Building dependency tree... Done\n",
            "Reading state information... Done\n",
            "Suggested packages:\n",
            "  sqlite3-doc\n",
            "The following NEW packages will be installed:\n",
            "  sqlite3\n",
            "0 upgraded, 1 newly installed, 0 to remove and 35 not upgraded.\n",
            "Need to get 768 kB of archives.\n",
            "After this operation, 1,873 kB of additional disk space will be used.\n",
            "Get:1 http://archive.ubuntu.com/ubuntu jammy-updates/main amd64 sqlite3 amd64 3.37.2-2ubuntu0.3 [768 kB]\n",
            "Fetched 768 kB in 0s (2,172 kB/s)\n",
            "Selecting previously unselected package sqlite3.\n",
            "(Reading database ... 121749 files and directories currently installed.)\n",
            "Preparing to unpack .../sqlite3_3.37.2-2ubuntu0.3_amd64.deb ...\n",
            "Unpacking sqlite3 (3.37.2-2ubuntu0.3) ...\n",
            "Setting up sqlite3 (3.37.2-2ubuntu0.3) ...\n",
            "Processing triggers for man-db (2.10.2-1) ...\n"
          ]
        }
      ],
      "source": [
        "# Code Cell 1\n",
        "!apt-get update\n",
        "!apt-get -y install sqlite3"
      ]
    },
    {
      "cell_type": "markdown",
      "metadata": {
        "id": "idj1ixSXLMiY"
      },
      "source": [
        "After the installation process finishes, create a database:\n",
        "\n",
        "    $sqlite3 <name of your database> \".databases\"\n",
        "\n",
        "*name of the database* is the name you want to give to your database, for example InternetSpeed:\n",
        "\n",
        "    $sqlite3 InternetSpeed.db \".databases\"\n",
        "    \n",
        "This code creates the database in a terminal window. If you are using the terminal, be sure to navigate to the same directory in which this lab resides."
      ]
    },
    {
      "cell_type": "code",
      "execution_count": 2,
      "metadata": {
        "collapsed": true,
        "colab": {
          "base_uri": "https://localhost:8080/"
        },
        "id": "OmjtP3hJLMiZ",
        "outputId": "08ba547b-c718-40b2-d864-88a697852986"
      },
      "outputs": [
        {
          "output_type": "stream",
          "name": "stdout",
          "text": [
            "main: /content/InternetSpeed.db r/w\n"
          ]
        }
      ],
      "source": [
        "# Code Cell 2\n",
        "#Create the InternetSpeed database\n",
        "!sqlite3 InternetSpeed.db \".databases\""
      ]
    },
    {
      "cell_type": "markdown",
      "metadata": {
        "id": "5jITsOPsLMia"
      },
      "source": [
        "At this point, on your local machine, you have a new, empty database called InternetSpeed.\n",
        "Usually, if you want to create a table, you need to provide a schema specifying the name of the table, the name of the columns, and the type of data that goes in every column (int, str, decimal, etc.).\n",
        "<p>For the purpose of this course, A **synthetic** dataset with wifi speed measurements recorded in 300 locations in the United Kingdom is used for the purpose of this course. The file is structured in a way that each column contains the measurements for a location of one of the three statistics (ping, download, and upload). This means that the table we need has 300\\*3 columns (plus the datetime, and an index column). Writing the schema for such a table by hand is unfeasible. Fortunately, there are ways to overcome this, and one of those is using the **csvkit** package, which contains the function **csvsql** that can be used to create a table and import the data in one command.</p>\n",
        "\n",
        "###### b) Install csvkit.\n",
        "Install csvkit at the terminal:\n",
        "\n",
        "    $pip install csvkit\n",
        "    \n",
        "You can also stay in the notebook environment, as you have done previously, adding the exclamation mark at the beginning of the line.\n",
        "\n",
        "The file used in this part of the lab is called LA_wifi_speed_UK.csv."
      ]
    },
    {
      "cell_type": "code",
      "execution_count": 3,
      "metadata": {
        "collapsed": true,
        "colab": {
          "base_uri": "https://localhost:8080/"
        },
        "id": "VzIbHvv_LMia",
        "outputId": "314e97a6-adaa-45ce-bf80-488685c58125"
      },
      "outputs": [
        {
          "output_type": "stream",
          "name": "stdout",
          "text": [
            "Collecting csvkit\n",
            "  Downloading csvkit-1.4.0-py2.py3-none-any.whl (43 kB)\n",
            "\u001b[2K     \u001b[90m━━━━━━━━━━━━━━━━━━━━━━━━━━━━━━━━━━━━━━━━\u001b[0m \u001b[32m43.9/43.9 kB\u001b[0m \u001b[31m801.6 kB/s\u001b[0m eta \u001b[36m0:00:00\u001b[0m\n",
            "\u001b[?25hCollecting agate>=1.6.3 (from csvkit)\n",
            "  Downloading agate-1.9.1-py2.py3-none-any.whl (95 kB)\n",
            "\u001b[2K     \u001b[90m━━━━━━━━━━━━━━━━━━━━━━━━━━━━━━━━━━━━━━━━\u001b[0m \u001b[32m95.1/95.1 kB\u001b[0m \u001b[31m1.8 MB/s\u001b[0m eta \u001b[36m0:00:00\u001b[0m\n",
            "\u001b[?25hCollecting agate-excel>=0.2.2 (from csvkit)\n",
            "  Downloading agate_excel-0.4.1-py2.py3-none-any.whl (7.1 kB)\n",
            "Collecting agate-dbf>=0.2.2 (from csvkit)\n",
            "  Downloading agate_dbf-0.2.2-py2.py3-none-any.whl (3.5 kB)\n",
            "Collecting agate-sql>=0.5.3 (from csvkit)\n",
            "  Downloading agate_sql-0.7.2-py2.py3-none-any.whl (7.3 kB)\n",
            "Requirement already satisfied: openpyxl in /usr/local/lib/python3.10/dist-packages (from csvkit) (3.1.2)\n",
            "Requirement already satisfied: sqlalchemy in /usr/local/lib/python3.10/dist-packages (from csvkit) (2.0.27)\n",
            "Requirement already satisfied: xlrd in /usr/local/lib/python3.10/dist-packages (from csvkit) (2.0.1)\n",
            "Requirement already satisfied: Babel>=2.0 in /usr/local/lib/python3.10/dist-packages (from agate>=1.6.3->csvkit) (2.14.0)\n",
            "Collecting isodate>=0.5.4 (from agate>=1.6.3->csvkit)\n",
            "  Downloading isodate-0.6.1-py2.py3-none-any.whl (41 kB)\n",
            "\u001b[2K     \u001b[90m━━━━━━━━━━━━━━━━━━━━━━━━━━━━━━━━━━━━━━━━\u001b[0m \u001b[32m41.7/41.7 kB\u001b[0m \u001b[31m4.7 MB/s\u001b[0m eta \u001b[36m0:00:00\u001b[0m\n",
            "\u001b[?25hCollecting leather>=0.3.2 (from agate>=1.6.3->csvkit)\n",
            "  Downloading leather-0.3.4-py2.py3-none-any.whl (31 kB)\n",
            "Collecting parsedatetime!=2.5,>=2.1 (from agate>=1.6.3->csvkit)\n",
            "  Downloading parsedatetime-2.6-py3-none-any.whl (42 kB)\n",
            "\u001b[2K     \u001b[90m━━━━━━━━━━━━━━━━━━━━━━━━━━━━━━━━━━━━━━━━\u001b[0m \u001b[32m42.5/42.5 kB\u001b[0m \u001b[31m4.5 MB/s\u001b[0m eta \u001b[36m0:00:00\u001b[0m\n",
            "\u001b[?25hRequirement already satisfied: python-slugify>=1.2.1 in /usr/local/lib/python3.10/dist-packages (from agate>=1.6.3->csvkit) (8.0.4)\n",
            "Collecting pytimeparse>=1.1.5 (from agate>=1.6.3->csvkit)\n",
            "  Downloading pytimeparse-1.1.8-py2.py3-none-any.whl (10.0 kB)\n",
            "Collecting dbfread>=2.0.5 (from agate-dbf>=0.2.2->csvkit)\n",
            "  Downloading dbfread-2.0.7-py2.py3-none-any.whl (20 kB)\n",
            "Collecting olefile (from agate-excel>=0.2.2->csvkit)\n",
            "  Downloading olefile-0.47-py2.py3-none-any.whl (114 kB)\n",
            "\u001b[2K     \u001b[90m━━━━━━━━━━━━━━━━━━━━━━━━━━━━━━━━━━━━━━━━\u001b[0m \u001b[32m114.6/114.6 kB\u001b[0m \u001b[31m7.6 MB/s\u001b[0m eta \u001b[36m0:00:00\u001b[0m\n",
            "\u001b[?25hRequirement already satisfied: et-xmlfile in /usr/local/lib/python3.10/dist-packages (from openpyxl->csvkit) (1.1.0)\n",
            "Requirement already satisfied: typing-extensions>=4.6.0 in /usr/local/lib/python3.10/dist-packages (from sqlalchemy->csvkit) (4.9.0)\n",
            "Requirement already satisfied: greenlet!=0.4.17 in /usr/local/lib/python3.10/dist-packages (from sqlalchemy->csvkit) (3.0.3)\n",
            "Requirement already satisfied: six in /usr/local/lib/python3.10/dist-packages (from isodate>=0.5.4->agate>=1.6.3->csvkit) (1.16.0)\n",
            "Requirement already satisfied: text-unidecode>=1.3 in /usr/local/lib/python3.10/dist-packages (from python-slugify>=1.2.1->agate>=1.6.3->csvkit) (1.3)\n",
            "Installing collected packages: pytimeparse, parsedatetime, dbfread, olefile, leather, isodate, agate, agate-sql, agate-excel, agate-dbf, csvkit\n",
            "Successfully installed agate-1.9.1 agate-dbf-0.2.2 agate-excel-0.4.1 agate-sql-0.7.2 csvkit-1.4.0 dbfread-2.0.7 isodate-0.6.1 leather-0.3.4 olefile-0.47 parsedatetime-2.6 pytimeparse-1.1.8\n"
          ]
        }
      ],
      "source": [
        "# Code Cell 3\n",
        "#Installing csvkit\n",
        "!pip install csvkit"
      ]
    },
    {
      "cell_type": "markdown",
      "metadata": {
        "id": "p6K8eJ4qLMib"
      },
      "source": [
        "###### c) Import the data into the database.\n",
        "Use csvsql to create a new table in the database InternetSpeed and retrieve the data contained in the csv file. First, make sure that there is not another database with the same name. If one exists, remove it:\n",
        "    \n",
        "    $test tmp/InternetSpeed.db && rm InternetSpeed.db\n",
        "\n",
        "Use csvkit to populate the database from the csv file:\n",
        "\n",
        "    $csvsql --db sqlite:///InternetSpeed.db --insert ./Data/LA_wifi_speed_UK.csv\n",
        "    \n",
        "You can do this through the terminal or remain in the notebook environment."
      ]
    },
    {
      "cell_type": "code",
      "execution_count": 8,
      "metadata": {
        "collapsed": true,
        "id": "9TADGWJ_LMib"
      },
      "outputs": [],
      "source": [
        "# Code Cell 4\n",
        "# Removing database if already existing\n",
        "!test -e InternetSpeed.db && rm InternetSpeed.db\n",
        "# Importing the LA_wifi_speed_UK.csv file into a sql database file InternetSpeed.db\n",
        "!csvsql --db sqlite:///InternetSpeed.db --insert ./Data/LA_wifi_speed_UK.csv\n",
        "# This will take a while"
      ]
    },
    {
      "cell_type": "markdown",
      "metadata": {
        "id": "f4pdS_77LMic"
      },
      "source": [
        "## Part 2: Connect to the Database"
      ]
    },
    {
      "cell_type": "markdown",
      "metadata": {
        "id": "FbLKpkC3LMic"
      },
      "source": [
        "Python is used to connect to the database and run some queries to see what this data looks like.\n",
        "\n",
        "Import the libraries:\n"
      ]
    },
    {
      "cell_type": "code",
      "execution_count": 7,
      "metadata": {
        "collapsed": true,
        "id": "8ZUypg_CLMic"
      },
      "outputs": [],
      "source": [
        "# Code Cell 5\n",
        "# this is the library to talk to the database\n",
        "import sqlite3\n",
        "import pandas as pd\n",
        "# this is a library for data visualization\n",
        "from matplotlib import pyplot as plt\n",
        "# this is to say that we want our plots to be part of this page, and not opened in a new window\n",
        "%matplotlib inline"
      ]
    },
    {
      "cell_type": "markdown",
      "metadata": {
        "id": "UPGCe-dcLMid"
      },
      "source": [
        "You can find sqlite3 for Python documentation here: https://docs.python.org/2/library/sqlite3.html\n",
        "\n",
        "#### Step 1: Connect and execute a query.\n",
        "An open connection and a cursor is needed to communicate with the database. The cursor is a control structure that will enable us to navigate through tables and records.\n",
        "\n",
        "To open a connection, call the method `connect` of the library `sqlite3`. This function takes a string containing the name of the database for which the connection is needed.\n",
        "\n",
        "In this case, the command will be:\n",
        "\n",
        "    sqlite3.connect('InternetSpeed.db')\n",
        "\n",
        "This function returns the connection that will be stored as a variable, called `conn`. To create the cursor, call the method `cursor()` in the following way:\n",
        "\n",
        "    conn.cursor()\n",
        "\n",
        "Save it in a variable called `cur`.\n",
        "\n",
        "\n",
        "###### a) Connect to the database you just created, and then create a cursor pointing to the database.\n"
      ]
    },
    {
      "cell_type": "code",
      "execution_count": 9,
      "metadata": {
        "collapsed": true,
        "id": "mT2abLGgLMid"
      },
      "outputs": [],
      "source": [
        "# Code Cell 6\n",
        "# what is the name of the database you want to connect to?\n",
        "conn = sqlite3.connect('InternetSpeed.db')\n",
        "cur = conn.cursor()"
      ]
    },
    {
      "cell_type": "markdown",
      "metadata": {
        "id": "-MuuzXJULMie"
      },
      "source": [
        "In order to execute a query on the database, we will need to use the cursor we just created and the method `execute()`. This method takes as input a string containing the query we are interested in. We can store the string in a variable, let's call it `query`. Call the method in this way:\n",
        "\n",
        "    cur.execute(query)\n",
        "\n",
        "The table we want to query is not very good for visualization, so we are going to SELECT only the column DateTime, that contains date and time of the measurements. We will LIMIT the number of rows retrieved by the query to 10.\n",
        "\n",
        "###### b) Execute a query.\n",
        "Select the first 10 rows from the DateTime column.\n",
        "\n",
        "Hint: if you want to check the name of the tables in your database, go back to the interactive command line and use this code:\n",
        "    \n",
        "    .tables"
      ]
    },
    {
      "cell_type": "code",
      "execution_count": 10,
      "metadata": {
        "collapsed": true,
        "colab": {
          "base_uri": "https://localhost:8080/"
        },
        "id": "FSUQv1VCLMie",
        "outputId": "ee47affb-d134-412c-fa4d-b17201045e9c"
      },
      "outputs": [
        {
          "output_type": "execute_result",
          "data": {
            "text/plain": [
              "<sqlite3.Cursor at 0x7ce786160fc0>"
            ]
          },
          "metadata": {},
          "execution_count": 10
        }
      ],
      "source": [
        "# Code Cell 7\n",
        "# complete the query with the field you want to select, the table you want to select the field from,\n",
        "# and the field you want your results to be ordered by\n",
        "query = 'SELECT DateTime FROM LA_wifi_speed_UK ORDER BY DateTime LIMIT 10;'\n",
        "# Execute the query\n",
        "cur.execute(query)\n"
      ]
    },
    {
      "cell_type": "markdown",
      "metadata": {
        "id": "pEGw-8ndLMie"
      },
      "source": [
        "The query result is stored in `cur`. We need to iterate over it in order to visualize the result."
      ]
    },
    {
      "cell_type": "code",
      "execution_count": 11,
      "metadata": {
        "collapsed": true,
        "colab": {
          "base_uri": "https://localhost:8080/"
        },
        "id": "8JPpKjXVLMif",
        "outputId": "bcc68aad-c44d-4eaf-b598-da04cc5a7d5c"
      },
      "outputs": [
        {
          "output_type": "stream",
          "name": "stdout",
          "text": [
            "(None,)\n",
            "('2016-11-23 00:00:00.000000',)\n",
            "('2016-11-23 00:30:00.000000',)\n",
            "('2016-11-23 01:00:00.000000',)\n",
            "('2016-11-23 01:30:00.000000',)\n",
            "('2016-11-23 02:00:00.000000',)\n",
            "('2016-11-23 02:30:00.000000',)\n",
            "('2016-11-23 03:00:00.000000',)\n",
            "('2016-11-23 03:30:00.000000',)\n",
            "('2016-11-23 04:00:00.000000',)\n"
          ]
        }
      ],
      "source": [
        "# Code Cell 8\n",
        "for row in cur:\n",
        "    print(row)"
      ]
    },
    {
      "cell_type": "markdown",
      "metadata": {
        "id": "U0VBx7ehLMif"
      },
      "source": [
        "**Note**: We need to sort the table containing the measurement according to the column DateTime. This is because SQL does not have an intrinsic ordering of the rows, and we are dealing with a time series, that without the correct ordering, don't make any sense. Selecting a random sample of rows would remove the temporal component:\n"
      ]
    },
    {
      "cell_type": "code",
      "execution_count": 12,
      "metadata": {
        "collapsed": true,
        "colab": {
          "base_uri": "https://localhost:8080/"
        },
        "id": "_5cVDXH-LMif",
        "outputId": "3a43b265-94af-4abd-ef4a-12fce160023a"
      },
      "outputs": [
        {
          "output_type": "stream",
          "name": "stdout",
          "text": [
            "('2016-11-23 01:30:00.000000',)\n",
            "('2016-11-27 09:00:00.000000',)\n",
            "('2016-11-23 18:00:00.000000',)\n",
            "('2016-11-27 11:30:00.000000',)\n",
            "('2016-11-27 15:00:00.000000',)\n",
            "('2016-11-23 12:30:00.000000',)\n",
            "('2016-11-26 16:00:00.000000',)\n",
            "('2016-11-26 02:00:00.000000',)\n",
            "('2016-11-25 01:30:00.000000',)\n",
            "('2016-11-25 15:00:00.000000',)\n"
          ]
        }
      ],
      "source": [
        "# Code Cell 9\n",
        "query = 'SELECT DateTime FROM LA_wifi_speed_UK ORDER BY RANDOM() LIMIT 10'\n",
        "cur.execute(query)\n",
        "\n",
        "for row in cur:\n",
        "    print(row)"
      ]
    },
    {
      "cell_type": "markdown",
      "metadata": {
        "id": "hCbrsQ5TLMig"
      },
      "source": [
        "#### Step 2: Focus on a portion of the data.\n",
        "\n",
        "What are the names of the 900+ columns? It is possible to automatically retrieve them and store them in a list. It will come in handy for different things later.\n",
        "\n",
        "First of all, we need to execute a query over all the columns. In this case, it is not important the number of rows the query returns, so we will limit it to 1."
      ]
    },
    {
      "cell_type": "code",
      "execution_count": 13,
      "metadata": {
        "collapsed": true,
        "colab": {
          "base_uri": "https://localhost:8080/"
        },
        "id": "OA_3cB7wLMig",
        "outputId": "9d5622b4-2e4c-49bf-ebb8-088acaf3efc0"
      },
      "outputs": [
        {
          "output_type": "execute_result",
          "data": {
            "text/plain": [
              "<sqlite3.Cursor at 0x7ce786160fc0>"
            ]
          },
          "metadata": {},
          "execution_count": 13
        }
      ],
      "source": [
        "# Code Cell 10\n",
        "# we need to have a cursor pointing to a table for this operation\n",
        "query = 'SELECT * FROM LA_wifi_speed_UK LIMIT 1'\n",
        "cur.execute(query)"
      ]
    },
    {
      "cell_type": "markdown",
      "metadata": {
        "id": "0yfRFKnALMig"
      },
      "source": [
        "The name of the columns of the table are stored in the field `description` of the cursor."
      ]
    },
    {
      "cell_type": "code",
      "execution_count": 14,
      "metadata": {
        "collapsed": true,
        "colab": {
          "base_uri": "https://localhost:8080/"
        },
        "id": "qlBzqX6cLMih",
        "outputId": "e1c6ce62-531e-46d8-86f4-801051386a6c"
      },
      "outputs": [
        {
          "output_type": "execute_result",
          "data": {
            "text/plain": [
              "(('E07000223_p', None, None, None, None, None, None),\n",
              " ('E07000026_p', None, None, None, None, None, None),\n",
              " ('E07000032_p', None, None, None, None, None, None),\n",
              " ('E07000224_p', None, None, None, None, None, None),\n",
              " ('E07000170_p', None, None, None, None, None, None),\n",
              " ('E07000105_p', None, None, None, None, None, None),\n",
              " ('E07000004_p', None, None, None, None, None, None),\n",
              " ('E07000200_p', None, None, None, None, None, None),\n",
              " ('E09000002_p', None, None, None, None, None, None),\n",
              " ('E09000003_p', None, None, None, None, None, None))"
            ]
          },
          "metadata": {},
          "execution_count": 14
        }
      ],
      "source": [
        "# Code Cell 11\n",
        "#visualizing the first 10 rows of the field description\n",
        "cur.description[:10]"
      ]
    },
    {
      "cell_type": "markdown",
      "metadata": {
        "id": "lm1Da5IsLMih"
      },
      "source": [
        "We can loop over the members of this field and put the names of the columns in a list (a handy data structure in this case).\n",
        "In Python, it is possible to generate lists as the output of a for loop. This concept is called list comprehension and it is just another name for a longer for loop. Each element of the output list is the operation you would do inside the for loop, while iterating over a certain set.  "
      ]
    },
    {
      "cell_type": "code",
      "execution_count": 15,
      "metadata": {
        "collapsed": true,
        "id": "bA9efdWhLMii"
      },
      "outputs": [],
      "source": [
        "# Code Cell 12\n",
        "# loop over the header and store them in a list\n",
        "columns = [member[0] for member in cur.description]\n",
        "\n",
        "# ignore index column\n",
        "columns = columns[1:]"
      ]
    },
    {
      "cell_type": "markdown",
      "metadata": {
        "id": "5YSv9au_LMii"
      },
      "source": [
        "The columns contain the measurements of the three speeds for each geographical area. They are in this form:\n",
        "\n",
        "`<area name>_<suffix>`,\n",
        "\n",
        "Suffix is `p` for ping, `u` for upload and `d` for download.\n",
        "\n",
        "We need to get rid of the suffixes, since we are interested in the names of the area, and at the moment each name is repeated three times. We will use the name of the areas to visualize the various measurements and to generate a new table later in the lab.\n",
        "\n",
        "We can replace the final part of the string with an empty character. To do so, we can use the method `replace()` (see string documentation, https://docs.python.org/2/library/string.html).\n",
        "This method takes as input the part of the string to be replaced and the new piece of string to replace. For instance, to remove the characters `e` and `s` from the string `'chestnut'`, use this code:\n",
        "    \n",
        "    'chestnut'.replace('es', '')\n",
        "\n",
        "###### a) Get area names.\n",
        "Use list comprehension to loop over the list containing the names of the columns of the table and remove the suffixes \"_p\", \"_d\", and \"_u\"."
      ]
    },
    {
      "cell_type": "code",
      "execution_count": 16,
      "metadata": {
        "collapsed": true,
        "id": "WTJt43kzLMij"
      },
      "outputs": [],
      "source": [
        "# Code Cell 13\n",
        "# remove suffix '_p'\n",
        "columns = [c.replace('_p', '') for c in columns]\n",
        "# remove suffix '_d'\n",
        "columns = [c.replace('_d', '') for c in columns]\n",
        "# remove suffix '_u'\n",
        "columns = [c.replace('_u', '') for c in columns]\n",
        "\n",
        "\n",
        "\n",
        "# this operation is to remove duplicates\n",
        "columns = list(set(columns))"
      ]
    },
    {
      "cell_type": "code",
      "execution_count": 17,
      "metadata": {
        "collapsed": true,
        "colab": {
          "base_uri": "https://localhost:8080/"
        },
        "id": "Wn0cfGOMLMij",
        "outputId": "79ccf38e-19c6-4847-85ec-812640b1c04b"
      },
      "outputs": [
        {
          "output_type": "execute_result",
          "data": {
            "text/plain": [
              "['E07000152',\n",
              " 'E07000220',\n",
              " 'E08000023',\n",
              " 'E07000071',\n",
              " 'E07000073',\n",
              " 'E07000028',\n",
              " 'E07000166',\n",
              " 'E06000031',\n",
              " 'E06000051',\n",
              " 'E06000037']"
            ]
          },
          "metadata": {},
          "execution_count": 17
        }
      ],
      "source": [
        "# Code Cell 14\n",
        "# visualize the first 10 areas\n",
        "columns[:10]"
      ]
    },
    {
      "cell_type": "markdown",
      "metadata": {
        "id": "s0cELTsPLMik"
      },
      "source": [
        "The best way to understand the data in the database is to visualize a part of it. In particular, we want to select the three statistics for an area. First of all, let's pick the first area we have in the dataset:"
      ]
    },
    {
      "cell_type": "code",
      "execution_count": 18,
      "metadata": {
        "collapsed": true,
        "colab": {
          "base_uri": "https://localhost:8080/"
        },
        "id": "e2SGDz9oLMik",
        "outputId": "e52451dd-744c-4324-da1a-9d25753c63de"
      },
      "outputs": [
        {
          "output_type": "stream",
          "name": "stdout",
          "text": [
            "E07000152\n"
          ]
        }
      ],
      "source": [
        "# Code Cell 15\n",
        "area = columns[0]\n",
        "print(area)"
      ]
    },
    {
      "cell_type": "markdown",
      "metadata": {
        "id": "DmPYJYHLLMik"
      },
      "source": [
        "Now we want to visualize the data relative to the area `E07000101`. We need to select the columns containing the three measurements for this area. To do so, we need to manipulate strings again.\n",
        "\n",
        "One way to format a string is:\n",
        "\n",
        "    'We are considering {} area and {} statistics'.format(1, 3)\n",
        "    \n",
        "    We are considering 1 area and 3 statistics\n",
        "\n",
        "We need to add the suffixes back in to get the correct column names. The first thing to do is to build a dictionary that associates the complete name of the measurement to the suffix. This is also going to be helpful to write a meaningful legend in the plot."
      ]
    },
    {
      "cell_type": "code",
      "execution_count": 19,
      "metadata": {
        "collapsed": true,
        "colab": {
          "base_uri": "https://localhost:8080/"
        },
        "id": "N46VhgA6LMik",
        "outputId": "e15bb381-1585-4db5-b796-d80eedf480e4"
      },
      "outputs": [
        {
          "output_type": "stream",
          "name": "stdout",
          "text": [
            "dict_keys(['_p', '_d', '_u'])\n",
            "dict_values(['ping', 'download', 'upload'])\n"
          ]
        }
      ],
      "source": [
        "# Code Cell 16\n",
        "suffix = {'_p':'ping', '_d':'download', '_u':'upload'}\n",
        "# we have the suffixes as the keys of the dictionary\n",
        "print(suffix.keys())\n",
        "\n",
        "# we have the complete names as the values of the dictionary\n",
        "print(suffix.values())"
      ]
    },
    {
      "cell_type": "markdown",
      "metadata": {
        "id": "nT5A3VcFLMil"
      },
      "source": [
        "Now the process is to loop over the keys of the dictionary, write and execute the query to select the measurement relative to our area and, plot them using this code:\n",
        "\n",
        "    plt.plot(cur.fetchall(), label=suffix[s])\n",
        "    \n",
        "The method `fetchall()` retrieves all the rows of the query result. The field `label` will be used to produce the legend of the plot. We can also add a title to the plot, using the method `title()`.\n",
        "\n",
        "###### b) Write the query to select the relevant columns."
      ]
    },
    {
      "cell_type": "code",
      "execution_count": 21,
      "metadata": {
        "collapsed": true,
        "colab": {
          "base_uri": "https://localhost:8080/",
          "height": 717
        },
        "id": "9YoSY7plLMim",
        "outputId": "998d59ff-688d-4ccd-b078-30a9efe68d8a"
      },
      "outputs": [
        {
          "output_type": "execute_result",
          "data": {
            "text/plain": [
              "Text(0.5, 1.0, 'E07000152')"
            ]
          },
          "metadata": {},
          "execution_count": 21
        },
        {
          "output_type": "display_data",
          "data": {
            "text/plain": [
              "<Figure size 1000x800 with 1 Axes>"
            ],
            "image/png": "[encoded data removed]"
          },
          "metadata": {}
        }
      ],
      "source": [
        "# Code Cell 17\n",
        "area = columns[0]\n",
        "plt.figure(figsize=(10, 8))\n",
        "\n",
        "# Plot each variable in suffix.keys() for each area\n",
        "for s in suffix.keys():\n",
        "    query = 'SELECT {}{} FROM LA_wifi_speed_UK ORDER BY DateTime'.format(area, s)\n",
        "    cur.execute(query)\n",
        "    plt.plot(cur.fetchall(), label=suffix[s])\n",
        "plt.legend()\n",
        "plt.title(area)"
      ]
    },
    {
      "cell_type": "markdown",
      "metadata": {
        "id": "EENMgF1GLMim"
      },
      "source": [
        "## Part 3: Manipulate the data with Pandas\n",
        "\n",
        "The goal now is to calculate the average wifi speed for all the areas in the dataset. Pandas can help in storing and visualizing the data easily.\n",
        "\n",
        "#### Step 1: Convert all measurements to averages.\n",
        "For each Local Authority. we want to know what the average internet speed for ping, upload, and download was in the period of time over which our data was collected. Pandas dataframes are handy for this kind of operations.\n",
        "\n",
        "###### a) Create an empty dataframe with specific columns.\n",
        "\n",
        "['Area', 'Average_p', 'Average_d', 'Average_u']\n",
        "\n",
        "Note: the order of the new specific columns is aligned with the order of keys in the output of `suffix.keys()`, that is `['_p', '_d', '_u']`."
      ]
    },
    {
      "cell_type": "code",
      "execution_count": 22,
      "metadata": {
        "collapsed": true,
        "id": "nUCYX5-BLMin"
      },
      "outputs": [],
      "source": [
        "# Code Cell 18\n",
        "new_columns =  ['Area', 'Average_p', 'Average_d', 'Average_u']\n",
        "df = pd.DataFrame(columns = new_columns)\n"
      ]
    },
    {
      "cell_type": "markdown",
      "metadata": {
        "id": "4sAwk78cLMin"
      },
      "source": [
        "An interesting metric is the average speed of ping, upload, and download for every area. To compute it, we need to loop over the columns, and for each area, for each statistic, we want to compute the average. We will then insert it in the empty dataframe we have just created.\n",
        "\n",
        "To do so, we will create a temporary list and populate it with the three metrics for each area. This is going to be the row we are going to insert in the dataframe.\n",
        "\n",
        "To refresh the commands:\n",
        "\n",
        "* Loop over the list containing the name of the areas.\n",
        "* Loop over the three suffixes (keys of dictionary `suffix`).\n",
        "* Write the query to select the average of the metric for an area, using string formatters.\n",
        "* Execute the query and fetch the result (method `fetchone()`).\n",
        "* Append the average to the temporary list (method `append()`).\n",
        "* At the end of the internal loop, insert the temporary list in the dataframe (method `append()`, parameter `ignore_index=True`).\n",
        "\n",
        "###### b) Compute the averages.\n",
        "Write the SQL query that computes the average of a column and store it in a temporary list. The list will be the new row appended to the dataframe. This will take about 1 minute on the RaPi."
      ]
    },
    {
      "cell_type": "code",
      "execution_count": 23,
      "metadata": {
        "collapsed": true,
        "colab": {
          "base_uri": "https://localhost:8080/",
          "height": 1000
        },
        "id": "Egmvvs8dLMin",
        "outputId": "b3829c88-5ee3-405d-e357-ff68396dd69e"
      },
      "outputs": [
        {
          "output_type": "stream",
          "name": "stderr",
          "text": [
            "<ipython-input-23-f245c9584e39>:15: FutureWarning: The frame.append method is deprecated and will be removed from pandas in a future version. Use pandas.concat instead.\n",
            "  df = df.append(pd.Series(tmp_list, index=new_columns), ignore_index=True)\n",
            "<ipython-input-23-f245c9584e39>:15: FutureWarning: The frame.append method is deprecated and will be removed from pandas in a future version. Use pandas.concat instead.\n",
            "  df = df.append(pd.Series(tmp_list, index=new_columns), ignore_index=True)\n",
            "<ipython-input-23-f245c9584e39>:15: FutureWarning: The frame.append method is deprecated and will be removed from pandas in a future version. Use pandas.concat instead.\n",
            "  df = df.append(pd.Series(tmp_list, index=new_columns), ignore_index=True)\n",
            "<ipython-input-23-f245c9584e39>:15: FutureWarning: The frame.append method is deprecated and will be removed from pandas in a future version. Use pandas.concat instead.\n",
            "  df = df.append(pd.Series(tmp_list, index=new_columns), ignore_index=True)\n",
            "<ipython-input-23-f245c9584e39>:15: FutureWarning: The frame.append method is deprecated and will be removed from pandas in a future version. Use pandas.concat instead.\n",
            "  df = df.append(pd.Series(tmp_list, index=new_columns), ignore_index=True)\n",
            "<ipython-input-23-f245c9584e39>:15: FutureWarning: The frame.append method is deprecated and will be removed from pandas in a future version. Use pandas.concat instead.\n",
            "  df = df.append(pd.Series(tmp_list, index=new_columns), ignore_index=True)\n",
            "<ipython-input-23-f245c9584e39>:15: FutureWarning: The frame.append method is deprecated and will be removed from pandas in a future version. Use pandas.concat instead.\n",
            "  df = df.append(pd.Series(tmp_list, index=new_columns), ignore_index=True)\n",
            "<ipython-input-23-f245c9584e39>:15: FutureWarning: The frame.append method is deprecated and will be removed from pandas in a future version. Use pandas.concat instead.\n",
            "  df = df.append(pd.Series(tmp_list, index=new_columns), ignore_index=True)\n",
            "<ipython-input-23-f245c9584e39>:15: FutureWarning: The frame.append method is deprecated and will be removed from pandas in a future version. Use pandas.concat instead.\n",
            "  df = df.append(pd.Series(tmp_list, index=new_columns), ignore_index=True)\n",
            "<ipython-input-23-f245c9584e39>:15: FutureWarning: The frame.append method is deprecated and will be removed from pandas in a future version. Use pandas.concat instead.\n",
            "  df = df.append(pd.Series(tmp_list, index=new_columns), ignore_index=True)\n",
            "<ipython-input-23-f245c9584e39>:15: FutureWarning: The frame.append method is deprecated and will be removed from pandas in a future version. Use pandas.concat instead.\n",
            "  df = df.append(pd.Series(tmp_list, index=new_columns), ignore_index=True)\n",
            "<ipython-input-23-f245c9584e39>:15: FutureWarning: The frame.append method is deprecated and will be removed from pandas in a future version. Use pandas.concat instead.\n",
            "  df = df.append(pd.Series(tmp_list, index=new_columns), ignore_index=True)\n",
            "<ipython-input-23-f245c9584e39>:15: FutureWarning: The frame.append method is deprecated and will be removed from pandas in a future version. Use pandas.concat instead.\n",
            "  df = df.append(pd.Series(tmp_list, index=new_columns), ignore_index=True)\n",
            "<ipython-input-23-f245c9584e39>:15: FutureWarning: The frame.append method is deprecated and will be removed from pandas in a future version. Use pandas.concat instead.\n",
            "  df = df.append(pd.Series(tmp_list, index=new_columns), ignore_index=True)\n",
            "<ipython-input-23-f245c9584e39>:15: FutureWarning: The frame.append method is deprecated and will be removed from pandas in a future version. Use pandas.concat instead.\n",
            "  df = df.append(pd.Series(tmp_list, index=new_columns), ignore_index=True)\n",
            "<ipython-input-23-f245c9584e39>:15: FutureWarning: The frame.append method is deprecated and will be removed from pandas in a future version. Use pandas.concat instead.\n",
            "  df = df.append(pd.Series(tmp_list, index=new_columns), ignore_index=True)\n",
            "<ipython-input-23-f245c9584e39>:15: FutureWarning: The frame.append method is deprecated and will be removed from pandas in a future version. Use pandas.concat instead.\n",
            "  df = df.append(pd.Series(tmp_list, index=new_columns), ignore_index=True)\n",
            "<ipython-input-23-f245c9584e39>:15: FutureWarning: The frame.append method is deprecated and will be removed from pandas in a future version. Use pandas.concat instead.\n",
            "  df = df.append(pd.Series(tmp_list, index=new_columns), ignore_index=True)\n",
            "<ipython-input-23-f245c9584e39>:15: FutureWarning: The frame.append method is deprecated and will be removed from pandas in a future version. Use pandas.concat instead.\n",
            "  df = df.append(pd.Series(tmp_list, index=new_columns), ignore_index=True)\n",
            "<ipython-input-23-f245c9584e39>:15: FutureWarning: The frame.append method is deprecated and will be removed from pandas in a future version. Use pandas.concat instead.\n",
            "  df = df.append(pd.Series(tmp_list, index=new_columns), ignore_index=True)\n",
            "<ipython-input-23-f245c9584e39>:15: FutureWarning: The frame.append method is deprecated and will be removed from pandas in a future version. Use pandas.concat instead.\n",
            "  df = df.append(pd.Series(tmp_list, index=new_columns), ignore_index=True)\n",
            "<ipython-input-23-f245c9584e39>:15: FutureWarning: The frame.append method is deprecated and will be removed from pandas in a future version. Use pandas.concat instead.\n",
            "  df = df.append(pd.Series(tmp_list, index=new_columns), ignore_index=True)\n",
            "<ipython-input-23-f245c9584e39>:15: FutureWarning: The frame.append method is deprecated and will be removed from pandas in a future version. Use pandas.concat instead.\n",
            "  df = df.append(pd.Series(tmp_list, index=new_columns), ignore_index=True)\n",
            "<ipython-input-23-f245c9584e39>:15: FutureWarning: The frame.append method is deprecated and will be removed from pandas in a future version. Use pandas.concat instead.\n",
            "  df = df.append(pd.Series(tmp_list, index=new_columns), ignore_index=True)\n",
            "<ipython-input-23-f245c9584e39>:15: FutureWarning: The frame.append method is deprecated and will be removed from pandas in a future version. Use pandas.concat instead.\n",
            "  df = df.append(pd.Series(tmp_list, index=new_columns), ignore_index=True)\n",
            "<ipython-input-23-f245c9584e39>:15: FutureWarning: The frame.append method is deprecated and will be removed from pandas in a future version. Use pandas.concat instead.\n",
            "  df = df.append(pd.Series(tmp_list, index=new_columns), ignore_index=True)\n",
            "<ipython-input-23-f245c9584e39>:15: FutureWarning: The frame.append method is deprecated and will be removed from pandas in a future version. Use pandas.concat instead.\n",
            "  df = df.append(pd.Series(tmp_list, index=new_columns), ignore_index=True)\n",
            "<ipython-input-23-f245c9584e39>:15: FutureWarning: The frame.append method is deprecated and will be removed from pandas in a future version. Use pandas.concat instead.\n",
            "  df = df.append(pd.Series(tmp_list, index=new_columns), ignore_index=True)\n",
            "<ipython-input-23-f245c9584e39>:15: FutureWarning: The frame.append method is deprecated and will be removed from pandas in a future version. Use pandas.concat instead.\n",
            "  df = df.append(pd.Series(tmp_list, index=new_columns), ignore_index=True)\n",
            "<ipython-input-23-f245c9584e39>:15: FutureWarning: The frame.append method is deprecated and will be removed from pandas in a future version. Use pandas.concat instead.\n",
            "  df = df.append(pd.Series(tmp_list, index=new_columns), ignore_index=True)\n",
            "<ipython-input-23-f245c9584e39>:15: FutureWarning: The frame.append method is deprecated and will be removed from pandas in a future version. Use pandas.concat instead.\n",
            "  df = df.append(pd.Series(tmp_list, index=new_columns), ignore_index=True)\n",
            "<ipython-input-23-f245c9584e39>:15: FutureWarning: The frame.append method is deprecated and will be removed from pandas in a future version. Use pandas.concat instead.\n",
            "  df = df.append(pd.Series(tmp_list, index=new_columns), ignore_index=True)\n",
            "<ipython-input-23-f245c9584e39>:15: FutureWarning: The frame.append method is deprecated and will be removed from pandas in a future version. Use pandas.concat instead.\n",
            "  df = df.append(pd.Series(tmp_list, index=new_columns), ignore_index=True)\n",
            "<ipython-input-23-f245c9584e39>:15: FutureWarning: The frame.append method is deprecated and will be removed from pandas in a future version. Use pandas.concat instead.\n",
            "  df = df.append(pd.Series(tmp_list, index=new_columns), ignore_index=True)\n",
            "<ipython-input-23-f245c9584e39>:15: FutureWarning: The frame.append method is deprecated and will be removed from pandas in a future version. Use pandas.concat instead.\n",
            "  df = df.append(pd.Series(tmp_list, index=new_columns), ignore_index=True)\n",
            "<ipython-input-23-f245c9584e39>:15: FutureWarning: The frame.append method is deprecated and will be removed from pandas in a future version. Use pandas.concat instead.\n",
            "  df = df.append(pd.Series(tmp_list, index=new_columns), ignore_index=True)\n",
            "<ipython-input-23-f245c9584e39>:15: FutureWarning: The frame.append method is deprecated and will be removed from pandas in a future version. Use pandas.concat instead.\n",
            "  df = df.append(pd.Series(tmp_list, index=new_columns), ignore_index=True)\n",
            "<ipython-input-23-f245c9584e39>:15: FutureWarning: The frame.append method is deprecated and will be removed from pandas in a future version. Use pandas.concat instead.\n",
            "  df = df.append(pd.Series(tmp_list, index=new_columns), ignore_index=True)\n",
            "<ipython-input-23-f245c9584e39>:15: FutureWarning: The frame.append method is deprecated and will be removed from pandas in a future version. Use pandas.concat instead.\n",
            "  df = df.append(pd.Series(tmp_list, index=new_columns), ignore_index=True)\n",
            "<ipython-input-23-f245c9584e39>:15: FutureWarning: The frame.append method is deprecated and will be removed from pandas in a future version. Use pandas.concat instead.\n",
            "  df = df.append(pd.Series(tmp_list, index=new_columns), ignore_index=True)\n",
            "<ipython-input-23-f245c9584e39>:15: FutureWarning: The frame.append method is deprecated and will be removed from pandas in a future version. Use pandas.concat instead.\n",
            "  df = df.append(pd.Series(tmp_list, index=new_columns), ignore_index=True)\n",
            "<ipython-input-23-f245c9584e39>:15: FutureWarning: The frame.append method is deprecated and will be removed from pandas in a future version. Use pandas.concat instead.\n",
            "  df = df.append(pd.Series(tmp_list, index=new_columns), ignore_index=True)\n",
            "<ipython-input-23-f245c9584e39>:15: FutureWarning: The frame.append method is deprecated and will be removed from pandas in a future version. Use pandas.concat instead.\n",
            "  df = df.append(pd.Series(tmp_list, index=new_columns), ignore_index=True)\n",
            "<ipython-input-23-f245c9584e39>:15: FutureWarning: The frame.append method is deprecated and will be removed from pandas in a future version. Use pandas.concat instead.\n",
            "  df = df.append(pd.Series(tmp_list, index=new_columns), ignore_index=True)\n",
            "<ipython-input-23-f245c9584e39>:15: FutureWarning: The frame.append method is deprecated and will be removed from pandas in a future version. Use pandas.concat instead.\n",
            "  df = df.append(pd.Series(tmp_list, index=new_columns), ignore_index=True)\n",
            "<ipython-input-23-f245c9584e39>:15: FutureWarning: The frame.append method is deprecated and will be removed from pandas in a future version. Use pandas.concat instead.\n",
            "  df = df.append(pd.Series(tmp_list, index=new_columns), ignore_index=True)\n",
            "<ipython-input-23-f245c9584e39>:15: FutureWarning: The frame.append method is deprecated and will be removed from pandas in a future version. Use pandas.concat instead.\n",
            "  df = df.append(pd.Series(tmp_list, index=new_columns), ignore_index=True)\n",
            "<ipython-input-23-f245c9584e39>:15: FutureWarning: The frame.append method is deprecated and will be removed from pandas in a future version. Use pandas.concat instead.\n",
            "  df = df.append(pd.Series(tmp_list, index=new_columns), ignore_index=True)\n",
            "<ipython-input-23-f245c9584e39>:15: FutureWarning: The frame.append method is deprecated and will be removed from pandas in a future version. Use pandas.concat instead.\n",
            "  df = df.append(pd.Series(tmp_list, index=new_columns), ignore_index=True)\n",
            "<ipython-input-23-f245c9584e39>:15: FutureWarning: The frame.append method is deprecated and will be removed from pandas in a future version. Use pandas.concat instead.\n",
            "  df = df.append(pd.Series(tmp_list, index=new_columns), ignore_index=True)\n",
            "<ipython-input-23-f245c9584e39>:15: FutureWarning: The frame.append method is deprecated and will be removed from pandas in a future version. Use pandas.concat instead.\n",
            "  df = df.append(pd.Series(tmp_list, index=new_columns), ignore_index=True)\n",
            "<ipython-input-23-f245c9584e39>:15: FutureWarning: The frame.append method is deprecated and will be removed from pandas in a future version. Use pandas.concat instead.\n",
            "  df = df.append(pd.Series(tmp_list, index=new_columns), ignore_index=True)\n",
            "<ipython-input-23-f245c9584e39>:15: FutureWarning: The frame.append method is deprecated and will be removed from pandas in a future version. Use pandas.concat instead.\n",
            "  df = df.append(pd.Series(tmp_list, index=new_columns), ignore_index=True)\n",
            "<ipython-input-23-f245c9584e39>:15: FutureWarning: The frame.append method is deprecated and will be removed from pandas in a future version. Use pandas.concat instead.\n",
            "  df = df.append(pd.Series(tmp_list, index=new_columns), ignore_index=True)\n",
            "<ipython-input-23-f245c9584e39>:15: FutureWarning: The frame.append method is deprecated and will be removed from pandas in a future version. Use pandas.concat instead.\n",
            "  df = df.append(pd.Series(tmp_list, index=new_columns), ignore_index=True)\n",
            "<ipython-input-23-f245c9584e39>:15: FutureWarning: The frame.append method is deprecated and will be removed from pandas in a future version. Use pandas.concat instead.\n",
            "  df = df.append(pd.Series(tmp_list, index=new_columns), ignore_index=True)\n",
            "<ipython-input-23-f245c9584e39>:15: FutureWarning: The frame.append method is deprecated and will be removed from pandas in a future version. Use pandas.concat instead.\n",
            "  df = df.append(pd.Series(tmp_list, index=new_columns), ignore_index=True)\n",
            "<ipython-input-23-f245c9584e39>:15: FutureWarning: The frame.append method is deprecated and will be removed from pandas in a future version. Use pandas.concat instead.\n",
            "  df = df.append(pd.Series(tmp_list, index=new_columns), ignore_index=True)\n",
            "<ipython-input-23-f245c9584e39>:15: FutureWarning: The frame.append method is deprecated and will be removed from pandas in a future version. Use pandas.concat instead.\n",
            "  df = df.append(pd.Series(tmp_list, index=new_columns), ignore_index=True)\n",
            "<ipython-input-23-f245c9584e39>:15: FutureWarning: The frame.append method is deprecated and will be removed from pandas in a future version. Use pandas.concat instead.\n",
            "  df = df.append(pd.Series(tmp_list, index=new_columns), ignore_index=True)\n",
            "<ipython-input-23-f245c9584e39>:15: FutureWarning: The frame.append method is deprecated and will be removed from pandas in a future version. Use pandas.concat instead.\n",
            "  df = df.append(pd.Series(tmp_list, index=new_columns), ignore_index=True)\n",
            "<ipython-input-23-f245c9584e39>:15: FutureWarning: The frame.append method is deprecated and will be removed from pandas in a future version. Use pandas.concat instead.\n",
            "  df = df.append(pd.Series(tmp_list, index=new_columns), ignore_index=True)\n",
            "<ipython-input-23-f245c9584e39>:15: FutureWarning: The frame.append method is deprecated and will be removed from pandas in a future version. Use pandas.concat instead.\n",
            "  df = df.append(pd.Series(tmp_list, index=new_columns), ignore_index=True)\n",
            "<ipython-input-23-f245c9584e39>:15: FutureWarning: The frame.append method is deprecated and will be removed from pandas in a future version. Use pandas.concat instead.\n",
            "  df = df.append(pd.Series(tmp_list, index=new_columns), ignore_index=True)\n",
            "<ipython-input-23-f245c9584e39>:15: FutureWarning: The frame.append method is deprecated and will be removed from pandas in a future version. Use pandas.concat instead.\n",
            "  df = df.append(pd.Series(tmp_list, index=new_columns), ignore_index=True)\n",
            "<ipython-input-23-f245c9584e39>:15: FutureWarning: The frame.append method is deprecated and will be removed from pandas in a future version. Use pandas.concat instead.\n",
            "  df = df.append(pd.Series(tmp_list, index=new_columns), ignore_index=True)\n",
            "<ipython-input-23-f245c9584e39>:15: FutureWarning: The frame.append method is deprecated and will be removed from pandas in a future version. Use pandas.concat instead.\n",
            "  df = df.append(pd.Series(tmp_list, index=new_columns), ignore_index=True)\n",
            "<ipython-input-23-f245c9584e39>:15: FutureWarning: The frame.append method is deprecated and will be removed from pandas in a future version. Use pandas.concat instead.\n",
            "  df = df.append(pd.Series(tmp_list, index=new_columns), ignore_index=True)\n",
            "<ipython-input-23-f245c9584e39>:15: FutureWarning: The frame.append method is deprecated and will be removed from pandas in a future version. Use pandas.concat instead.\n",
            "  df = df.append(pd.Series(tmp_list, index=new_columns), ignore_index=True)\n",
            "<ipython-input-23-f245c9584e39>:15: FutureWarning: The frame.append method is deprecated and will be removed from pandas in a future version. Use pandas.concat instead.\n",
            "  df = df.append(pd.Series(tmp_list, index=new_columns), ignore_index=True)\n",
            "<ipython-input-23-f245c9584e39>:15: FutureWarning: The frame.append method is deprecated and will be removed from pandas in a future version. Use pandas.concat instead.\n",
            "  df = df.append(pd.Series(tmp_list, index=new_columns), ignore_index=True)\n",
            "<ipython-input-23-f245c9584e39>:15: FutureWarning: The frame.append method is deprecated and will be removed from pandas in a future version. Use pandas.concat instead.\n",
            "  df = df.append(pd.Series(tmp_list, index=new_columns), ignore_index=True)\n",
            "<ipython-input-23-f245c9584e39>:15: FutureWarning: The frame.append method is deprecated and will be removed from pandas in a future version. Use pandas.concat instead.\n",
            "  df = df.append(pd.Series(tmp_list, index=new_columns), ignore_index=True)\n",
            "<ipython-input-23-f245c9584e39>:15: FutureWarning: The frame.append method is deprecated and will be removed from pandas in a future version. Use pandas.concat instead.\n",
            "  df = df.append(pd.Series(tmp_list, index=new_columns), ignore_index=True)\n",
            "<ipython-input-23-f245c9584e39>:15: FutureWarning: The frame.append method is deprecated and will be removed from pandas in a future version. Use pandas.concat instead.\n",
            "  df = df.append(pd.Series(tmp_list, index=new_columns), ignore_index=True)\n",
            "<ipython-input-23-f245c9584e39>:15: FutureWarning: The frame.append method is deprecated and will be removed from pandas in a future version. Use pandas.concat instead.\n",
            "  df = df.append(pd.Series(tmp_list, index=new_columns), ignore_index=True)\n",
            "<ipython-input-23-f245c9584e39>:15: FutureWarning: The frame.append method is deprecated and will be removed from pandas in a future version. Use pandas.concat instead.\n",
            "  df = df.append(pd.Series(tmp_list, index=new_columns), ignore_index=True)\n",
            "<ipython-input-23-f245c9584e39>:15: FutureWarning: The frame.append method is deprecated and will be removed from pandas in a future version. Use pandas.concat instead.\n",
            "  df = df.append(pd.Series(tmp_list, index=new_columns), ignore_index=True)\n",
            "<ipython-input-23-f245c9584e39>:15: FutureWarning: The frame.append method is deprecated and will be removed from pandas in a future version. Use pandas.concat instead.\n",
            "  df = df.append(pd.Series(tmp_list, index=new_columns), ignore_index=True)\n",
            "<ipython-input-23-f245c9584e39>:15: FutureWarning: The frame.append method is deprecated and will be removed from pandas in a future version. Use pandas.concat instead.\n",
            "  df = df.append(pd.Series(tmp_list, index=new_columns), ignore_index=True)\n",
            "<ipython-input-23-f245c9584e39>:15: FutureWarning: The frame.append method is deprecated and will be removed from pandas in a future version. Use pandas.concat instead.\n",
            "  df = df.append(pd.Series(tmp_list, index=new_columns), ignore_index=True)\n",
            "<ipython-input-23-f245c9584e39>:15: FutureWarning: The frame.append method is deprecated and will be removed from pandas in a future version. Use pandas.concat instead.\n",
            "  df = df.append(pd.Series(tmp_list, index=new_columns), ignore_index=True)\n",
            "<ipython-input-23-f245c9584e39>:15: FutureWarning: The frame.append method is deprecated and will be removed from pandas in a future version. Use pandas.concat instead.\n",
            "  df = df.append(pd.Series(tmp_list, index=new_columns), ignore_index=True)\n",
            "<ipython-input-23-f245c9584e39>:15: FutureWarning: The frame.append method is deprecated and will be removed from pandas in a future version. Use pandas.concat instead.\n",
            "  df = df.append(pd.Series(tmp_list, index=new_columns), ignore_index=True)\n",
            "<ipython-input-23-f245c9584e39>:15: FutureWarning: The frame.append method is deprecated and will be removed from pandas in a future version. Use pandas.concat instead.\n",
            "  df = df.append(pd.Series(tmp_list, index=new_columns), ignore_index=True)\n",
            "<ipython-input-23-f245c9584e39>:15: FutureWarning: The frame.append method is deprecated and will be removed from pandas in a future version. Use pandas.concat instead.\n",
            "  df = df.append(pd.Series(tmp_list, index=new_columns), ignore_index=True)\n",
            "<ipython-input-23-f245c9584e39>:15: FutureWarning: The frame.append method is deprecated and will be removed from pandas in a future version. Use pandas.concat instead.\n",
            "  df = df.append(pd.Series(tmp_list, index=new_columns), ignore_index=True)\n",
            "<ipython-input-23-f245c9584e39>:15: FutureWarning: The frame.append method is deprecated and will be removed from pandas in a future version. Use pandas.concat instead.\n",
            "  df = df.append(pd.Series(tmp_list, index=new_columns), ignore_index=True)\n",
            "<ipython-input-23-f245c9584e39>:15: FutureWarning: The frame.append method is deprecated and will be removed from pandas in a future version. Use pandas.concat instead.\n",
            "  df = df.append(pd.Series(tmp_list, index=new_columns), ignore_index=True)\n",
            "<ipython-input-23-f245c9584e39>:15: FutureWarning: The frame.append method is deprecated and will be removed from pandas in a future version. Use pandas.concat instead.\n",
            "  df = df.append(pd.Series(tmp_list, index=new_columns), ignore_index=True)\n",
            "<ipython-input-23-f245c9584e39>:15: FutureWarning: The frame.append method is deprecated and will be removed from pandas in a future version. Use pandas.concat instead.\n",
            "  df = df.append(pd.Series(tmp_list, index=new_columns), ignore_index=True)\n",
            "<ipython-input-23-f245c9584e39>:15: FutureWarning: The frame.append method is deprecated and will be removed from pandas in a future version. Use pandas.concat instead.\n",
            "  df = df.append(pd.Series(tmp_list, index=new_columns), ignore_index=True)\n",
            "<ipython-input-23-f245c9584e39>:15: FutureWarning: The frame.append method is deprecated and will be removed from pandas in a future version. Use pandas.concat instead.\n",
            "  df = df.append(pd.Series(tmp_list, index=new_columns), ignore_index=True)\n",
            "<ipython-input-23-f245c9584e39>:15: FutureWarning: The frame.append method is deprecated and will be removed from pandas in a future version. Use pandas.concat instead.\n",
            "  df = df.append(pd.Series(tmp_list, index=new_columns), ignore_index=True)\n",
            "<ipython-input-23-f245c9584e39>:15: FutureWarning: The frame.append method is deprecated and will be removed from pandas in a future version. Use pandas.concat instead.\n",
            "  df = df.append(pd.Series(tmp_list, index=new_columns), ignore_index=True)\n",
            "<ipython-input-23-f245c9584e39>:15: FutureWarning: The frame.append method is deprecated and will be removed from pandas in a future version. Use pandas.concat instead.\n",
            "  df = df.append(pd.Series(tmp_list, index=new_columns), ignore_index=True)\n",
            "<ipython-input-23-f245c9584e39>:15: FutureWarning: The frame.append method is deprecated and will be removed from pandas in a future version. Use pandas.concat instead.\n",
            "  df = df.append(pd.Series(tmp_list, index=new_columns), ignore_index=True)\n",
            "<ipython-input-23-f245c9584e39>:15: FutureWarning: The frame.append method is deprecated and will be removed from pandas in a future version. Use pandas.concat instead.\n",
            "  df = df.append(pd.Series(tmp_list, index=new_columns), ignore_index=True)\n",
            "<ipython-input-23-f245c9584e39>:15: FutureWarning: The frame.append method is deprecated and will be removed from pandas in a future version. Use pandas.concat instead.\n",
            "  df = df.append(pd.Series(tmp_list, index=new_columns), ignore_index=True)\n",
            "<ipython-input-23-f245c9584e39>:15: FutureWarning: The frame.append method is deprecated and will be removed from pandas in a future version. Use pandas.concat instead.\n",
            "  df = df.append(pd.Series(tmp_list, index=new_columns), ignore_index=True)\n",
            "<ipython-input-23-f245c9584e39>:15: FutureWarning: The frame.append method is deprecated and will be removed from pandas in a future version. Use pandas.concat instead.\n",
            "  df = df.append(pd.Series(tmp_list, index=new_columns), ignore_index=True)\n",
            "<ipython-input-23-f245c9584e39>:15: FutureWarning: The frame.append method is deprecated and will be removed from pandas in a future version. Use pandas.concat instead.\n",
            "  df = df.append(pd.Series(tmp_list, index=new_columns), ignore_index=True)\n",
            "<ipython-input-23-f245c9584e39>:15: FutureWarning: The frame.append method is deprecated and will be removed from pandas in a future version. Use pandas.concat instead.\n",
            "  df = df.append(pd.Series(tmp_list, index=new_columns), ignore_index=True)\n",
            "<ipython-input-23-f245c9584e39>:15: FutureWarning: The frame.append method is deprecated and will be removed from pandas in a future version. Use pandas.concat instead.\n",
            "  df = df.append(pd.Series(tmp_list, index=new_columns), ignore_index=True)\n",
            "<ipython-input-23-f245c9584e39>:15: FutureWarning: The frame.append method is deprecated and will be removed from pandas in a future version. Use pandas.concat instead.\n",
            "  df = df.append(pd.Series(tmp_list, index=new_columns), ignore_index=True)\n",
            "<ipython-input-23-f245c9584e39>:15: FutureWarning: The frame.append method is deprecated and will be removed from pandas in a future version. Use pandas.concat instead.\n",
            "  df = df.append(pd.Series(tmp_list, index=new_columns), ignore_index=True)\n",
            "<ipython-input-23-f245c9584e39>:15: FutureWarning: The frame.append method is deprecated and will be removed from pandas in a future version. Use pandas.concat instead.\n",
            "  df = df.append(pd.Series(tmp_list, index=new_columns), ignore_index=True)\n",
            "<ipython-input-23-f245c9584e39>:15: FutureWarning: The frame.append method is deprecated and will be removed from pandas in a future version. Use pandas.concat instead.\n",
            "  df = df.append(pd.Series(tmp_list, index=new_columns), ignore_index=True)\n",
            "<ipython-input-23-f245c9584e39>:15: FutureWarning: The frame.append method is deprecated and will be removed from pandas in a future version. Use pandas.concat instead.\n",
            "  df = df.append(pd.Series(tmp_list, index=new_columns), ignore_index=True)\n",
            "<ipython-input-23-f245c9584e39>:15: FutureWarning: The frame.append method is deprecated and will be removed from pandas in a future version. Use pandas.concat instead.\n",
            "  df = df.append(pd.Series(tmp_list, index=new_columns), ignore_index=True)\n",
            "<ipython-input-23-f245c9584e39>:15: FutureWarning: The frame.append method is deprecated and will be removed from pandas in a future version. Use pandas.concat instead.\n",
            "  df = df.append(pd.Series(tmp_list, index=new_columns), ignore_index=True)\n",
            "<ipython-input-23-f245c9584e39>:15: FutureWarning: The frame.append method is deprecated and will be removed from pandas in a future version. Use pandas.concat instead.\n",
            "  df = df.append(pd.Series(tmp_list, index=new_columns), ignore_index=True)\n",
            "<ipython-input-23-f245c9584e39>:15: FutureWarning: The frame.append method is deprecated and will be removed from pandas in a future version. Use pandas.concat instead.\n",
            "  df = df.append(pd.Series(tmp_list, index=new_columns), ignore_index=True)\n",
            "<ipython-input-23-f245c9584e39>:15: FutureWarning: The frame.append method is deprecated and will be removed from pandas in a future version. Use pandas.concat instead.\n",
            "  df = df.append(pd.Series(tmp_list, index=new_columns), ignore_index=True)\n",
            "<ipython-input-23-f245c9584e39>:15: FutureWarning: The frame.append method is deprecated and will be removed from pandas in a future version. Use pandas.concat instead.\n",
            "  df = df.append(pd.Series(tmp_list, index=new_columns), ignore_index=True)\n",
            "<ipython-input-23-f245c9584e39>:15: FutureWarning: The frame.append method is deprecated and will be removed from pandas in a future version. Use pandas.concat instead.\n",
            "  df = df.append(pd.Series(tmp_list, index=new_columns), ignore_index=True)\n",
            "<ipython-input-23-f245c9584e39>:15: FutureWarning: The frame.append method is deprecated and will be removed from pandas in a future version. Use pandas.concat instead.\n",
            "  df = df.append(pd.Series(tmp_list, index=new_columns), ignore_index=True)\n",
            "<ipython-input-23-f245c9584e39>:15: FutureWarning: The frame.append method is deprecated and will be removed from pandas in a future version. Use pandas.concat instead.\n",
            "  df = df.append(pd.Series(tmp_list, index=new_columns), ignore_index=True)\n",
            "<ipython-input-23-f245c9584e39>:15: FutureWarning: The frame.append method is deprecated and will be removed from pandas in a future version. Use pandas.concat instead.\n",
            "  df = df.append(pd.Series(tmp_list, index=new_columns), ignore_index=True)\n",
            "<ipython-input-23-f245c9584e39>:15: FutureWarning: The frame.append method is deprecated and will be removed from pandas in a future version. Use pandas.concat instead.\n",
            "  df = df.append(pd.Series(tmp_list, index=new_columns), ignore_index=True)\n",
            "<ipython-input-23-f245c9584e39>:15: FutureWarning: The frame.append method is deprecated and will be removed from pandas in a future version. Use pandas.concat instead.\n",
            "  df = df.append(pd.Series(tmp_list, index=new_columns), ignore_index=True)\n",
            "<ipython-input-23-f245c9584e39>:15: FutureWarning: The frame.append method is deprecated and will be removed from pandas in a future version. Use pandas.concat instead.\n",
            "  df = df.append(pd.Series(tmp_list, index=new_columns), ignore_index=True)\n",
            "<ipython-input-23-f245c9584e39>:15: FutureWarning: The frame.append method is deprecated and will be removed from pandas in a future version. Use pandas.concat instead.\n",
            "  df = df.append(pd.Series(tmp_list, index=new_columns), ignore_index=True)\n",
            "<ipython-input-23-f245c9584e39>:15: FutureWarning: The frame.append method is deprecated and will be removed from pandas in a future version. Use pandas.concat instead.\n",
            "  df = df.append(pd.Series(tmp_list, index=new_columns), ignore_index=True)\n",
            "<ipython-input-23-f245c9584e39>:15: FutureWarning: The frame.append method is deprecated and will be removed from pandas in a future version. Use pandas.concat instead.\n",
            "  df = df.append(pd.Series(tmp_list, index=new_columns), ignore_index=True)\n",
            "<ipython-input-23-f245c9584e39>:15: FutureWarning: The frame.append method is deprecated and will be removed from pandas in a future version. Use pandas.concat instead.\n",
            "  df = df.append(pd.Series(tmp_list, index=new_columns), ignore_index=True)\n",
            "<ipython-input-23-f245c9584e39>:15: FutureWarning: The frame.append method is deprecated and will be removed from pandas in a future version. Use pandas.concat instead.\n",
            "  df = df.append(pd.Series(tmp_list, index=new_columns), ignore_index=True)\n",
            "<ipython-input-23-f245c9584e39>:15: FutureWarning: The frame.append method is deprecated and will be removed from pandas in a future version. Use pandas.concat instead.\n",
            "  df = df.append(pd.Series(tmp_list, index=new_columns), ignore_index=True)\n",
            "<ipython-input-23-f245c9584e39>:15: FutureWarning: The frame.append method is deprecated and will be removed from pandas in a future version. Use pandas.concat instead.\n",
            "  df = df.append(pd.Series(tmp_list, index=new_columns), ignore_index=True)\n",
            "<ipython-input-23-f245c9584e39>:15: FutureWarning: The frame.append method is deprecated and will be removed from pandas in a future version. Use pandas.concat instead.\n",
            "  df = df.append(pd.Series(tmp_list, index=new_columns), ignore_index=True)\n",
            "<ipython-input-23-f245c9584e39>:15: FutureWarning: The frame.append method is deprecated and will be removed from pandas in a future version. Use pandas.concat instead.\n",
            "  df = df.append(pd.Series(tmp_list, index=new_columns), ignore_index=True)\n",
            "<ipython-input-23-f245c9584e39>:15: FutureWarning: The frame.append method is deprecated and will be removed from pandas in a future version. Use pandas.concat instead.\n",
            "  df = df.append(pd.Series(tmp_list, index=new_columns), ignore_index=True)\n",
            "<ipython-input-23-f245c9584e39>:15: FutureWarning: The frame.append method is deprecated and will be removed from pandas in a future version. Use pandas.concat instead.\n",
            "  df = df.append(pd.Series(tmp_list, index=new_columns), ignore_index=True)\n",
            "<ipython-input-23-f245c9584e39>:15: FutureWarning: The frame.append method is deprecated and will be removed from pandas in a future version. Use pandas.concat instead.\n",
            "  df = df.append(pd.Series(tmp_list, index=new_columns), ignore_index=True)\n",
            "<ipython-input-23-f245c9584e39>:15: FutureWarning: The frame.append method is deprecated and will be removed from pandas in a future version. Use pandas.concat instead.\n",
            "  df = df.append(pd.Series(tmp_list, index=new_columns), ignore_index=True)\n",
            "<ipython-input-23-f245c9584e39>:15: FutureWarning: The frame.append method is deprecated and will be removed from pandas in a future version. Use pandas.concat instead.\n",
            "  df = df.append(pd.Series(tmp_list, index=new_columns), ignore_index=True)\n",
            "<ipython-input-23-f245c9584e39>:15: FutureWarning: The frame.append method is deprecated and will be removed from pandas in a future version. Use pandas.concat instead.\n",
            "  df = df.append(pd.Series(tmp_list, index=new_columns), ignore_index=True)\n",
            "<ipython-input-23-f245c9584e39>:15: FutureWarning: The frame.append method is deprecated and will be removed from pandas in a future version. Use pandas.concat instead.\n",
            "  df = df.append(pd.Series(tmp_list, index=new_columns), ignore_index=True)\n",
            "<ipython-input-23-f245c9584e39>:15: FutureWarning: The frame.append method is deprecated and will be removed from pandas in a future version. Use pandas.concat instead.\n",
            "  df = df.append(pd.Series(tmp_list, index=new_columns), ignore_index=True)\n",
            "<ipython-input-23-f245c9584e39>:15: FutureWarning: The frame.append method is deprecated and will be removed from pandas in a future version. Use pandas.concat instead.\n",
            "  df = df.append(pd.Series(tmp_list, index=new_columns), ignore_index=True)\n",
            "<ipython-input-23-f245c9584e39>:15: FutureWarning: The frame.append method is deprecated and will be removed from pandas in a future version. Use pandas.concat instead.\n",
            "  df = df.append(pd.Series(tmp_list, index=new_columns), ignore_index=True)\n",
            "<ipython-input-23-f245c9584e39>:15: FutureWarning: The frame.append method is deprecated and will be removed from pandas in a future version. Use pandas.concat instead.\n",
            "  df = df.append(pd.Series(tmp_list, index=new_columns), ignore_index=True)\n",
            "<ipython-input-23-f245c9584e39>:15: FutureWarning: The frame.append method is deprecated and will be removed from pandas in a future version. Use pandas.concat instead.\n",
            "  df = df.append(pd.Series(tmp_list, index=new_columns), ignore_index=True)\n",
            "<ipython-input-23-f245c9584e39>:15: FutureWarning: The frame.append method is deprecated and will be removed from pandas in a future version. Use pandas.concat instead.\n",
            "  df = df.append(pd.Series(tmp_list, index=new_columns), ignore_index=True)\n",
            "<ipython-input-23-f245c9584e39>:15: FutureWarning: The frame.append method is deprecated and will be removed from pandas in a future version. Use pandas.concat instead.\n",
            "  df = df.append(pd.Series(tmp_list, index=new_columns), ignore_index=True)\n",
            "<ipython-input-23-f245c9584e39>:15: FutureWarning: The frame.append method is deprecated and will be removed from pandas in a future version. Use pandas.concat instead.\n",
            "  df = df.append(pd.Series(tmp_list, index=new_columns), ignore_index=True)\n",
            "<ipython-input-23-f245c9584e39>:15: FutureWarning: The frame.append method is deprecated and will be removed from pandas in a future version. Use pandas.concat instead.\n",
            "  df = df.append(pd.Series(tmp_list, index=new_columns), ignore_index=True)\n",
            "<ipython-input-23-f245c9584e39>:15: FutureWarning: The frame.append method is deprecated and will be removed from pandas in a future version. Use pandas.concat instead.\n",
            "  df = df.append(pd.Series(tmp_list, index=new_columns), ignore_index=True)\n",
            "<ipython-input-23-f245c9584e39>:15: FutureWarning: The frame.append method is deprecated and will be removed from pandas in a future version. Use pandas.concat instead.\n",
            "  df = df.append(pd.Series(tmp_list, index=new_columns), ignore_index=True)\n",
            "<ipython-input-23-f245c9584e39>:15: FutureWarning: The frame.append method is deprecated and will be removed from pandas in a future version. Use pandas.concat instead.\n",
            "  df = df.append(pd.Series(tmp_list, index=new_columns), ignore_index=True)\n",
            "<ipython-input-23-f245c9584e39>:15: FutureWarning: The frame.append method is deprecated and will be removed from pandas in a future version. Use pandas.concat instead.\n",
            "  df = df.append(pd.Series(tmp_list, index=new_columns), ignore_index=True)\n",
            "<ipython-input-23-f245c9584e39>:15: FutureWarning: The frame.append method is deprecated and will be removed from pandas in a future version. Use pandas.concat instead.\n",
            "  df = df.append(pd.Series(tmp_list, index=new_columns), ignore_index=True)\n",
            "<ipython-input-23-f245c9584e39>:15: FutureWarning: The frame.append method is deprecated and will be removed from pandas in a future version. Use pandas.concat instead.\n",
            "  df = df.append(pd.Series(tmp_list, index=new_columns), ignore_index=True)\n",
            "<ipython-input-23-f245c9584e39>:15: FutureWarning: The frame.append method is deprecated and will be removed from pandas in a future version. Use pandas.concat instead.\n",
            "  df = df.append(pd.Series(tmp_list, index=new_columns), ignore_index=True)\n",
            "<ipython-input-23-f245c9584e39>:15: FutureWarning: The frame.append method is deprecated and will be removed from pandas in a future version. Use pandas.concat instead.\n",
            "  df = df.append(pd.Series(tmp_list, index=new_columns), ignore_index=True)\n",
            "<ipython-input-23-f245c9584e39>:15: FutureWarning: The frame.append method is deprecated and will be removed from pandas in a future version. Use pandas.concat instead.\n",
            "  df = df.append(pd.Series(tmp_list, index=new_columns), ignore_index=True)\n",
            "<ipython-input-23-f245c9584e39>:15: FutureWarning: The frame.append method is deprecated and will be removed from pandas in a future version. Use pandas.concat instead.\n",
            "  df = df.append(pd.Series(tmp_list, index=new_columns), ignore_index=True)\n",
            "<ipython-input-23-f245c9584e39>:15: FutureWarning: The frame.append method is deprecated and will be removed from pandas in a future version. Use pandas.concat instead.\n",
            "  df = df.append(pd.Series(tmp_list, index=new_columns), ignore_index=True)\n",
            "<ipython-input-23-f245c9584e39>:15: FutureWarning: The frame.append method is deprecated and will be removed from pandas in a future version. Use pandas.concat instead.\n",
            "  df = df.append(pd.Series(tmp_list, index=new_columns), ignore_index=True)\n",
            "<ipython-input-23-f245c9584e39>:15: FutureWarning: The frame.append method is deprecated and will be removed from pandas in a future version. Use pandas.concat instead.\n",
            "  df = df.append(pd.Series(tmp_list, index=new_columns), ignore_index=True)\n",
            "<ipython-input-23-f245c9584e39>:15: FutureWarning: The frame.append method is deprecated and will be removed from pandas in a future version. Use pandas.concat instead.\n",
            "  df = df.append(pd.Series(tmp_list, index=new_columns), ignore_index=True)\n",
            "<ipython-input-23-f245c9584e39>:15: FutureWarning: The frame.append method is deprecated and will be removed from pandas in a future version. Use pandas.concat instead.\n",
            "  df = df.append(pd.Series(tmp_list, index=new_columns), ignore_index=True)\n",
            "<ipython-input-23-f245c9584e39>:15: FutureWarning: The frame.append method is deprecated and will be removed from pandas in a future version. Use pandas.concat instead.\n",
            "  df = df.append(pd.Series(tmp_list, index=new_columns), ignore_index=True)\n",
            "<ipython-input-23-f245c9584e39>:15: FutureWarning: The frame.append method is deprecated and will be removed from pandas in a future version. Use pandas.concat instead.\n",
            "  df = df.append(pd.Series(tmp_list, index=new_columns), ignore_index=True)\n",
            "<ipython-input-23-f245c9584e39>:15: FutureWarning: The frame.append method is deprecated and will be removed from pandas in a future version. Use pandas.concat instead.\n",
            "  df = df.append(pd.Series(tmp_list, index=new_columns), ignore_index=True)\n",
            "<ipython-input-23-f245c9584e39>:15: FutureWarning: The frame.append method is deprecated and will be removed from pandas in a future version. Use pandas.concat instead.\n",
            "  df = df.append(pd.Series(tmp_list, index=new_columns), ignore_index=True)\n",
            "<ipython-input-23-f245c9584e39>:15: FutureWarning: The frame.append method is deprecated and will be removed from pandas in a future version. Use pandas.concat instead.\n",
            "  df = df.append(pd.Series(tmp_list, index=new_columns), ignore_index=True)\n",
            "<ipython-input-23-f245c9584e39>:15: FutureWarning: The frame.append method is deprecated and will be removed from pandas in a future version. Use pandas.concat instead.\n",
            "  df = df.append(pd.Series(tmp_list, index=new_columns), ignore_index=True)\n",
            "<ipython-input-23-f245c9584e39>:15: FutureWarning: The frame.append method is deprecated and will be removed from pandas in a future version. Use pandas.concat instead.\n",
            "  df = df.append(pd.Series(tmp_list, index=new_columns), ignore_index=True)\n",
            "<ipython-input-23-f245c9584e39>:15: FutureWarning: The frame.append method is deprecated and will be removed from pandas in a future version. Use pandas.concat instead.\n",
            "  df = df.append(pd.Series(tmp_list, index=new_columns), ignore_index=True)\n",
            "<ipython-input-23-f245c9584e39>:15: FutureWarning: The frame.append method is deprecated and will be removed from pandas in a future version. Use pandas.concat instead.\n",
            "  df = df.append(pd.Series(tmp_list, index=new_columns), ignore_index=True)\n",
            "<ipython-input-23-f245c9584e39>:15: FutureWarning: The frame.append method is deprecated and will be removed from pandas in a future version. Use pandas.concat instead.\n",
            "  df = df.append(pd.Series(tmp_list, index=new_columns), ignore_index=True)\n",
            "<ipython-input-23-f245c9584e39>:15: FutureWarning: The frame.append method is deprecated and will be removed from pandas in a future version. Use pandas.concat instead.\n",
            "  df = df.append(pd.Series(tmp_list, index=new_columns), ignore_index=True)\n",
            "<ipython-input-23-f245c9584e39>:15: FutureWarning: The frame.append method is deprecated and will be removed from pandas in a future version. Use pandas.concat instead.\n",
            "  df = df.append(pd.Series(tmp_list, index=new_columns), ignore_index=True)\n",
            "<ipython-input-23-f245c9584e39>:15: FutureWarning: The frame.append method is deprecated and will be removed from pandas in a future version. Use pandas.concat instead.\n",
            "  df = df.append(pd.Series(tmp_list, index=new_columns), ignore_index=True)\n",
            "<ipython-input-23-f245c9584e39>:15: FutureWarning: The frame.append method is deprecated and will be removed from pandas in a future version. Use pandas.concat instead.\n",
            "  df = df.append(pd.Series(tmp_list, index=new_columns), ignore_index=True)\n",
            "<ipython-input-23-f245c9584e39>:15: FutureWarning: The frame.append method is deprecated and will be removed from pandas in a future version. Use pandas.concat instead.\n",
            "  df = df.append(pd.Series(tmp_list, index=new_columns), ignore_index=True)\n",
            "<ipython-input-23-f245c9584e39>:15: FutureWarning: The frame.append method is deprecated and will be removed from pandas in a future version. Use pandas.concat instead.\n",
            "  df = df.append(pd.Series(tmp_list, index=new_columns), ignore_index=True)\n",
            "<ipython-input-23-f245c9584e39>:15: FutureWarning: The frame.append method is deprecated and will be removed from pandas in a future version. Use pandas.concat instead.\n",
            "  df = df.append(pd.Series(tmp_list, index=new_columns), ignore_index=True)\n",
            "<ipython-input-23-f245c9584e39>:15: FutureWarning: The frame.append method is deprecated and will be removed from pandas in a future version. Use pandas.concat instead.\n",
            "  df = df.append(pd.Series(tmp_list, index=new_columns), ignore_index=True)\n",
            "<ipython-input-23-f245c9584e39>:15: FutureWarning: The frame.append method is deprecated and will be removed from pandas in a future version. Use pandas.concat instead.\n",
            "  df = df.append(pd.Series(tmp_list, index=new_columns), ignore_index=True)\n",
            "<ipython-input-23-f245c9584e39>:15: FutureWarning: The frame.append method is deprecated and will be removed from pandas in a future version. Use pandas.concat instead.\n",
            "  df = df.append(pd.Series(tmp_list, index=new_columns), ignore_index=True)\n",
            "<ipython-input-23-f245c9584e39>:15: FutureWarning: The frame.append method is deprecated and will be removed from pandas in a future version. Use pandas.concat instead.\n",
            "  df = df.append(pd.Series(tmp_list, index=new_columns), ignore_index=True)\n",
            "<ipython-input-23-f245c9584e39>:15: FutureWarning: The frame.append method is deprecated and will be removed from pandas in a future version. Use pandas.concat instead.\n",
            "  df = df.append(pd.Series(tmp_list, index=new_columns), ignore_index=True)\n",
            "<ipython-input-23-f245c9584e39>:15: FutureWarning: The frame.append method is deprecated and will be removed from pandas in a future version. Use pandas.concat instead.\n",
            "  df = df.append(pd.Series(tmp_list, index=new_columns), ignore_index=True)\n",
            "<ipython-input-23-f245c9584e39>:15: FutureWarning: The frame.append method is deprecated and will be removed from pandas in a future version. Use pandas.concat instead.\n",
            "  df = df.append(pd.Series(tmp_list, index=new_columns), ignore_index=True)\n",
            "<ipython-input-23-f245c9584e39>:15: FutureWarning: The frame.append method is deprecated and will be removed from pandas in a future version. Use pandas.concat instead.\n",
            "  df = df.append(pd.Series(tmp_list, index=new_columns), ignore_index=True)\n",
            "<ipython-input-23-f245c9584e39>:15: FutureWarning: The frame.append method is deprecated and will be removed from pandas in a future version. Use pandas.concat instead.\n",
            "  df = df.append(pd.Series(tmp_list, index=new_columns), ignore_index=True)\n",
            "<ipython-input-23-f245c9584e39>:15: FutureWarning: The frame.append method is deprecated and will be removed from pandas in a future version. Use pandas.concat instead.\n",
            "  df = df.append(pd.Series(tmp_list, index=new_columns), ignore_index=True)\n",
            "<ipython-input-23-f245c9584e39>:15: FutureWarning: The frame.append method is deprecated and will be removed from pandas in a future version. Use pandas.concat instead.\n",
            "  df = df.append(pd.Series(tmp_list, index=new_columns), ignore_index=True)\n",
            "<ipython-input-23-f245c9584e39>:15: FutureWarning: The frame.append method is deprecated and will be removed from pandas in a future version. Use pandas.concat instead.\n",
            "  df = df.append(pd.Series(tmp_list, index=new_columns), ignore_index=True)\n",
            "<ipython-input-23-f245c9584e39>:15: FutureWarning: The frame.append method is deprecated and will be removed from pandas in a future version. Use pandas.concat instead.\n",
            "  df = df.append(pd.Series(tmp_list, index=new_columns), ignore_index=True)\n",
            "<ipython-input-23-f245c9584e39>:15: FutureWarning: The frame.append method is deprecated and will be removed from pandas in a future version. Use pandas.concat instead.\n",
            "  df = df.append(pd.Series(tmp_list, index=new_columns), ignore_index=True)\n",
            "<ipython-input-23-f245c9584e39>:15: FutureWarning: The frame.append method is deprecated and will be removed from pandas in a future version. Use pandas.concat instead.\n",
            "  df = df.append(pd.Series(tmp_list, index=new_columns), ignore_index=True)\n",
            "<ipython-input-23-f245c9584e39>:15: FutureWarning: The frame.append method is deprecated and will be removed from pandas in a future version. Use pandas.concat instead.\n",
            "  df = df.append(pd.Series(tmp_list, index=new_columns), ignore_index=True)\n",
            "<ipython-input-23-f245c9584e39>:15: FutureWarning: The frame.append method is deprecated and will be removed from pandas in a future version. Use pandas.concat instead.\n",
            "  df = df.append(pd.Series(tmp_list, index=new_columns), ignore_index=True)\n",
            "<ipython-input-23-f245c9584e39>:15: FutureWarning: The frame.append method is deprecated and will be removed from pandas in a future version. Use pandas.concat instead.\n",
            "  df = df.append(pd.Series(tmp_list, index=new_columns), ignore_index=True)\n",
            "<ipython-input-23-f245c9584e39>:15: FutureWarning: The frame.append method is deprecated and will be removed from pandas in a future version. Use pandas.concat instead.\n",
            "  df = df.append(pd.Series(tmp_list, index=new_columns), ignore_index=True)\n",
            "<ipython-input-23-f245c9584e39>:15: FutureWarning: The frame.append method is deprecated and will be removed from pandas in a future version. Use pandas.concat instead.\n",
            "  df = df.append(pd.Series(tmp_list, index=new_columns), ignore_index=True)\n",
            "<ipython-input-23-f245c9584e39>:15: FutureWarning: The frame.append method is deprecated and will be removed from pandas in a future version. Use pandas.concat instead.\n",
            "  df = df.append(pd.Series(tmp_list, index=new_columns), ignore_index=True)\n",
            "<ipython-input-23-f245c9584e39>:15: FutureWarning: The frame.append method is deprecated and will be removed from pandas in a future version. Use pandas.concat instead.\n",
            "  df = df.append(pd.Series(tmp_list, index=new_columns), ignore_index=True)\n",
            "<ipython-input-23-f245c9584e39>:15: FutureWarning: The frame.append method is deprecated and will be removed from pandas in a future version. Use pandas.concat instead.\n",
            "  df = df.append(pd.Series(tmp_list, index=new_columns), ignore_index=True)\n",
            "<ipython-input-23-f245c9584e39>:15: FutureWarning: The frame.append method is deprecated and will be removed from pandas in a future version. Use pandas.concat instead.\n",
            "  df = df.append(pd.Series(tmp_list, index=new_columns), ignore_index=True)\n",
            "<ipython-input-23-f245c9584e39>:15: FutureWarning: The frame.append method is deprecated and will be removed from pandas in a future version. Use pandas.concat instead.\n",
            "  df = df.append(pd.Series(tmp_list, index=new_columns), ignore_index=True)\n",
            "<ipython-input-23-f245c9584e39>:15: FutureWarning: The frame.append method is deprecated and will be removed from pandas in a future version. Use pandas.concat instead.\n",
            "  df = df.append(pd.Series(tmp_list, index=new_columns), ignore_index=True)\n",
            "<ipython-input-23-f245c9584e39>:15: FutureWarning: The frame.append method is deprecated and will be removed from pandas in a future version. Use pandas.concat instead.\n",
            "  df = df.append(pd.Series(tmp_list, index=new_columns), ignore_index=True)\n",
            "<ipython-input-23-f245c9584e39>:15: FutureWarning: The frame.append method is deprecated and will be removed from pandas in a future version. Use pandas.concat instead.\n",
            "  df = df.append(pd.Series(tmp_list, index=new_columns), ignore_index=True)\n",
            "<ipython-input-23-f245c9584e39>:15: FutureWarning: The frame.append method is deprecated and will be removed from pandas in a future version. Use pandas.concat instead.\n",
            "  df = df.append(pd.Series(tmp_list, index=new_columns), ignore_index=True)\n",
            "<ipython-input-23-f245c9584e39>:15: FutureWarning: The frame.append method is deprecated and will be removed from pandas in a future version. Use pandas.concat instead.\n",
            "  df = df.append(pd.Series(tmp_list, index=new_columns), ignore_index=True)\n",
            "<ipython-input-23-f245c9584e39>:15: FutureWarning: The frame.append method is deprecated and will be removed from pandas in a future version. Use pandas.concat instead.\n",
            "  df = df.append(pd.Series(tmp_list, index=new_columns), ignore_index=True)\n",
            "<ipython-input-23-f245c9584e39>:15: FutureWarning: The frame.append method is deprecated and will be removed from pandas in a future version. Use pandas.concat instead.\n",
            "  df = df.append(pd.Series(tmp_list, index=new_columns), ignore_index=True)\n",
            "<ipython-input-23-f245c9584e39>:15: FutureWarning: The frame.append method is deprecated and will be removed from pandas in a future version. Use pandas.concat instead.\n",
            "  df = df.append(pd.Series(tmp_list, index=new_columns), ignore_index=True)\n",
            "<ipython-input-23-f245c9584e39>:15: FutureWarning: The frame.append method is deprecated and will be removed from pandas in a future version. Use pandas.concat instead.\n",
            "  df = df.append(pd.Series(tmp_list, index=new_columns), ignore_index=True)\n",
            "<ipython-input-23-f245c9584e39>:15: FutureWarning: The frame.append method is deprecated and will be removed from pandas in a future version. Use pandas.concat instead.\n",
            "  df = df.append(pd.Series(tmp_list, index=new_columns), ignore_index=True)\n",
            "<ipython-input-23-f245c9584e39>:15: FutureWarning: The frame.append method is deprecated and will be removed from pandas in a future version. Use pandas.concat instead.\n",
            "  df = df.append(pd.Series(tmp_list, index=new_columns), ignore_index=True)\n",
            "<ipython-input-23-f245c9584e39>:15: FutureWarning: The frame.append method is deprecated and will be removed from pandas in a future version. Use pandas.concat instead.\n",
            "  df = df.append(pd.Series(tmp_list, index=new_columns), ignore_index=True)\n",
            "<ipython-input-23-f245c9584e39>:15: FutureWarning: The frame.append method is deprecated and will be removed from pandas in a future version. Use pandas.concat instead.\n",
            "  df = df.append(pd.Series(tmp_list, index=new_columns), ignore_index=True)\n",
            "<ipython-input-23-f245c9584e39>:15: FutureWarning: The frame.append method is deprecated and will be removed from pandas in a future version. Use pandas.concat instead.\n",
            "  df = df.append(pd.Series(tmp_list, index=new_columns), ignore_index=True)\n",
            "<ipython-input-23-f245c9584e39>:15: FutureWarning: The frame.append method is deprecated and will be removed from pandas in a future version. Use pandas.concat instead.\n",
            "  df = df.append(pd.Series(tmp_list, index=new_columns), ignore_index=True)\n",
            "<ipython-input-23-f245c9584e39>:15: FutureWarning: The frame.append method is deprecated and will be removed from pandas in a future version. Use pandas.concat instead.\n",
            "  df = df.append(pd.Series(tmp_list, index=new_columns), ignore_index=True)\n",
            "<ipython-input-23-f245c9584e39>:15: FutureWarning: The frame.append method is deprecated and will be removed from pandas in a future version. Use pandas.concat instead.\n",
            "  df = df.append(pd.Series(tmp_list, index=new_columns), ignore_index=True)\n",
            "<ipython-input-23-f245c9584e39>:15: FutureWarning: The frame.append method is deprecated and will be removed from pandas in a future version. Use pandas.concat instead.\n",
            "  df = df.append(pd.Series(tmp_list, index=new_columns), ignore_index=True)\n",
            "<ipython-input-23-f245c9584e39>:15: FutureWarning: The frame.append method is deprecated and will be removed from pandas in a future version. Use pandas.concat instead.\n",
            "  df = df.append(pd.Series(tmp_list, index=new_columns), ignore_index=True)\n",
            "<ipython-input-23-f245c9584e39>:15: FutureWarning: The frame.append method is deprecated and will be removed from pandas in a future version. Use pandas.concat instead.\n",
            "  df = df.append(pd.Series(tmp_list, index=new_columns), ignore_index=True)\n",
            "<ipython-input-23-f245c9584e39>:15: FutureWarning: The frame.append method is deprecated and will be removed from pandas in a future version. Use pandas.concat instead.\n",
            "  df = df.append(pd.Series(tmp_list, index=new_columns), ignore_index=True)\n",
            "<ipython-input-23-f245c9584e39>:15: FutureWarning: The frame.append method is deprecated and will be removed from pandas in a future version. Use pandas.concat instead.\n",
            "  df = df.append(pd.Series(tmp_list, index=new_columns), ignore_index=True)\n",
            "<ipython-input-23-f245c9584e39>:15: FutureWarning: The frame.append method is deprecated and will be removed from pandas in a future version. Use pandas.concat instead.\n",
            "  df = df.append(pd.Series(tmp_list, index=new_columns), ignore_index=True)\n",
            "<ipython-input-23-f245c9584e39>:15: FutureWarning: The frame.append method is deprecated and will be removed from pandas in a future version. Use pandas.concat instead.\n",
            "  df = df.append(pd.Series(tmp_list, index=new_columns), ignore_index=True)\n",
            "<ipython-input-23-f245c9584e39>:15: FutureWarning: The frame.append method is deprecated and will be removed from pandas in a future version. Use pandas.concat instead.\n",
            "  df = df.append(pd.Series(tmp_list, index=new_columns), ignore_index=True)\n",
            "<ipython-input-23-f245c9584e39>:15: FutureWarning: The frame.append method is deprecated and will be removed from pandas in a future version. Use pandas.concat instead.\n",
            "  df = df.append(pd.Series(tmp_list, index=new_columns), ignore_index=True)\n",
            "<ipython-input-23-f245c9584e39>:15: FutureWarning: The frame.append method is deprecated and will be removed from pandas in a future version. Use pandas.concat instead.\n",
            "  df = df.append(pd.Series(tmp_list, index=new_columns), ignore_index=True)\n",
            "<ipython-input-23-f245c9584e39>:15: FutureWarning: The frame.append method is deprecated and will be removed from pandas in a future version. Use pandas.concat instead.\n",
            "  df = df.append(pd.Series(tmp_list, index=new_columns), ignore_index=True)\n",
            "<ipython-input-23-f245c9584e39>:15: FutureWarning: The frame.append method is deprecated and will be removed from pandas in a future version. Use pandas.concat instead.\n",
            "  df = df.append(pd.Series(tmp_list, index=new_columns), ignore_index=True)\n",
            "<ipython-input-23-f245c9584e39>:15: FutureWarning: The frame.append method is deprecated and will be removed from pandas in a future version. Use pandas.concat instead.\n",
            "  df = df.append(pd.Series(tmp_list, index=new_columns), ignore_index=True)\n",
            "<ipython-input-23-f245c9584e39>:15: FutureWarning: The frame.append method is deprecated and will be removed from pandas in a future version. Use pandas.concat instead.\n",
            "  df = df.append(pd.Series(tmp_list, index=new_columns), ignore_index=True)\n",
            "<ipython-input-23-f245c9584e39>:15: FutureWarning: The frame.append method is deprecated and will be removed from pandas in a future version. Use pandas.concat instead.\n",
            "  df = df.append(pd.Series(tmp_list, index=new_columns), ignore_index=True)\n",
            "<ipython-input-23-f245c9584e39>:15: FutureWarning: The frame.append method is deprecated and will be removed from pandas in a future version. Use pandas.concat instead.\n",
            "  df = df.append(pd.Series(tmp_list, index=new_columns), ignore_index=True)\n",
            "<ipython-input-23-f245c9584e39>:15: FutureWarning: The frame.append method is deprecated and will be removed from pandas in a future version. Use pandas.concat instead.\n",
            "  df = df.append(pd.Series(tmp_list, index=new_columns), ignore_index=True)\n",
            "<ipython-input-23-f245c9584e39>:15: FutureWarning: The frame.append method is deprecated and will be removed from pandas in a future version. Use pandas.concat instead.\n",
            "  df = df.append(pd.Series(tmp_list, index=new_columns), ignore_index=True)\n",
            "<ipython-input-23-f245c9584e39>:15: FutureWarning: The frame.append method is deprecated and will be removed from pandas in a future version. Use pandas.concat instead.\n",
            "  df = df.append(pd.Series(tmp_list, index=new_columns), ignore_index=True)\n",
            "<ipython-input-23-f245c9584e39>:15: FutureWarning: The frame.append method is deprecated and will be removed from pandas in a future version. Use pandas.concat instead.\n",
            "  df = df.append(pd.Series(tmp_list, index=new_columns), ignore_index=True)\n",
            "<ipython-input-23-f245c9584e39>:15: FutureWarning: The frame.append method is deprecated and will be removed from pandas in a future version. Use pandas.concat instead.\n",
            "  df = df.append(pd.Series(tmp_list, index=new_columns), ignore_index=True)\n",
            "<ipython-input-23-f245c9584e39>:15: FutureWarning: The frame.append method is deprecated and will be removed from pandas in a future version. Use pandas.concat instead.\n",
            "  df = df.append(pd.Series(tmp_list, index=new_columns), ignore_index=True)\n",
            "<ipython-input-23-f245c9584e39>:15: FutureWarning: The frame.append method is deprecated and will be removed from pandas in a future version. Use pandas.concat instead.\n",
            "  df = df.append(pd.Series(tmp_list, index=new_columns), ignore_index=True)\n",
            "<ipython-input-23-f245c9584e39>:15: FutureWarning: The frame.append method is deprecated and will be removed from pandas in a future version. Use pandas.concat instead.\n",
            "  df = df.append(pd.Series(tmp_list, index=new_columns), ignore_index=True)\n",
            "<ipython-input-23-f245c9584e39>:15: FutureWarning: The frame.append method is deprecated and will be removed from pandas in a future version. Use pandas.concat instead.\n",
            "  df = df.append(pd.Series(tmp_list, index=new_columns), ignore_index=True)\n",
            "<ipython-input-23-f245c9584e39>:15: FutureWarning: The frame.append method is deprecated and will be removed from pandas in a future version. Use pandas.concat instead.\n",
            "  df = df.append(pd.Series(tmp_list, index=new_columns), ignore_index=True)\n",
            "<ipython-input-23-f245c9584e39>:15: FutureWarning: The frame.append method is deprecated and will be removed from pandas in a future version. Use pandas.concat instead.\n",
            "  df = df.append(pd.Series(tmp_list, index=new_columns), ignore_index=True)\n",
            "<ipython-input-23-f245c9584e39>:15: FutureWarning: The frame.append method is deprecated and will be removed from pandas in a future version. Use pandas.concat instead.\n",
            "  df = df.append(pd.Series(tmp_list, index=new_columns), ignore_index=True)\n",
            "<ipython-input-23-f245c9584e39>:15: FutureWarning: The frame.append method is deprecated and will be removed from pandas in a future version. Use pandas.concat instead.\n",
            "  df = df.append(pd.Series(tmp_list, index=new_columns), ignore_index=True)\n",
            "<ipython-input-23-f245c9584e39>:15: FutureWarning: The frame.append method is deprecated and will be removed from pandas in a future version. Use pandas.concat instead.\n",
            "  df = df.append(pd.Series(tmp_list, index=new_columns), ignore_index=True)\n",
            "<ipython-input-23-f245c9584e39>:15: FutureWarning: The frame.append method is deprecated and will be removed from pandas in a future version. Use pandas.concat instead.\n",
            "  df = df.append(pd.Series(tmp_list, index=new_columns), ignore_index=True)\n",
            "<ipython-input-23-f245c9584e39>:15: FutureWarning: The frame.append method is deprecated and will be removed from pandas in a future version. Use pandas.concat instead.\n",
            "  df = df.append(pd.Series(tmp_list, index=new_columns), ignore_index=True)\n",
            "<ipython-input-23-f245c9584e39>:15: FutureWarning: The frame.append method is deprecated and will be removed from pandas in a future version. Use pandas.concat instead.\n",
            "  df = df.append(pd.Series(tmp_list, index=new_columns), ignore_index=True)\n",
            "<ipython-input-23-f245c9584e39>:15: FutureWarning: The frame.append method is deprecated and will be removed from pandas in a future version. Use pandas.concat instead.\n",
            "  df = df.append(pd.Series(tmp_list, index=new_columns), ignore_index=True)\n",
            "<ipython-input-23-f245c9584e39>:15: FutureWarning: The frame.append method is deprecated and will be removed from pandas in a future version. Use pandas.concat instead.\n",
            "  df = df.append(pd.Series(tmp_list, index=new_columns), ignore_index=True)\n",
            "<ipython-input-23-f245c9584e39>:15: FutureWarning: The frame.append method is deprecated and will be removed from pandas in a future version. Use pandas.concat instead.\n",
            "  df = df.append(pd.Series(tmp_list, index=new_columns), ignore_index=True)\n",
            "<ipython-input-23-f245c9584e39>:15: FutureWarning: The frame.append method is deprecated and will be removed from pandas in a future version. Use pandas.concat instead.\n",
            "  df = df.append(pd.Series(tmp_list, index=new_columns), ignore_index=True)\n",
            "<ipython-input-23-f245c9584e39>:15: FutureWarning: The frame.append method is deprecated and will be removed from pandas in a future version. Use pandas.concat instead.\n",
            "  df = df.append(pd.Series(tmp_list, index=new_columns), ignore_index=True)\n",
            "<ipython-input-23-f245c9584e39>:15: FutureWarning: The frame.append method is deprecated and will be removed from pandas in a future version. Use pandas.concat instead.\n",
            "  df = df.append(pd.Series(tmp_list, index=new_columns), ignore_index=True)\n",
            "<ipython-input-23-f245c9584e39>:15: FutureWarning: The frame.append method is deprecated and will be removed from pandas in a future version. Use pandas.concat instead.\n",
            "  df = df.append(pd.Series(tmp_list, index=new_columns), ignore_index=True)\n",
            "<ipython-input-23-f245c9584e39>:15: FutureWarning: The frame.append method is deprecated and will be removed from pandas in a future version. Use pandas.concat instead.\n",
            "  df = df.append(pd.Series(tmp_list, index=new_columns), ignore_index=True)\n",
            "<ipython-input-23-f245c9584e39>:15: FutureWarning: The frame.append method is deprecated and will be removed from pandas in a future version. Use pandas.concat instead.\n",
            "  df = df.append(pd.Series(tmp_list, index=new_columns), ignore_index=True)\n",
            "<ipython-input-23-f245c9584e39>:15: FutureWarning: The frame.append method is deprecated and will be removed from pandas in a future version. Use pandas.concat instead.\n",
            "  df = df.append(pd.Series(tmp_list, index=new_columns), ignore_index=True)\n",
            "<ipython-input-23-f245c9584e39>:15: FutureWarning: The frame.append method is deprecated and will be removed from pandas in a future version. Use pandas.concat instead.\n",
            "  df = df.append(pd.Series(tmp_list, index=new_columns), ignore_index=True)\n",
            "<ipython-input-23-f245c9584e39>:15: FutureWarning: The frame.append method is deprecated and will be removed from pandas in a future version. Use pandas.concat instead.\n",
            "  df = df.append(pd.Series(tmp_list, index=new_columns), ignore_index=True)\n",
            "<ipython-input-23-f245c9584e39>:15: FutureWarning: The frame.append method is deprecated and will be removed from pandas in a future version. Use pandas.concat instead.\n",
            "  df = df.append(pd.Series(tmp_list, index=new_columns), ignore_index=True)\n",
            "<ipython-input-23-f245c9584e39>:15: FutureWarning: The frame.append method is deprecated and will be removed from pandas in a future version. Use pandas.concat instead.\n",
            "  df = df.append(pd.Series(tmp_list, index=new_columns), ignore_index=True)\n",
            "<ipython-input-23-f245c9584e39>:15: FutureWarning: The frame.append method is deprecated and will be removed from pandas in a future version. Use pandas.concat instead.\n",
            "  df = df.append(pd.Series(tmp_list, index=new_columns), ignore_index=True)\n",
            "<ipython-input-23-f245c9584e39>:15: FutureWarning: The frame.append method is deprecated and will be removed from pandas in a future version. Use pandas.concat instead.\n",
            "  df = df.append(pd.Series(tmp_list, index=new_columns), ignore_index=True)\n",
            "<ipython-input-23-f245c9584e39>:15: FutureWarning: The frame.append method is deprecated and will be removed from pandas in a future version. Use pandas.concat instead.\n",
            "  df = df.append(pd.Series(tmp_list, index=new_columns), ignore_index=True)\n",
            "<ipython-input-23-f245c9584e39>:15: FutureWarning: The frame.append method is deprecated and will be removed from pandas in a future version. Use pandas.concat instead.\n",
            "  df = df.append(pd.Series(tmp_list, index=new_columns), ignore_index=True)\n",
            "<ipython-input-23-f245c9584e39>:15: FutureWarning: The frame.append method is deprecated and will be removed from pandas in a future version. Use pandas.concat instead.\n",
            "  df = df.append(pd.Series(tmp_list, index=new_columns), ignore_index=True)\n",
            "<ipython-input-23-f245c9584e39>:15: FutureWarning: The frame.append method is deprecated and will be removed from pandas in a future version. Use pandas.concat instead.\n",
            "  df = df.append(pd.Series(tmp_list, index=new_columns), ignore_index=True)\n",
            "<ipython-input-23-f245c9584e39>:15: FutureWarning: The frame.append method is deprecated and will be removed from pandas in a future version. Use pandas.concat instead.\n",
            "  df = df.append(pd.Series(tmp_list, index=new_columns), ignore_index=True)\n",
            "<ipython-input-23-f245c9584e39>:15: FutureWarning: The frame.append method is deprecated and will be removed from pandas in a future version. Use pandas.concat instead.\n",
            "  df = df.append(pd.Series(tmp_list, index=new_columns), ignore_index=True)\n",
            "<ipython-input-23-f245c9584e39>:15: FutureWarning: The frame.append method is deprecated and will be removed from pandas in a future version. Use pandas.concat instead.\n",
            "  df = df.append(pd.Series(tmp_list, index=new_columns), ignore_index=True)\n",
            "<ipython-input-23-f245c9584e39>:15: FutureWarning: The frame.append method is deprecated and will be removed from pandas in a future version. Use pandas.concat instead.\n",
            "  df = df.append(pd.Series(tmp_list, index=new_columns), ignore_index=True)\n",
            "<ipython-input-23-f245c9584e39>:15: FutureWarning: The frame.append method is deprecated and will be removed from pandas in a future version. Use pandas.concat instead.\n",
            "  df = df.append(pd.Series(tmp_list, index=new_columns), ignore_index=True)\n",
            "<ipython-input-23-f245c9584e39>:15: FutureWarning: The frame.append method is deprecated and will be removed from pandas in a future version. Use pandas.concat instead.\n",
            "  df = df.append(pd.Series(tmp_list, index=new_columns), ignore_index=True)\n",
            "<ipython-input-23-f245c9584e39>:15: FutureWarning: The frame.append method is deprecated and will be removed from pandas in a future version. Use pandas.concat instead.\n",
            "  df = df.append(pd.Series(tmp_list, index=new_columns), ignore_index=True)\n",
            "<ipython-input-23-f245c9584e39>:15: FutureWarning: The frame.append method is deprecated and will be removed from pandas in a future version. Use pandas.concat instead.\n",
            "  df = df.append(pd.Series(tmp_list, index=new_columns), ignore_index=True)\n",
            "<ipython-input-23-f245c9584e39>:15: FutureWarning: The frame.append method is deprecated and will be removed from pandas in a future version. Use pandas.concat instead.\n",
            "  df = df.append(pd.Series(tmp_list, index=new_columns), ignore_index=True)\n",
            "<ipython-input-23-f245c9584e39>:15: FutureWarning: The frame.append method is deprecated and will be removed from pandas in a future version. Use pandas.concat instead.\n",
            "  df = df.append(pd.Series(tmp_list, index=new_columns), ignore_index=True)\n",
            "<ipython-input-23-f245c9584e39>:15: FutureWarning: The frame.append method is deprecated and will be removed from pandas in a future version. Use pandas.concat instead.\n",
            "  df = df.append(pd.Series(tmp_list, index=new_columns), ignore_index=True)\n",
            "<ipython-input-23-f245c9584e39>:15: FutureWarning: The frame.append method is deprecated and will be removed from pandas in a future version. Use pandas.concat instead.\n",
            "  df = df.append(pd.Series(tmp_list, index=new_columns), ignore_index=True)\n",
            "<ipython-input-23-f245c9584e39>:15: FutureWarning: The frame.append method is deprecated and will be removed from pandas in a future version. Use pandas.concat instead.\n",
            "  df = df.append(pd.Series(tmp_list, index=new_columns), ignore_index=True)\n",
            "<ipython-input-23-f245c9584e39>:15: FutureWarning: The frame.append method is deprecated and will be removed from pandas in a future version. Use pandas.concat instead.\n",
            "  df = df.append(pd.Series(tmp_list, index=new_columns), ignore_index=True)\n",
            "<ipython-input-23-f245c9584e39>:15: FutureWarning: The frame.append method is deprecated and will be removed from pandas in a future version. Use pandas.concat instead.\n",
            "  df = df.append(pd.Series(tmp_list, index=new_columns), ignore_index=True)\n",
            "<ipython-input-23-f245c9584e39>:15: FutureWarning: The frame.append method is deprecated and will be removed from pandas in a future version. Use pandas.concat instead.\n",
            "  df = df.append(pd.Series(tmp_list, index=new_columns), ignore_index=True)\n",
            "<ipython-input-23-f245c9584e39>:15: FutureWarning: The frame.append method is deprecated and will be removed from pandas in a future version. Use pandas.concat instead.\n",
            "  df = df.append(pd.Series(tmp_list, index=new_columns), ignore_index=True)\n",
            "<ipython-input-23-f245c9584e39>:15: FutureWarning: The frame.append method is deprecated and will be removed from pandas in a future version. Use pandas.concat instead.\n",
            "  df = df.append(pd.Series(tmp_list, index=new_columns), ignore_index=True)\n",
            "<ipython-input-23-f245c9584e39>:15: FutureWarning: The frame.append method is deprecated and will be removed from pandas in a future version. Use pandas.concat instead.\n",
            "  df = df.append(pd.Series(tmp_list, index=new_columns), ignore_index=True)\n",
            "<ipython-input-23-f245c9584e39>:15: FutureWarning: The frame.append method is deprecated and will be removed from pandas in a future version. Use pandas.concat instead.\n",
            "  df = df.append(pd.Series(tmp_list, index=new_columns), ignore_index=True)\n",
            "<ipython-input-23-f245c9584e39>:15: FutureWarning: The frame.append method is deprecated and will be removed from pandas in a future version. Use pandas.concat instead.\n",
            "  df = df.append(pd.Series(tmp_list, index=new_columns), ignore_index=True)\n",
            "<ipython-input-23-f245c9584e39>:15: FutureWarning: The frame.append method is deprecated and will be removed from pandas in a future version. Use pandas.concat instead.\n",
            "  df = df.append(pd.Series(tmp_list, index=new_columns), ignore_index=True)\n",
            "<ipython-input-23-f245c9584e39>:15: FutureWarning: The frame.append method is deprecated and will be removed from pandas in a future version. Use pandas.concat instead.\n",
            "  df = df.append(pd.Series(tmp_list, index=new_columns), ignore_index=True)\n",
            "<ipython-input-23-f245c9584e39>:15: FutureWarning: The frame.append method is deprecated and will be removed from pandas in a future version. Use pandas.concat instead.\n",
            "  df = df.append(pd.Series(tmp_list, index=new_columns), ignore_index=True)\n",
            "<ipython-input-23-f245c9584e39>:15: FutureWarning: The frame.append method is deprecated and will be removed from pandas in a future version. Use pandas.concat instead.\n",
            "  df = df.append(pd.Series(tmp_list, index=new_columns), ignore_index=True)\n",
            "<ipython-input-23-f245c9584e39>:15: FutureWarning: The frame.append method is deprecated and will be removed from pandas in a future version. Use pandas.concat instead.\n",
            "  df = df.append(pd.Series(tmp_list, index=new_columns), ignore_index=True)\n",
            "<ipython-input-23-f245c9584e39>:15: FutureWarning: The frame.append method is deprecated and will be removed from pandas in a future version. Use pandas.concat instead.\n",
            "  df = df.append(pd.Series(tmp_list, index=new_columns), ignore_index=True)\n",
            "<ipython-input-23-f245c9584e39>:15: FutureWarning: The frame.append method is deprecated and will be removed from pandas in a future version. Use pandas.concat instead.\n",
            "  df = df.append(pd.Series(tmp_list, index=new_columns), ignore_index=True)\n",
            "<ipython-input-23-f245c9584e39>:15: FutureWarning: The frame.append method is deprecated and will be removed from pandas in a future version. Use pandas.concat instead.\n",
            "  df = df.append(pd.Series(tmp_list, index=new_columns), ignore_index=True)\n",
            "<ipython-input-23-f245c9584e39>:15: FutureWarning: The frame.append method is deprecated and will be removed from pandas in a future version. Use pandas.concat instead.\n",
            "  df = df.append(pd.Series(tmp_list, index=new_columns), ignore_index=True)\n",
            "<ipython-input-23-f245c9584e39>:15: FutureWarning: The frame.append method is deprecated and will be removed from pandas in a future version. Use pandas.concat instead.\n",
            "  df = df.append(pd.Series(tmp_list, index=new_columns), ignore_index=True)\n",
            "<ipython-input-23-f245c9584e39>:15: FutureWarning: The frame.append method is deprecated and will be removed from pandas in a future version. Use pandas.concat instead.\n",
            "  df = df.append(pd.Series(tmp_list, index=new_columns), ignore_index=True)\n",
            "<ipython-input-23-f245c9584e39>:15: FutureWarning: The frame.append method is deprecated and will be removed from pandas in a future version. Use pandas.concat instead.\n",
            "  df = df.append(pd.Series(tmp_list, index=new_columns), ignore_index=True)\n",
            "<ipython-input-23-f245c9584e39>:15: FutureWarning: The frame.append method is deprecated and will be removed from pandas in a future version. Use pandas.concat instead.\n",
            "  df = df.append(pd.Series(tmp_list, index=new_columns), ignore_index=True)\n",
            "<ipython-input-23-f245c9584e39>:15: FutureWarning: The frame.append method is deprecated and will be removed from pandas in a future version. Use pandas.concat instead.\n",
            "  df = df.append(pd.Series(tmp_list, index=new_columns), ignore_index=True)\n",
            "<ipython-input-23-f245c9584e39>:15: FutureWarning: The frame.append method is deprecated and will be removed from pandas in a future version. Use pandas.concat instead.\n",
            "  df = df.append(pd.Series(tmp_list, index=new_columns), ignore_index=True)\n",
            "<ipython-input-23-f245c9584e39>:15: FutureWarning: The frame.append method is deprecated and will be removed from pandas in a future version. Use pandas.concat instead.\n",
            "  df = df.append(pd.Series(tmp_list, index=new_columns), ignore_index=True)\n",
            "<ipython-input-23-f245c9584e39>:15: FutureWarning: The frame.append method is deprecated and will be removed from pandas in a future version. Use pandas.concat instead.\n",
            "  df = df.append(pd.Series(tmp_list, index=new_columns), ignore_index=True)\n",
            "<ipython-input-23-f245c9584e39>:15: FutureWarning: The frame.append method is deprecated and will be removed from pandas in a future version. Use pandas.concat instead.\n",
            "  df = df.append(pd.Series(tmp_list, index=new_columns), ignore_index=True)\n",
            "<ipython-input-23-f245c9584e39>:15: FutureWarning: The frame.append method is deprecated and will be removed from pandas in a future version. Use pandas.concat instead.\n",
            "  df = df.append(pd.Series(tmp_list, index=new_columns), ignore_index=True)\n",
            "<ipython-input-23-f245c9584e39>:15: FutureWarning: The frame.append method is deprecated and will be removed from pandas in a future version. Use pandas.concat instead.\n",
            "  df = df.append(pd.Series(tmp_list, index=new_columns), ignore_index=True)\n",
            "<ipython-input-23-f245c9584e39>:15: FutureWarning: The frame.append method is deprecated and will be removed from pandas in a future version. Use pandas.concat instead.\n",
            "  df = df.append(pd.Series(tmp_list, index=new_columns), ignore_index=True)\n",
            "<ipython-input-23-f245c9584e39>:15: FutureWarning: The frame.append method is deprecated and will be removed from pandas in a future version. Use pandas.concat instead.\n",
            "  df = df.append(pd.Series(tmp_list, index=new_columns), ignore_index=True)\n",
            "<ipython-input-23-f245c9584e39>:15: FutureWarning: The frame.append method is deprecated and will be removed from pandas in a future version. Use pandas.concat instead.\n",
            "  df = df.append(pd.Series(tmp_list, index=new_columns), ignore_index=True)\n",
            "<ipython-input-23-f245c9584e39>:15: FutureWarning: The frame.append method is deprecated and will be removed from pandas in a future version. Use pandas.concat instead.\n",
            "  df = df.append(pd.Series(tmp_list, index=new_columns), ignore_index=True)\n",
            "<ipython-input-23-f245c9584e39>:15: FutureWarning: The frame.append method is deprecated and will be removed from pandas in a future version. Use pandas.concat instead.\n",
            "  df = df.append(pd.Series(tmp_list, index=new_columns), ignore_index=True)\n",
            "<ipython-input-23-f245c9584e39>:15: FutureWarning: The frame.append method is deprecated and will be removed from pandas in a future version. Use pandas.concat instead.\n",
            "  df = df.append(pd.Series(tmp_list, index=new_columns), ignore_index=True)\n",
            "<ipython-input-23-f245c9584e39>:15: FutureWarning: The frame.append method is deprecated and will be removed from pandas in a future version. Use pandas.concat instead.\n",
            "  df = df.append(pd.Series(tmp_list, index=new_columns), ignore_index=True)\n",
            "<ipython-input-23-f245c9584e39>:15: FutureWarning: The frame.append method is deprecated and will be removed from pandas in a future version. Use pandas.concat instead.\n",
            "  df = df.append(pd.Series(tmp_list, index=new_columns), ignore_index=True)\n",
            "<ipython-input-23-f245c9584e39>:15: FutureWarning: The frame.append method is deprecated and will be removed from pandas in a future version. Use pandas.concat instead.\n",
            "  df = df.append(pd.Series(tmp_list, index=new_columns), ignore_index=True)\n",
            "<ipython-input-23-f245c9584e39>:15: FutureWarning: The frame.append method is deprecated and will be removed from pandas in a future version. Use pandas.concat instead.\n",
            "  df = df.append(pd.Series(tmp_list, index=new_columns), ignore_index=True)\n",
            "<ipython-input-23-f245c9584e39>:15: FutureWarning: The frame.append method is deprecated and will be removed from pandas in a future version. Use pandas.concat instead.\n",
            "  df = df.append(pd.Series(tmp_list, index=new_columns), ignore_index=True)\n"
          ]
        },
        {
          "output_type": "execute_result",
          "data": {
            "text/plain": [
              "        Area  Average_p  Average_d  Average_u\n",
              "0  E07000152  50.990687  21.246225   8.368110\n",
              "1  E07000220  51.959313  20.955865   8.392818\n",
              "2  E08000023  53.703684  21.948528   8.590669\n",
              "3  E07000071  52.668617  21.668433   8.612303\n",
              "4  E07000073  51.356562  20.586384   8.329669"
            ],
            "text/html": [
              "\n",
              "  <div id=\"df-97f4eb53-e752-47be-9f1a-4bd9923c70e0\" class=\"colab-df-container\">\n",
              "    <div>\n",
              "<style scoped>\n",
              "    .dataframe tbody tr th:only-of-type {\n",
              "        vertical-align: middle;\n",
              "    }\n",
              "\n",
              "    .dataframe tbody tr th {\n",
              "        vertical-align: top;\n",
              "    }\n",
              "\n",
              "    .dataframe thead th {\n",
              "        text-align: right;\n",
              "    }\n",
              "</style>\n",
              "<table border=\"1\" class=\"dataframe\">\n",
              "  <thead>\n",
              "    <tr style=\"text-align: right;\">\n",
              "      <th></th>\n",
              "      <th>Area</th>\n",
              "      <th>Average_p</th>\n",
              "      <th>Average_d</th>\n",
              "      <th>Average_u</th>\n",
              "    </tr>\n",
              "  </thead>\n",
              "  <tbody>\n",
              "    <tr>\n",
              "      <th>0</th>\n",
              "      <td>E07000152</td>\n",
              "      <td>50.990687</td>\n",
              "      <td>21.246225</td>\n",
              "      <td>8.368110</td>\n",
              "    </tr>\n",
              "    <tr>\n",
              "      <th>1</th>\n",
              "      <td>E07000220</td>\n",
              "      <td>51.959313</td>\n",
              "      <td>20.955865</td>\n",
              "      <td>8.392818</td>\n",
              "    </tr>\n",
              "    <tr>\n",
              "      <th>2</th>\n",
              "      <td>E08000023</td>\n",
              "      <td>53.703684</td>\n",
              "      <td>21.948528</td>\n",
              "      <td>8.590669</td>\n",
              "    </tr>\n",
              "    <tr>\n",
              "      <th>3</th>\n",
              "      <td>E07000071</td>\n",
              "      <td>52.668617</td>\n",
              "      <td>21.668433</td>\n",
              "      <td>8.612303</td>\n",
              "    </tr>\n",
              "    <tr>\n",
              "      <th>4</th>\n",
              "      <td>E07000073</td>\n",
              "      <td>51.356562</td>\n",
              "      <td>20.586384</td>\n",
              "      <td>8.329669</td>\n",
              "    </tr>\n",
              "  </tbody>\n",
              "</table>\n",
              "</div>\n",
              "    <div class=\"colab-df-buttons\">\n",
              "\n",
              "  <div class=\"colab-df-container\">\n",
              "    <button class=\"colab-df-convert\" onclick=\"convertToInteractive('df-97f4eb53-e752-47be-9f1a-4bd9923c70e0')\"\n",
              "            title=\"Convert this dataframe to an interactive table.\"\n",
              "            style=\"display:none;\">\n",
              "\n",
              "  <svg xmlns=\"http://www.w3.org/2000/svg\" height=\"24px\" viewBox=\"0 -960 960 960\">\n",
              "    <path d=\"M120-120v-720h720v720H120Zm60-500h600v-160H180v160Zm220 220h160v-160H400v160Zm0 220h160v-160H400v160ZM180-400h160v-160H180v160Zm440 0h160v-160H620v160ZM180-180h160v-160H180v160Zm440 0h160v-160H620v160Z\"/>\n",
              "  </svg>\n",
              "    </button>\n",
              "\n",
              "  <style>\n",
              "    .colab-df-container {\n",
              "      display:flex;\n",
              "      gap: 12px;\n",
              "    }\n",
              "\n",
              "    .colab-df-convert {\n",
              "      background-color: #E8F0FE;\n",
              "      border: none;\n",
              "      border-radius: 50%;\n",
              "      cursor: pointer;\n",
              "      display: none;\n",
              "      fill: #1967D2;\n",
              "      height: 32px;\n",
              "      padding: 0 0 0 0;\n",
              "      width: 32px;\n",
              "    }\n",
              "\n",
              "    .colab-df-convert:hover {\n",
              "      background-color: #E2EBFA;\n",
              "      box-shadow: 0px 1px 2px rgba(60, 64, 67, 0.3), 0px 1px 3px 1px rgba(60, 64, 67, 0.15);\n",
              "      fill: #174EA6;\n",
              "    }\n",
              "\n",
              "    .colab-df-buttons div {\n",
              "      margin-bottom: 4px;\n",
              "    }\n",
              "\n",
              "    [theme=dark] .colab-df-convert {\n",
              "      background-color: #3B4455;\n",
              "      fill: #D2E3FC;\n",
              "    }\n",
              "\n",
              "    [theme=dark] .colab-df-convert:hover {\n",
              "      background-color: #434B5C;\n",
              "      box-shadow: 0px 1px 3px 1px rgba(0, 0, 0, 0.15);\n",
              "      filter: drop-shadow(0px 1px 2px rgba(0, 0, 0, 0.3));\n",
              "      fill: #FFFFFF;\n",
              "    }\n",
              "  </style>\n",
              "\n",
              "    <script>\n",
              "      const buttonEl =\n",
              "        document.querySelector('#df-97f4eb53-e752-47be-9f1a-4bd9923c70e0 button.colab-df-convert');\n",
              "      buttonEl.style.display =\n",
              "        google.colab.kernel.accessAllowed ? 'block' : 'none';\n",
              "\n",
              "      async function convertToInteractive(key) {\n",
              "        const element = document.querySelector('#df-97f4eb53-e752-47be-9f1a-4bd9923c70e0');\n",
              "        const dataTable =\n",
              "          await google.colab.kernel.invokeFunction('convertToInteractive',\n",
              "                                                    [key], {});\n",
              "        if (!dataTable) return;\n",
              "\n",
              "        const docLinkHtml = 'Like what you see? Visit the ' +\n",
              "          '<a target=\"_blank\" href=https://colab.research.google.com/notebooks/data_table.ipynb>data table notebook</a>'\n",
              "          + ' to learn more about interactive tables.';\n",
              "        element.innerHTML = '';\n",
              "        dataTable['output_type'] = 'display_data';\n",
              "        await google.colab.output.renderOutput(dataTable, element);\n",
              "        const docLink = document.createElement('div');\n",
              "        docLink.innerHTML = docLinkHtml;\n",
              "        element.appendChild(docLink);\n",
              "      }\n",
              "    </script>\n",
              "  </div>\n",
              "\n",
              "\n",
              "<div id=\"df-4b7e8c74-b39e-4090-85d7-e464745aae20\">\n",
              "  <button class=\"colab-df-quickchart\" onclick=\"quickchart('df-4b7e8c74-b39e-4090-85d7-e464745aae20')\"\n",
              "            title=\"Suggest charts\"\n",
              "            style=\"display:none;\">\n",
              "\n",
              "<svg xmlns=\"http://www.w3.org/2000/svg\" height=\"24px\"viewBox=\"0 0 24 24\"\n",
              "     width=\"24px\">\n",
              "    <g>\n",
              "        <path d=\"M19 3H5c-1.1 0-2 .9-2 2v14c0 1.1.9 2 2 2h14c1.1 0 2-.9 2-2V5c0-1.1-.9-2-2-2zM9 17H7v-7h2v7zm4 0h-2V7h2v10zm4 0h-2v-4h2v4z\"/>\n",
              "    </g>\n",
              "</svg>\n",
              "  </button>\n",
              "\n",
              "<style>\n",
              "  .colab-df-quickchart {\n",
              "      --bg-color: #E8F0FE;\n",
              "      --fill-color: #1967D2;\n",
              "      --hover-bg-color: #E2EBFA;\n",
              "      --hover-fill-color: #174EA6;\n",
              "      --disabled-fill-color: #AAA;\n",
              "      --disabled-bg-color: #DDD;\n",
              "  }\n",
              "\n",
              "  [theme=dark] .colab-df-quickchart {\n",
              "      --bg-color: #3B4455;\n",
              "      --fill-color: #D2E3FC;\n",
              "      --hover-bg-color: #434B5C;\n",
              "      --hover-fill-color: #FFFFFF;\n",
              "      --disabled-bg-color: #3B4455;\n",
              "      --disabled-fill-color: #666;\n",
              "  }\n",
              "\n",
              "  .colab-df-quickchart {\n",
              "    background-color: var(--bg-color);\n",
              "    border: none;\n",
              "    border-radius: 50%;\n",
              "    cursor: pointer;\n",
              "    display: none;\n",
              "    fill: var(--fill-color);\n",
              "    height: 32px;\n",
              "    padding: 0;\n",
              "    width: 32px;\n",
              "  }\n",
              "\n",
              "  .colab-df-quickchart:hover {\n",
              "    background-color: var(--hover-bg-color);\n",
              "    box-shadow: 0 1px 2px rgba(60, 64, 67, 0.3), 0 1px 3px 1px rgba(60, 64, 67, 0.15);\n",
              "    fill: var(--button-hover-fill-color);\n",
              "  }\n",
              "\n",
              "  .colab-df-quickchart-complete:disabled,\n",
              "  .colab-df-quickchart-complete:disabled:hover {\n",
              "    background-color: var(--disabled-bg-color);\n",
              "    fill: var(--disabled-fill-color);\n",
              "    box-shadow: none;\n",
              "  }\n",
              "\n",
              "  .colab-df-spinner {\n",
              "    border: 2px solid var(--fill-color);\n",
              "    border-color: transparent;\n",
              "    border-bottom-color: var(--fill-color);\n",
              "    animation:\n",
              "      spin 1s steps(1) infinite;\n",
              "  }\n",
              "\n",
              "  @keyframes spin {\n",
              "    0% {\n",
              "      border-color: transparent;\n",
              "      border-bottom-color: var(--fill-color);\n",
              "      border-left-color: var(--fill-color);\n",
              "    }\n",
              "    20% {\n",
              "      border-color: transparent;\n",
              "      border-left-color: var(--fill-color);\n",
              "      border-top-color: var(--fill-color);\n",
              "    }\n",
              "    30% {\n",
              "      border-color: transparent;\n",
              "      border-left-color: var(--fill-color);\n",
              "      border-top-color: var(--fill-color);\n",
              "      border-right-color: var(--fill-color);\n",
              "    }\n",
              "    40% {\n",
              "      border-color: transparent;\n",
              "      border-right-color: var(--fill-color);\n",
              "      border-top-color: var(--fill-color);\n",
              "    }\n",
              "    60% {\n",
              "      border-color: transparent;\n",
              "      border-right-color: var(--fill-color);\n",
              "    }\n",
              "    80% {\n",
              "      border-color: transparent;\n",
              "      border-right-color: var(--fill-color);\n",
              "      border-bottom-color: var(--fill-color);\n",
              "    }\n",
              "    90% {\n",
              "      border-color: transparent;\n",
              "      border-bottom-color: var(--fill-color);\n",
              "    }\n",
              "  }\n",
              "</style>\n",
              "\n",
              "  <script>\n",
              "    async function quickchart(key) {\n",
              "      const quickchartButtonEl =\n",
              "        document.querySelector('#' + key + ' button');\n",
              "      quickchartButtonEl.disabled = true;  // To prevent multiple clicks.\n",
              "      quickchartButtonEl.classList.add('colab-df-spinner');\n",
              "      try {\n",
              "        const charts = await google.colab.kernel.invokeFunction(\n",
              "            'suggestCharts', [key], {});\n",
              "      } catch (error) {\n",
              "        console.error('Error during call to suggestCharts:', error);\n",
              "      }\n",
              "      quickchartButtonEl.classList.remove('colab-df-spinner');\n",
              "      quickchartButtonEl.classList.add('colab-df-quickchart-complete');\n",
              "    }\n",
              "    (() => {\n",
              "      let quickchartButtonEl =\n",
              "        document.querySelector('#df-4b7e8c74-b39e-4090-85d7-e464745aae20 button');\n",
              "      quickchartButtonEl.style.display =\n",
              "        google.colab.kernel.accessAllowed ? 'block' : 'none';\n",
              "    })();\n",
              "  </script>\n",
              "</div>\n",
              "    </div>\n",
              "  </div>\n"
            ],
            "application/vnd.google.colaboratory.intrinsic+json": {
              "type": "dataframe",
              "variable_name": "df",
              "summary": "{\n  \"name\": \"df\",\n  \"rows\": 326,\n  \"fields\": [\n    {\n      \"column\": \"Area\",\n      \"properties\": {\n        \"dtype\": \"string\",\n        \"num_unique_values\": 326,\n        \"samples\": [\n          \"E07000039\",\n          \"E08000019\",\n          \"E07000144\"\n        ],\n        \"semantic_type\": \"\",\n        \"description\": \"\"\n      }\n    },\n    {\n      \"column\": \"Average_p\",\n      \"properties\": {\n        \"dtype\": \"number\",\n        \"std\": 3.665454885989212,\n        \"min\": 0.0,\n        \"max\": 70.6552569360619,\n        \"num_unique_values\": 326,\n        \"samples\": [\n          52.89149539323506,\n          60.55415829103199,\n          51.6305715971796\n        ],\n        \"semantic_type\": \"\",\n        \"description\": \"\"\n      }\n    },\n    {\n      \"column\": \"Average_d\",\n      \"properties\": {\n        \"dtype\": \"number\",\n        \"std\": 1.608298095579424,\n        \"min\": 0.0,\n        \"max\": 29.73220742912969,\n        \"num_unique_values\": 326,\n        \"samples\": [\n          21.643021035190696,\n          25.65179917190344,\n          21.775360156301744\n        ],\n        \"semantic_type\": \"\",\n        \"description\": \"\"\n      }\n    },\n    {\n      \"column\": \"Average_u\",\n      \"properties\": {\n        \"dtype\": \"number\",\n        \"std\": 0.6320794759695996,\n        \"min\": 0.0,\n        \"max\": 12.026212175119097,\n        \"num_unique_values\": 326,\n        \"samples\": [\n          8.36625636806896,\n          10.051627196630962,\n          8.498304239305968\n        ],\n        \"semantic_type\": \"\",\n        \"description\": \"\"\n      }\n    }\n  ]\n}"
            }
          },
          "metadata": {},
          "execution_count": 23
        }
      ],
      "source": [
        "# Code Cell 19\n",
        "# this will take a while...\n",
        "for i in range(len(columns)-1): #EDL : replace xrange with range\n",
        "    tmp_list = []\n",
        "    tmp_list.append(columns[i])\n",
        "    for s in suffix.keys():\n",
        "        query = 'SELECT AVG(\"{}{}\") FROM LA_wifi_speed_UK'.format(columns[i], s)\n",
        "\n",
        "\n",
        "        cur.execute(query)\n",
        "\n",
        "        mean = cur.fetchone()\n",
        "        tmp_list.append(mean[0])\n",
        "    #append the columns to the empty DataFrame\n",
        "    df = df.append(pd.Series(tmp_list, index=new_columns), ignore_index=True)\n",
        "df.head()\n"
      ]
    },
    {
      "cell_type": "markdown",
      "metadata": {
        "id": "c21CbYTfLMio"
      },
      "source": [
        "It is possible to visualize the averages for each area using `plot()`. This will show whether the average speed is the same throughout the different areas or not."
      ]
    },
    {
      "cell_type": "code",
      "execution_count": 24,
      "metadata": {
        "collapsed": true,
        "colab": {
          "base_uri": "https://localhost:8080/",
          "height": 683
        },
        "id": "CBtSeiVFLMio",
        "outputId": "17570fb2-47f6-42ce-9376-445a92430b11"
      },
      "outputs": [
        {
          "output_type": "execute_result",
          "data": {
            "text/plain": [
              "<matplotlib.legend.Legend at 0x7ce783a77e20>"
            ]
          },
          "metadata": {},
          "execution_count": 24
        },
        {
          "output_type": "display_data",
          "data": {
            "text/plain": [
              "<Figure size 2000x1000 with 1 Axes>"
            ],
            "image/png": "[encoded data removed]"
          },
          "metadata": {}
        }
      ],
      "source": [
        "# Code Cell 20\n",
        "plt.figure(figsize=(20,10))\n",
        "plt.plot(df.index, df[['Average_d','Average_u','Average_p']], 'o')\n",
        "plt.legend(['Average Download', 'Average Upload', 'Average ping'])"
      ]
    },
    {
      "cell_type": "markdown",
      "metadata": {
        "id": "b3r993RxLMio"
      },
      "source": [
        "Now the average speeds are stored in a Pandas dataframe. It might be useful to save them to a table in our database, and Pandas offers a method (`to_sql()`) to do so.\n",
        "We will first check whether the table already exists (this might create problems). If it exists, we want to drop it, and then create it. Otherwise we will directly create it.\n",
        "\n",
        "The construct `try... except` will capture the exception raised in case the table does not exist, and proceed to the creation of the table (for help, see Section 8.3 of https://docs.python.org/2.7/tutorial/errors.html).\n",
        "\n",
        "###### c) Save the work.\n",
        "Save the new dataframe to a table in the InternetSpeed database."
      ]
    },
    {
      "cell_type": "code",
      "execution_count": 25,
      "metadata": {
        "collapsed": true,
        "colab": {
          "base_uri": "https://localhost:8080/"
        },
        "id": "aqDamnirLMip",
        "outputId": "cd43e7b6-2825-4d45-93d3-ccf2eef1a380"
      },
      "outputs": [
        {
          "output_type": "execute_result",
          "data": {
            "text/plain": [
              "326"
            ]
          },
          "metadata": {},
          "execution_count": 25
        }
      ],
      "source": [
        "# Code Cell 21\n",
        "# Make sure to drop the table first if it already exists\n",
        "try:\n",
        "    cur.execute('DROP TABLE average_speed')\n",
        "except:\n",
        "    pass\n",
        "\n",
        "# what is the name of the table you want to save? To what connection?\n",
        "# Save the dataframe table into a SQL table\n",
        "df.to_sql('average_speed', conn)\n"
      ]
    },
    {
      "cell_type": "code",
      "execution_count": 26,
      "metadata": {
        "collapsed": true,
        "colab": {
          "base_uri": "https://localhost:8080/"
        },
        "id": "xb6aP07oLMip",
        "outputId": "a92a72df-96fc-4473-ab53-9b73b62d8baa"
      },
      "outputs": [
        {
          "output_type": "stream",
          "name": "stdout",
          "text": [
            "(0, 'E07000152', 50.990686917588334, 21.246225447706088, 8.368110406756276)\n",
            "(1, 'E07000220', 51.95931292881212, 20.955865313787704, 8.392817593175852)\n"
          ]
        }
      ],
      "source": [
        "# Code Cell 22\n",
        "# just checking everything worked fine: select everything from the table we just created\n",
        "# and then print the first two rows of the result\n",
        "\n",
        "query_2 = 'SELECT * FROM average_speed'\n",
        "cur.execute(query_2)\n",
        "\n",
        "# print the first fetched record\n",
        "print(cur.fetchone())\n",
        "# print the next fetched record\n",
        "print(cur.fetchone())"
      ]
    },
    {
      "cell_type": "markdown",
      "metadata": {
        "id": "XoKwJIy6LMip"
      },
      "source": [
        "## Part 4: Join Tables\n",
        "\n",
        "To understand why and how the average Internet speed changes around the areas, we need more information about them. In particular, we are interested in how populated they are, to see if a crowded area has better or worse Internet service.\n",
        "\n",
        "#### Step 1: Get relevant information.\n",
        "This information can be found in this file:\n",
        "\n",
        "    ./Data/LA_population.csv\n",
        "    \n",
        "Here, LA stands for Local Authority, rather than Los Angeles.\n",
        "We want to join the information contained in this file with the average speed computed earlier.\n",
        "First, create a new table and store this data in the InternetSpeed database.\n",
        "\n",
        "###### a) Create the population table.\n",
        "Using csvsql, import the file LA_population.csv into the InternetSpeed database. Repeat the steps done to create the other tables in the database."
      ]
    },
    {
      "cell_type": "code",
      "execution_count": 27,
      "metadata": {
        "collapsed": true,
        "id": "yjsjGQ-cLMiq"
      },
      "outputs": [],
      "source": [
        "# Code Cell 23\n",
        "#first close the database file, otherwise the external csvsql command cannot use\n",
        "conn.close()"
      ]
    },
    {
      "cell_type": "code",
      "execution_count": 30,
      "metadata": {
        "collapsed": true,
        "id": "z-2-ex9mLMiq"
      },
      "outputs": [],
      "source": [
        "# Code Cell 24\n",
        "# use the external csvsql command to add to the DB file data from the CSV file\n",
        "!csvsql --db sqlite:///InternetSpeed.db --insert ./Data/LA_population.csv\n",
        "\n"
      ]
    },
    {
      "cell_type": "code",
      "execution_count": 31,
      "metadata": {
        "collapsed": true,
        "id": "xkXDKonqLMir"
      },
      "outputs": [],
      "source": [
        "# Code Cell 25\n",
        "#reopen the DB file\n",
        "conn = sqlite3.connect('InternetSpeed.db')\n",
        "\n",
        "\n",
        "cur = conn.cursor()"
      ]
    },
    {
      "cell_type": "markdown",
      "metadata": {
        "id": "j6CZ952KLMir"
      },
      "source": [
        "###### b) Test that everything worked.\n",
        "To test that everything worked and to have an idea of what is inside this new table, select the first 10 rows and print them."
      ]
    },
    {
      "cell_type": "code",
      "execution_count": 32,
      "metadata": {
        "collapsed": true,
        "colab": {
          "base_uri": "https://localhost:8080/"
        },
        "id": "tePkG4JALMir",
        "outputId": "2baec5c5-bd0d-4cd9-9e1c-2c5ff0c65ce3"
      },
      "outputs": [
        {
          "output_type": "stream",
          "name": "stdout",
          "text": [
            "('Aberdeen City', 'S12000033', 222793.0)\n",
            "('Aberdeenshire', 'S12000034', 252973.0)\n",
            "('Adur', 'E07000223', 61182.0)\n",
            "('Allerdale', 'E07000026', 96422.0)\n",
            "('Amber Valley', 'E07000032', 122309.0)\n",
            "('Angus', 'S12000041', 115978.0)\n",
            "('Antrim and Newtownabbey', 'N09000001', 138567.0)\n",
            "('Ards and North Down', 'N09000011', 156672.0)\n",
            "('Argyll and Bute', 'S12000035', 88166.0)\n",
            "('Armagh City, Banbridge and Craigavon', 'N09000002', 199693.0)\n"
          ]
        }
      ],
      "source": [
        "# Code Cell 26\n",
        "query = 'SELECT * FROM LA_population LIMIT 10'\n",
        "\n",
        "\n",
        "cur.execute(query)\n",
        "\n",
        "\n",
        "\n",
        "for row in cur:\n",
        "    print(row)\n"
      ]
    },
    {
      "cell_type": "markdown",
      "metadata": {
        "id": "M69IFFlZLMis"
      },
      "source": [
        "We can join the two tables in order to have all the information needed. The idea is that the two tables have a field in common, the area name. This is the key on which we want to join. It means that we want a new table that has a row for each area name that contains both the average speed information and the geographical information. The way SQL does this is comparing row by row, and merging together the rows with the same value for the key (i.e., the same area name).\n",
        "\n",
        "###### c) Execute the JOIN query and print the first 10 rows of the result."
      ]
    },
    {
      "cell_type": "code",
      "execution_count": 33,
      "metadata": {
        "collapsed": true,
        "colab": {
          "base_uri": "https://localhost:8080/"
        },
        "id": "w16E-abNLMis",
        "outputId": "56e55012-489c-4df5-e65f-dc455bce6df3"
      },
      "outputs": [
        {
          "output_type": "stream",
          "name": "stdout",
          "text": [
            "(0, 'E07000152', 50.990686917588334, 21.246225447706088, 8.368110406756276, 'East Northamptonshire', 'E07000152', 86765.0)\n",
            "(1, 'E07000220', 51.95931292881212, 20.955865313787704, 8.392817593175852, 'Rugby', 'E07000220', 100075.0)\n",
            "(2, 'E08000023', 53.70368358962945, 21.948527694159363, 8.59066876269247, 'South Tyneside', 'E08000023', 148127.0)\n",
            "(3, 'E07000071', 52.668617329503476, 21.668433389357574, 8.612302838732509, 'Colchester', 'E07000071', 173074.0)\n",
            "(4, 'E07000073', 51.35656183994717, 20.586384224104922, 8.329668767438395, 'Harlow', 'E07000073', 81944.0)\n",
            "(5, 'E07000028', 50.649952141487454, 21.29549435054819, 8.31296092107688, 'Carlisle', 'E07000028', 107524.0)\n",
            "(6, 'E07000166', 52.043760575822525, 21.22436973777216, 8.20568533333299, 'Richmondshire', 'E07000166', 51965.0)\n",
            "(7, 'E06000031', 54.16505289728396, 21.802623564023044, 8.685551472508267, 'Peterborough', 'E06000031', 183631.0)\n",
            "(8, 'E06000051', 56.017898540716466, 23.73914263223604, 9.195576153773677, 'Shropshire', 'E06000051', 306129.0)\n",
            "(9, 'E06000037', 53.91816230847571, 21.82901113889881, 8.601929503891556, 'West Berkshire', 'E06000037', 153822.0)\n",
            "(10, 'E07000217', 51.964445884079204, 21.464056964759553, 8.387789678907655, 'Woking', 'E07000217', 99198.0)\n"
          ]
        }
      ],
      "source": [
        "# Code Cell 27\n",
        "query = 'SELECT * FROM average_speed JOIN LA_population ON LA_population.\"LA_code\"=average_speed.Area'\n",
        "\n",
        "cur.execute(query)\n",
        "k = 0\n",
        "for row in cur:\n",
        "    if k>10:\n",
        "        break\n",
        "    print(row)\n",
        "\n",
        "\n",
        "\n",
        "    k+=1"
      ]
    },
    {
      "cell_type": "markdown",
      "source": [
        "\n",
        "\n",
        "---\n",
        "\n",
        "ОТВЕТЫ НА ВОПРОСЫ:\n",
        "1. Что такое csvsql, как она работает?\n",
        "\n",
        "Генерирует SQL запросы для создания баз данных.\n",
        "\n",
        "2. Можно ли объединить таблицы в базе данных, как это сделать?\n",
        "\n",
        "Объединение осуществляется встроенной функцией SQL - JOIN\n",
        "\n",
        "3. Какой метод Pandas позволяет добавлять информацию в базу данных?\n",
        "\n",
        "Метод to_sql(...)\n",
        "\n",
        "4. Что делает метод fetchall ()?\n",
        "\n",
        "Возвращает список всех строк полученных при запросе к БД\n",
        "\n",
        "5. Почему для обработки данных используется библиотека Pandas, можно ли выполнить такую же обработку другим способом?\n",
        "\n",
        "Pandas имеет удобное и готовое API для работы с данными. Без использования этой библиотеки пришлось бы преобразовывать полученные строки с БД в структуры питона для дальнейшей передачи в библиотеку matplotlib."
      ],
      "metadata": {
        "id": "L4H65IT4OBbp"
      }
    },
    {
      "cell_type": "markdown",
      "metadata": {
        "collapsed": true,
        "id": "Ty-_dgfILMit"
      },
      "source": [
        "<font size='0.5'>&copy; 2017 Cisco and/or its affiliates. All rights reserved. This document is Cisco Public.<font>"
      ]
    }
  ],
  "metadata": {
    "anaconda-cloud": {},
    "kernelspec": {
      "display_name": "Python 3",
      "language": "python",
      "name": "python3"
    },
    "language_info": {
      "codemirror_mode": {
        "name": "ipython",
        "version": 3
      },
      "file_extension": ".py",
      "mimetype": "text/x-python",
      "name": "python",
      "nbconvert_exporter": "python",
      "pygments_lexer": "ipython3",
      "version": "3.6.0"
    },
    "colab": {
      "provenance": []
    }
  },
  "nbformat": 4,
  "nbformat_minor": 0
}